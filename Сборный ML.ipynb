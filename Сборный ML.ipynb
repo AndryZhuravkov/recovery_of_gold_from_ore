{
 "cells": [
  {
   "cell_type": "markdown",
   "metadata": {
    "toc": true
   },
   "source": [
    "<h1>Содержание<span class=\"tocSkip\"></span></h1>\n",
    "<div class=\"toc\"><ul class=\"toc-item\"><li><span><a href=\"#Подготовка-данных\" data-toc-modified-id=\"Подготовка-данных-1\"><span class=\"toc-item-num\">1&nbsp;&nbsp;</span>Подготовка данных</a></span></li><li><span><a href=\"#Анализ-данных\" data-toc-modified-id=\"Анализ-данных-2\"><span class=\"toc-item-num\">2&nbsp;&nbsp;</span>Анализ данных</a></span></li><li><span><a href=\"#Модель\" data-toc-modified-id=\"Модель-3\"><span class=\"toc-item-num\">3&nbsp;&nbsp;</span>Модель</a></span></li><li><span><a href=\"#Чек-лист-готовности-проекта\" data-toc-modified-id=\"Чек-лист-готовности-проекта-4\"><span class=\"toc-item-num\">4&nbsp;&nbsp;</span>Чек-лист готовности проекта</a></span></li></ul></div>"
   ]
  },
  {
   "cell_type": "markdown",
   "metadata": {},
   "source": [
    "# Восстановление золота из руды"
   ]
  },
  {
   "cell_type": "markdown",
   "metadata": {},
   "source": [
    "Подготовьте прототип модели машинного обучения для «Цифры». Компания разрабатывает решения для эффективной работы промышленных предприятий.\n",
    "\n",
    "Модель должна предсказать коэффициент восстановления золота из золотосодержащей руды. Используйте данные с параметрами добычи и очистки. \n",
    "\n",
    "Модель поможет оптимизировать производство, чтобы не запускать предприятие с убыточными характеристиками.\n",
    "\n",
    "Вам нужно:\n",
    "\n",
    "1. Подготовить данные;\n",
    "2. Провести исследовательский анализ данных;\n",
    "3. Построить и обучить модель.\n",
    "\n",
    "Нужно спрогнозировать сразу две величины:\n",
    "эффективность обогащения чернового концентрата rougher.output.recovery;\n",
    "эффективность обогащения финального концентрата final.output.recovery."
   ]
  },
  {
   "cell_type": "markdown",
   "metadata": {},
   "source": [
    "## Подготовка данных"
   ]
  },
  {
   "cell_type": "code",
   "execution_count": 1,
   "metadata": {},
   "outputs": [],
   "source": [
    "import pandas as pd\n",
    "import matplotlib.pyplot as plt\n",
    "import seaborn as sns\n",
    "import numpy as np\n",
    "from sklearn.model_selection import train_test_split, GridSearchCV\n",
    "from sklearn.linear_model import LinearRegression\n",
    "from sklearn.tree import DecisionTreeRegressor\n",
    "from catboost import CatBoostRegressor\n",
    "from sklearn.impute import KNNImputer\n",
    "from sklearn.metrics import make_scorer\n",
    "from scipy import stats as st\n",
    "from sklearn.metrics import mean_absolute_error as mae\n",
    "\n",
    "import warnings"
   ]
  },
  {
   "cell_type": "code",
   "execution_count": 2,
   "metadata": {},
   "outputs": [],
   "source": [
    "warnings.filterwarnings('ignore')"
   ]
  },
  {
   "cell_type": "code",
   "execution_count": 3,
   "metadata": {},
   "outputs": [],
   "source": [
    "pd.set_option('display.max_columns', None)"
   ]
  },
  {
   "cell_type": "code",
   "execution_count": 4,
   "metadata": {},
   "outputs": [],
   "source": [
    "train = pd.read_csv(r'C:\\Users\\ah371\\Desktop\\резюме\\Проекты\\Сборный ML\\gold_industry_full.csv') \n",
    "test = pd.read_csv(r'C:\\Users\\ah371\\Desktop\\резюме\\Проекты\\Сборный ML\\gold_industry_test.csv')\n",
    "full = pd.read_csv(r'C:\\Users\\ah371\\Desktop\\резюме\\Проекты\\Сборный ML\\gold_industry_full.csv')"
   ]
  },
  {
   "cell_type": "code",
   "execution_count": 5,
   "metadata": {},
   "outputs": [
    {
     "name": "stdout",
     "output_type": "stream",
     "text": [
      "(19439, 87)\n",
      "(19439, 87)\n",
      "(4860, 53)\n"
     ]
    }
   ],
   "source": [
    "print(full.shape)\n",
    "print(train.shape)\n",
    "print(test.shape)"
   ]
  },
  {
   "cell_type": "markdown",
   "metadata": {},
   "source": [
    "В тестовой выборке нет некоторых данных."
   ]
  },
  {
   "cell_type": "code",
   "execution_count": 6,
   "metadata": {},
   "outputs": [
    {
     "data": {
      "text/html": [
       "<div>\n",
       "<style scoped>\n",
       "    .dataframe tbody tr th:only-of-type {\n",
       "        vertical-align: middle;\n",
       "    }\n",
       "\n",
       "    .dataframe tbody tr th {\n",
       "        vertical-align: top;\n",
       "    }\n",
       "\n",
       "    .dataframe thead th {\n",
       "        text-align: right;\n",
       "    }\n",
       "</style>\n",
       "<table border=\"1\" class=\"dataframe\">\n",
       "  <thead>\n",
       "    <tr style=\"text-align: right;\">\n",
       "      <th></th>\n",
       "      <th>rougher.input.feed_au</th>\n",
       "      <th>rougher.input.feed_ag</th>\n",
       "      <th>rougher.input.feed_pb</th>\n",
       "      <th>rougher.input.feed_sol</th>\n",
       "      <th>rougher.input.feed_rate</th>\n",
       "      <th>rougher.input.feed_size</th>\n",
       "      <th>rougher.input.floatbank10_sulfate</th>\n",
       "      <th>rougher.input.floatbank10_xanthate</th>\n",
       "      <th>rougher.state.floatbank10_a_air</th>\n",
       "      <th>rougher.state.floatbank10_a_level</th>\n",
       "      <th>rougher.state.floatbank10_b_air</th>\n",
       "      <th>rougher.state.floatbank10_b_level</th>\n",
       "      <th>rougher.state.floatbank10_c_air</th>\n",
       "      <th>rougher.state.floatbank10_c_level</th>\n",
       "      <th>rougher.state.floatbank10_d_air</th>\n",
       "      <th>rougher.state.floatbank10_d_level</th>\n",
       "      <th>rougher.state.floatbank10_e_air</th>\n",
       "      <th>rougher.state.floatbank10_e_level</th>\n",
       "      <th>rougher.state.floatbank10_f_air</th>\n",
       "      <th>rougher.state.floatbank10_f_level</th>\n",
       "      <th>rougher.input.floatbank11_sulfate</th>\n",
       "      <th>rougher.input.floatbank11_xanthate</th>\n",
       "      <th>rougher.calculation.sulfate_to_au_concentrate</th>\n",
       "      <th>rougher.calculation.floatbank10_sulfate_to_au_feed</th>\n",
       "      <th>rougher.calculation.floatbank11_sulfate_to_au_feed</th>\n",
       "      <th>rougher.calculation.au_pb_ratio</th>\n",
       "      <th>rougher.output.concentrate_au</th>\n",
       "      <th>rougher.output.concentrate_ag</th>\n",
       "      <th>rougher.output.concentrate_pb</th>\n",
       "      <th>rougher.output.concentrate_sol</th>\n",
       "      <th>rougher.output.recovery</th>\n",
       "      <th>rougher.output.tail_au</th>\n",
       "      <th>rougher.output.tail_ag</th>\n",
       "      <th>rougher.output.tail_pb</th>\n",
       "      <th>rougher.output.tail_sol</th>\n",
       "      <th>primary_cleaner.input.sulfate</th>\n",
       "      <th>primary_cleaner.input.depressant</th>\n",
       "      <th>primary_cleaner.input.feed_size</th>\n",
       "      <th>primary_cleaner.input.xanthate</th>\n",
       "      <th>primary_cleaner.state.floatbank8_a_air</th>\n",
       "      <th>primary_cleaner.state.floatbank8_a_level</th>\n",
       "      <th>primary_cleaner.state.floatbank8_b_air</th>\n",
       "      <th>primary_cleaner.state.floatbank8_b_level</th>\n",
       "      <th>primary_cleaner.state.floatbank8_c_air</th>\n",
       "      <th>primary_cleaner.state.floatbank8_c_level</th>\n",
       "      <th>primary_cleaner.state.floatbank8_d_air</th>\n",
       "      <th>primary_cleaner.state.floatbank8_d_level</th>\n",
       "      <th>primary_cleaner.output.concentrate_au</th>\n",
       "      <th>primary_cleaner.output.concentrate_ag</th>\n",
       "      <th>primary_cleaner.output.concentrate_pb</th>\n",
       "      <th>primary_cleaner.output.concentrate_sol</th>\n",
       "      <th>primary_cleaner.output.tail_au</th>\n",
       "      <th>primary_cleaner.output.tail_ag</th>\n",
       "      <th>primary_cleaner.output.tail_pb</th>\n",
       "      <th>primary_cleaner.output.tail_sol</th>\n",
       "      <th>secondary_cleaner.state.floatbank2_a_air</th>\n",
       "      <th>secondary_cleaner.state.floatbank2_a_level</th>\n",
       "      <th>secondary_cleaner.state.floatbank2_b_air</th>\n",
       "      <th>secondary_cleaner.state.floatbank2_b_level</th>\n",
       "      <th>secondary_cleaner.state.floatbank3_a_air</th>\n",
       "      <th>secondary_cleaner.state.floatbank3_a_level</th>\n",
       "      <th>secondary_cleaner.state.floatbank3_b_air</th>\n",
       "      <th>secondary_cleaner.state.floatbank3_b_level</th>\n",
       "      <th>secondary_cleaner.state.floatbank4_a_air</th>\n",
       "      <th>secondary_cleaner.state.floatbank4_a_level</th>\n",
       "      <th>secondary_cleaner.state.floatbank4_b_air</th>\n",
       "      <th>secondary_cleaner.state.floatbank4_b_level</th>\n",
       "      <th>secondary_cleaner.state.floatbank5_a_air</th>\n",
       "      <th>secondary_cleaner.state.floatbank5_a_level</th>\n",
       "      <th>secondary_cleaner.state.floatbank5_b_air</th>\n",
       "      <th>secondary_cleaner.state.floatbank5_b_level</th>\n",
       "      <th>secondary_cleaner.state.floatbank6_a_air</th>\n",
       "      <th>secondary_cleaner.state.floatbank6_a_level</th>\n",
       "      <th>secondary_cleaner.output.tail_au</th>\n",
       "      <th>secondary_cleaner.output.tail_ag</th>\n",
       "      <th>secondary_cleaner.output.tail_pb</th>\n",
       "      <th>secondary_cleaner.output.tail_sol</th>\n",
       "      <th>final.output.concentrate_au</th>\n",
       "      <th>final.output.concentrate_ag</th>\n",
       "      <th>final.output.concentrate_pb</th>\n",
       "      <th>final.output.concentrate_sol</th>\n",
       "      <th>final.output.recovery</th>\n",
       "      <th>final.output.tail_au</th>\n",
       "      <th>final.output.tail_ag</th>\n",
       "      <th>final.output.tail_pb</th>\n",
       "      <th>final.output.tail_sol</th>\n",
       "    </tr>\n",
       "  </thead>\n",
       "  <tbody>\n",
       "    <tr>\n",
       "      <th>count</th>\n",
       "      <td>19439.000000</td>\n",
       "      <td>19439.000000</td>\n",
       "      <td>19339.000000</td>\n",
       "      <td>19340.000000</td>\n",
       "      <td>19428.000000</td>\n",
       "      <td>19294.000000</td>\n",
       "      <td>19405.000000</td>\n",
       "      <td>19431.000000</td>\n",
       "      <td>19438.000000</td>\n",
       "      <td>19438.000000</td>\n",
       "      <td>19438.000000</td>\n",
       "      <td>19438.000000</td>\n",
       "      <td>19438.000000</td>\n",
       "      <td>19438.000000</td>\n",
       "      <td>19439.000000</td>\n",
       "      <td>19439.000000</td>\n",
       "      <td>19003.000000</td>\n",
       "      <td>19439.000000</td>\n",
       "      <td>19439.000000</td>\n",
       "      <td>19439.000000</td>\n",
       "      <td>19395.000000</td>\n",
       "      <td>18986.000000</td>\n",
       "      <td>1.943700e+04</td>\n",
       "      <td>19437.000000</td>\n",
       "      <td>19437.000000</td>\n",
       "      <td>19439.000000</td>\n",
       "      <td>19439.000000</td>\n",
       "      <td>19439.000000</td>\n",
       "      <td>19439.000000</td>\n",
       "      <td>19416.000000</td>\n",
       "      <td>19439.000000</td>\n",
       "      <td>19439.000000</td>\n",
       "      <td>19438.000000</td>\n",
       "      <td>19439.000000</td>\n",
       "      <td>19439.000000</td>\n",
       "      <td>19415.000000</td>\n",
       "      <td>19402.000000</td>\n",
       "      <td>19439.000000</td>\n",
       "      <td>19335.000000</td>\n",
       "      <td>1.943500e+04</td>\n",
       "      <td>19438.000000</td>\n",
       "      <td>1.943500e+04</td>\n",
       "      <td>19438.000000</td>\n",
       "      <td>1.943700e+04</td>\n",
       "      <td>19438.000000</td>\n",
       "      <td>1.943600e+04</td>\n",
       "      <td>19438.000000</td>\n",
       "      <td>19439.000000</td>\n",
       "      <td>19439.000000</td>\n",
       "      <td>19323.000000</td>\n",
       "      <td>19069.000000</td>\n",
       "      <td>19439.000000</td>\n",
       "      <td>19435.000000</td>\n",
       "      <td>19418.000000</td>\n",
       "      <td>19377.000000</td>\n",
       "      <td>19219.000000</td>\n",
       "      <td>19438.000000</td>\n",
       "      <td>19416.000000</td>\n",
       "      <td>19438.000000</td>\n",
       "      <td>19426.000000</td>\n",
       "      <td>19438.000000</td>\n",
       "      <td>19438.000000</td>\n",
       "      <td>19438.000000</td>\n",
       "      <td>19433.000000</td>\n",
       "      <td>19438.000000</td>\n",
       "      <td>19438.000000</td>\n",
       "      <td>19438.000000</td>\n",
       "      <td>19438.000000</td>\n",
       "      <td>19438.000000</td>\n",
       "      <td>19438.000000</td>\n",
       "      <td>19438.000000</td>\n",
       "      <td>19437.000000</td>\n",
       "      <td>19438.000000</td>\n",
       "      <td>19439.000000</td>\n",
       "      <td>19437.000000</td>\n",
       "      <td>19427.000000</td>\n",
       "      <td>17691.000000</td>\n",
       "      <td>19439.000000</td>\n",
       "      <td>19438.000000</td>\n",
       "      <td>19438.000000</td>\n",
       "      <td>19228.000000</td>\n",
       "      <td>19439.000000</td>\n",
       "      <td>19439.000000</td>\n",
       "      <td>19438.000000</td>\n",
       "      <td>19338.000000</td>\n",
       "      <td>19433.000000</td>\n",
       "    </tr>\n",
       "    <tr>\n",
       "      <th>mean</th>\n",
       "      <td>8.266097</td>\n",
       "      <td>8.794927</td>\n",
       "      <td>3.598085</td>\n",
       "      <td>36.695114</td>\n",
       "      <td>478.320042</td>\n",
       "      <td>58.970310</td>\n",
       "      <td>12.334373</td>\n",
       "      <td>6.021474</td>\n",
       "      <td>1105.315068</td>\n",
       "      <td>-376.610690</td>\n",
       "      <td>1320.221139</td>\n",
       "      <td>-467.247826</td>\n",
       "      <td>1299.968799</td>\n",
       "      <td>-467.716946</td>\n",
       "      <td>1211.563299</td>\n",
       "      <td>-468.239912</td>\n",
       "      <td>1080.869685</td>\n",
       "      <td>-466.037742</td>\n",
       "      <td>1025.274256</td>\n",
       "      <td>-466.265327</td>\n",
       "      <td>12.064140</td>\n",
       "      <td>6.065533</td>\n",
       "      <td>4.217119e+04</td>\n",
       "      <td>3393.052498</td>\n",
       "      <td>3256.854171</td>\n",
       "      <td>2.420119</td>\n",
       "      <td>19.772000</td>\n",
       "      <td>11.994759</td>\n",
       "      <td>7.606272</td>\n",
       "      <td>28.805571</td>\n",
       "      <td>83.328587</td>\n",
       "      <td>1.816391</td>\n",
       "      <td>5.588982</td>\n",
       "      <td>0.645782</td>\n",
       "      <td>18.057106</td>\n",
       "      <td>144.624774</td>\n",
       "      <td>8.817039</td>\n",
       "      <td>7.307078</td>\n",
       "      <td>1.021795</td>\n",
       "      <td>1.589354e+03</td>\n",
       "      <td>-491.195012</td>\n",
       "      <td>1.591344e+03</td>\n",
       "      <td>-492.192978</td>\n",
       "      <td>1.586669e+03</td>\n",
       "      <td>-491.980070</td>\n",
       "      <td>1.542912e+03</td>\n",
       "      <td>-488.017382</td>\n",
       "      <td>32.119400</td>\n",
       "      <td>8.442408</td>\n",
       "      <td>9.829530</td>\n",
       "      <td>10.489499</td>\n",
       "      <td>3.914179</td>\n",
       "      <td>16.145826</td>\n",
       "      <td>3.435656</td>\n",
       "      <td>7.973209</td>\n",
       "      <td>28.705564</td>\n",
       "      <td>-502.367331</td>\n",
       "      <td>24.106800</td>\n",
       "      <td>-503.230712</td>\n",
       "      <td>28.199338</td>\n",
       "      <td>-486.203350</td>\n",
       "      <td>22.200645</td>\n",
       "      <td>-493.742107</td>\n",
       "      <td>18.987674</td>\n",
       "      <td>-485.894516</td>\n",
       "      <td>15.010366</td>\n",
       "      <td>-461.078636</td>\n",
       "      <td>15.694452</td>\n",
       "      <td>-488.684065</td>\n",
       "      <td>12.198224</td>\n",
       "      <td>-487.149827</td>\n",
       "      <td>18.959024</td>\n",
       "      <td>-505.436305</td>\n",
       "      <td>4.339625</td>\n",
       "      <td>14.586833</td>\n",
       "      <td>5.777703</td>\n",
       "      <td>7.167247</td>\n",
       "      <td>44.076513</td>\n",
       "      <td>5.168470</td>\n",
       "      <td>9.978895</td>\n",
       "      <td>9.501224</td>\n",
       "      <td>67.050208</td>\n",
       "      <td>3.042467</td>\n",
       "      <td>9.688589</td>\n",
       "      <td>2.705795</td>\n",
       "      <td>10.583728</td>\n",
       "    </tr>\n",
       "    <tr>\n",
       "      <th>std</th>\n",
       "      <td>1.955092</td>\n",
       "      <td>1.936847</td>\n",
       "      <td>1.049486</td>\n",
       "      <td>5.145445</td>\n",
       "      <td>105.373758</td>\n",
       "      <td>21.634478</td>\n",
       "      <td>3.427317</td>\n",
       "      <td>1.127263</td>\n",
       "      <td>160.826798</td>\n",
       "      <td>93.909667</td>\n",
       "      <td>176.287095</td>\n",
       "      <td>54.673142</td>\n",
       "      <td>202.804325</td>\n",
       "      <td>53.534825</td>\n",
       "      <td>204.019326</td>\n",
       "      <td>53.921458</td>\n",
       "      <td>172.149992</td>\n",
       "      <td>57.384424</td>\n",
       "      <td>164.487837</td>\n",
       "      <td>57.850263</td>\n",
       "      <td>3.784221</td>\n",
       "      <td>1.099118</td>\n",
       "      <td>3.243621e+05</td>\n",
       "      <td>4943.845943</td>\n",
       "      <td>5781.423659</td>\n",
       "      <td>0.814935</td>\n",
       "      <td>3.753600</td>\n",
       "      <td>2.733862</td>\n",
       "      <td>1.796757</td>\n",
       "      <td>5.944207</td>\n",
       "      <td>14.148086</td>\n",
       "      <td>0.680046</td>\n",
       "      <td>1.111288</td>\n",
       "      <td>0.251526</td>\n",
       "      <td>3.449218</td>\n",
       "      <td>44.464071</td>\n",
       "      <td>3.286186</td>\n",
       "      <td>0.613509</td>\n",
       "      <td>0.513254</td>\n",
       "      <td>1.289968e+02</td>\n",
       "      <td>32.431842</td>\n",
       "      <td>1.318109e+02</td>\n",
       "      <td>33.794822</td>\n",
       "      <td>1.361114e+02</td>\n",
       "      <td>32.711455</td>\n",
       "      <td>2.461996e+02</td>\n",
       "      <td>43.959780</td>\n",
       "      <td>5.627611</td>\n",
       "      <td>2.054465</td>\n",
       "      <td>2.556843</td>\n",
       "      <td>3.909639</td>\n",
       "      <td>1.593034</td>\n",
       "      <td>3.548598</td>\n",
       "      <td>1.392536</td>\n",
       "      <td>2.212677</td>\n",
       "      <td>5.458789</td>\n",
       "      <td>53.571950</td>\n",
       "      <td>5.749616</td>\n",
       "      <td>56.567724</td>\n",
       "      <td>6.134908</td>\n",
       "      <td>54.412349</td>\n",
       "      <td>5.574001</td>\n",
       "      <td>43.372158</td>\n",
       "      <td>5.411058</td>\n",
       "      <td>47.758570</td>\n",
       "      <td>4.890228</td>\n",
       "      <td>67.405524</td>\n",
       "      <td>5.510974</td>\n",
       "      <td>34.533396</td>\n",
       "      <td>5.333024</td>\n",
       "      <td>38.347312</td>\n",
       "      <td>5.550498</td>\n",
       "      <td>37.689057</td>\n",
       "      <td>2.326751</td>\n",
       "      <td>4.265202</td>\n",
       "      <td>2.774598</td>\n",
       "      <td>3.916079</td>\n",
       "      <td>5.129784</td>\n",
       "      <td>1.372348</td>\n",
       "      <td>1.669240</td>\n",
       "      <td>2.787537</td>\n",
       "      <td>10.125840</td>\n",
       "      <td>0.922808</td>\n",
       "      <td>2.328642</td>\n",
       "      <td>0.949077</td>\n",
       "      <td>2.868782</td>\n",
       "    </tr>\n",
       "    <tr>\n",
       "      <th>min</th>\n",
       "      <td>0.010000</td>\n",
       "      <td>0.010000</td>\n",
       "      <td>0.010000</td>\n",
       "      <td>0.010000</td>\n",
       "      <td>0.002986</td>\n",
       "      <td>0.046369</td>\n",
       "      <td>0.001083</td>\n",
       "      <td>0.000568</td>\n",
       "      <td>-0.042069</td>\n",
       "      <td>-657.949759</td>\n",
       "      <td>-0.721806</td>\n",
       "      <td>-650.260008</td>\n",
       "      <td>-0.056636</td>\n",
       "      <td>-647.544439</td>\n",
       "      <td>-0.992219</td>\n",
       "      <td>-648.390665</td>\n",
       "      <td>-1.982295</td>\n",
       "      <td>-649.443911</td>\n",
       "      <td>-2.593390</td>\n",
       "      <td>-649.949283</td>\n",
       "      <td>0.000077</td>\n",
       "      <td>0.000290</td>\n",
       "      <td>-4.223520e+07</td>\n",
       "      <td>-486.598675</td>\n",
       "      <td>-264.982785</td>\n",
       "      <td>-0.010548</td>\n",
       "      <td>0.000000</td>\n",
       "      <td>0.000000</td>\n",
       "      <td>0.000000</td>\n",
       "      <td>0.000000</td>\n",
       "      <td>0.000000</td>\n",
       "      <td>0.020676</td>\n",
       "      <td>0.594562</td>\n",
       "      <td>0.007566</td>\n",
       "      <td>10.014648</td>\n",
       "      <td>0.003112</td>\n",
       "      <td>0.000000</td>\n",
       "      <td>1.080000</td>\n",
       "      <td>0.000005</td>\n",
       "      <td>5.445860e-32</td>\n",
       "      <td>-798.641662</td>\n",
       "      <td>6.647490e-32</td>\n",
       "      <td>-799.997015</td>\n",
       "      <td>4.033736e-32</td>\n",
       "      <td>-799.960571</td>\n",
       "      <td>4.039220e-32</td>\n",
       "      <td>-799.794250</td>\n",
       "      <td>0.000000</td>\n",
       "      <td>0.000000</td>\n",
       "      <td>0.000000</td>\n",
       "      <td>0.000000</td>\n",
       "      <td>0.000000</td>\n",
       "      <td>0.000000</td>\n",
       "      <td>0.000000</td>\n",
       "      <td>0.000000</td>\n",
       "      <td>0.077503</td>\n",
       "      <td>-799.606441</td>\n",
       "      <td>0.000000</td>\n",
       "      <td>-799.873878</td>\n",
       "      <td>0.000000</td>\n",
       "      <td>-799.755798</td>\n",
       "      <td>0.000000</td>\n",
       "      <td>-809.333008</td>\n",
       "      <td>0.000000</td>\n",
       "      <td>-799.798523</td>\n",
       "      <td>0.000000</td>\n",
       "      <td>-800.836914</td>\n",
       "      <td>-0.372054</td>\n",
       "      <td>-797.323986</td>\n",
       "      <td>0.528083</td>\n",
       "      <td>-800.220337</td>\n",
       "      <td>-0.079426</td>\n",
       "      <td>-809.741464</td>\n",
       "      <td>0.000000</td>\n",
       "      <td>0.000000</td>\n",
       "      <td>0.000000</td>\n",
       "      <td>0.000000</td>\n",
       "      <td>0.000000</td>\n",
       "      <td>0.000000</td>\n",
       "      <td>0.000000</td>\n",
       "      <td>0.000000</td>\n",
       "      <td>0.000000</td>\n",
       "      <td>0.000000</td>\n",
       "      <td>0.000000</td>\n",
       "      <td>0.000000</td>\n",
       "      <td>0.000000</td>\n",
       "    </tr>\n",
       "    <tr>\n",
       "      <th>25%</th>\n",
       "      <td>6.854384</td>\n",
       "      <td>7.237967</td>\n",
       "      <td>2.887280</td>\n",
       "      <td>34.207799</td>\n",
       "      <td>416.525453</td>\n",
       "      <td>47.435103</td>\n",
       "      <td>10.000362</td>\n",
       "      <td>5.398678</td>\n",
       "      <td>999.661867</td>\n",
       "      <td>-499.835165</td>\n",
       "      <td>1199.626115</td>\n",
       "      <td>-500.201130</td>\n",
       "      <td>1151.076301</td>\n",
       "      <td>-500.217218</td>\n",
       "      <td>1061.051788</td>\n",
       "      <td>-500.386386</td>\n",
       "      <td>998.675263</td>\n",
       "      <td>-500.232191</td>\n",
       "      <td>900.995511</td>\n",
       "      <td>-500.522553</td>\n",
       "      <td>9.998460</td>\n",
       "      <td>5.402368</td>\n",
       "      <td>4.070095e+04</td>\n",
       "      <td>2611.425833</td>\n",
       "      <td>2551.437587</td>\n",
       "      <td>2.035434</td>\n",
       "      <td>18.802523</td>\n",
       "      <td>10.628337</td>\n",
       "      <td>6.725987</td>\n",
       "      <td>27.224120</td>\n",
       "      <td>81.037957</td>\n",
       "      <td>1.404207</td>\n",
       "      <td>4.889892</td>\n",
       "      <td>0.477728</td>\n",
       "      <td>15.822525</td>\n",
       "      <td>114.107029</td>\n",
       "      <td>6.076909</td>\n",
       "      <td>6.940000</td>\n",
       "      <td>0.697224</td>\n",
       "      <td>1.505063e+03</td>\n",
       "      <td>-500.308544</td>\n",
       "      <td>1.503630e+03</td>\n",
       "      <td>-500.437171</td>\n",
       "      <td>1.500927e+03</td>\n",
       "      <td>-500.703932</td>\n",
       "      <td>1.494219e+03</td>\n",
       "      <td>-500.458365</td>\n",
       "      <td>30.463140</td>\n",
       "      <td>7.263288</td>\n",
       "      <td>8.702328</td>\n",
       "      <td>7.893893</td>\n",
       "      <td>2.924844</td>\n",
       "      <td>14.017742</td>\n",
       "      <td>2.504365</td>\n",
       "      <td>6.747483</td>\n",
       "      <td>25.048462</td>\n",
       "      <td>-500.233700</td>\n",
       "      <td>20.919853</td>\n",
       "      <td>-500.253794</td>\n",
       "      <td>24.949227</td>\n",
       "      <td>-500.213546</td>\n",
       "      <td>18.995924</td>\n",
       "      <td>-500.123034</td>\n",
       "      <td>14.975734</td>\n",
       "      <td>-500.704892</td>\n",
       "      <td>11.940294</td>\n",
       "      <td>-500.187742</td>\n",
       "      <td>10.988606</td>\n",
       "      <td>-500.458467</td>\n",
       "      <td>8.971105</td>\n",
       "      <td>-500.129462</td>\n",
       "      <td>14.983037</td>\n",
       "      <td>-500.728067</td>\n",
       "      <td>3.182770</td>\n",
       "      <td>12.640239</td>\n",
       "      <td>3.864733</td>\n",
       "      <td>3.845475</td>\n",
       "      <td>43.402215</td>\n",
       "      <td>4.251240</td>\n",
       "      <td>9.137262</td>\n",
       "      <td>7.722820</td>\n",
       "      <td>63.299712</td>\n",
       "      <td>2.461138</td>\n",
       "      <td>8.062878</td>\n",
       "      <td>2.040119</td>\n",
       "      <td>8.938947</td>\n",
       "    </tr>\n",
       "    <tr>\n",
       "      <th>50%</th>\n",
       "      <td>8.125839</td>\n",
       "      <td>8.593574</td>\n",
       "      <td>3.534895</td>\n",
       "      <td>37.202650</td>\n",
       "      <td>499.416120</td>\n",
       "      <td>54.610197</td>\n",
       "      <td>12.001174</td>\n",
       "      <td>6.008273</td>\n",
       "      <td>1001.072890</td>\n",
       "      <td>-300.263994</td>\n",
       "      <td>1301.579988</td>\n",
       "      <td>-499.784045</td>\n",
       "      <td>1300.211537</td>\n",
       "      <td>-499.713364</td>\n",
       "      <td>1201.569141</td>\n",
       "      <td>-499.532412</td>\n",
       "      <td>1050.029461</td>\n",
       "      <td>-499.663089</td>\n",
       "      <td>999.924821</td>\n",
       "      <td>-499.471777</td>\n",
       "      <td>12.000204</td>\n",
       "      <td>6.098580</td>\n",
       "      <td>4.469648e+04</td>\n",
       "      <td>3018.353876</td>\n",
       "      <td>2997.218088</td>\n",
       "      <td>2.309665</td>\n",
       "      <td>20.280214</td>\n",
       "      <td>12.098115</td>\n",
       "      <td>7.742580</td>\n",
       "      <td>29.835345</td>\n",
       "      <td>86.188892</td>\n",
       "      <td>1.808170</td>\n",
       "      <td>5.765802</td>\n",
       "      <td>0.617465</td>\n",
       "      <td>18.106867</td>\n",
       "      <td>143.232103</td>\n",
       "      <td>8.038311</td>\n",
       "      <td>7.280000</td>\n",
       "      <td>0.940863</td>\n",
       "      <td>1.600597e+03</td>\n",
       "      <td>-499.926134</td>\n",
       "      <td>1.600521e+03</td>\n",
       "      <td>-499.956767</td>\n",
       "      <td>1.600254e+03</td>\n",
       "      <td>-499.909524</td>\n",
       "      <td>1.599447e+03</td>\n",
       "      <td>-499.905974</td>\n",
       "      <td>32.841295</td>\n",
       "      <td>8.507298</td>\n",
       "      <td>10.152433</td>\n",
       "      <td>10.314632</td>\n",
       "      <td>3.623234</td>\n",
       "      <td>15.842836</td>\n",
       "      <td>3.271153</td>\n",
       "      <td>8.183673</td>\n",
       "      <td>29.099943</td>\n",
       "      <td>-499.973250</td>\n",
       "      <td>25.043289</td>\n",
       "      <td>-500.015439</td>\n",
       "      <td>27.982129</td>\n",
       "      <td>-499.930680</td>\n",
       "      <td>22.011231</td>\n",
       "      <td>-499.981902</td>\n",
       "      <td>18.017481</td>\n",
       "      <td>-499.837793</td>\n",
       "      <td>14.971014</td>\n",
       "      <td>-499.459786</td>\n",
       "      <td>15.000036</td>\n",
       "      <td>-499.802605</td>\n",
       "      <td>11.019433</td>\n",
       "      <td>-499.935317</td>\n",
       "      <td>19.960541</td>\n",
       "      <td>-500.048400</td>\n",
       "      <td>4.072412</td>\n",
       "      <td>15.641902</td>\n",
       "      <td>5.344073</td>\n",
       "      <td>7.685827</td>\n",
       "      <td>45.011244</td>\n",
       "      <td>5.066094</td>\n",
       "      <td>10.102433</td>\n",
       "      <td>9.218961</td>\n",
       "      <td>68.172738</td>\n",
       "      <td>2.984909</td>\n",
       "      <td>9.743623</td>\n",
       "      <td>2.748730</td>\n",
       "      <td>10.622456</td>\n",
       "    </tr>\n",
       "    <tr>\n",
       "      <th>75%</th>\n",
       "      <td>9.769917</td>\n",
       "      <td>10.213771</td>\n",
       "      <td>4.244161</td>\n",
       "      <td>40.039133</td>\n",
       "      <td>550.172183</td>\n",
       "      <td>65.023044</td>\n",
       "      <td>14.716595</td>\n",
       "      <td>6.798051</td>\n",
       "      <td>1205.620588</td>\n",
       "      <td>-299.981998</td>\n",
       "      <td>1448.630789</td>\n",
       "      <td>-400.615589</td>\n",
       "      <td>1449.464001</td>\n",
       "      <td>-400.985743</td>\n",
       "      <td>1352.880320</td>\n",
       "      <td>-401.638550</td>\n",
       "      <td>1199.425140</td>\n",
       "      <td>-401.161191</td>\n",
       "      <td>1099.719692</td>\n",
       "      <td>-401.511042</td>\n",
       "      <td>14.636766</td>\n",
       "      <td>6.801233</td>\n",
       "      <td>4.816821e+04</td>\n",
       "      <td>3676.769750</td>\n",
       "      <td>3601.998911</td>\n",
       "      <td>2.731794</td>\n",
       "      <td>21.717843</td>\n",
       "      <td>13.736996</td>\n",
       "      <td>8.565199</td>\n",
       "      <td>32.189933</td>\n",
       "      <td>90.010670</td>\n",
       "      <td>2.211861</td>\n",
       "      <td>6.389234</td>\n",
       "      <td>0.778271</td>\n",
       "      <td>20.088151</td>\n",
       "      <td>175.075656</td>\n",
       "      <td>11.013521</td>\n",
       "      <td>7.670000</td>\n",
       "      <td>1.210990</td>\n",
       "      <td>1.697658e+03</td>\n",
       "      <td>-499.433950</td>\n",
       "      <td>1.699218e+03</td>\n",
       "      <td>-499.373336</td>\n",
       "      <td>1.699483e+03</td>\n",
       "      <td>-498.857643</td>\n",
       "      <td>1.698525e+03</td>\n",
       "      <td>-499.064695</td>\n",
       "      <td>35.048006</td>\n",
       "      <td>9.809001</td>\n",
       "      <td>11.424971</td>\n",
       "      <td>13.446702</td>\n",
       "      <td>4.585705</td>\n",
       "      <td>18.013975</td>\n",
       "      <td>4.181748</td>\n",
       "      <td>9.548586</td>\n",
       "      <td>33.012536</td>\n",
       "      <td>-499.671261</td>\n",
       "      <td>28.008197</td>\n",
       "      <td>-499.785698</td>\n",
       "      <td>33.002798</td>\n",
       "      <td>-499.325739</td>\n",
       "      <td>25.998206</td>\n",
       "      <td>-499.812834</td>\n",
       "      <td>23.012470</td>\n",
       "      <td>-498.249730</td>\n",
       "      <td>19.034162</td>\n",
       "      <td>-400.118106</td>\n",
       "      <td>18.026190</td>\n",
       "      <td>-498.384187</td>\n",
       "      <td>14.019088</td>\n",
       "      <td>-499.436708</td>\n",
       "      <td>24.003170</td>\n",
       "      <td>-499.495378</td>\n",
       "      <td>5.063081</td>\n",
       "      <td>17.358217</td>\n",
       "      <td>7.788467</td>\n",
       "      <td>10.411296</td>\n",
       "      <td>46.275313</td>\n",
       "      <td>5.895527</td>\n",
       "      <td>11.035769</td>\n",
       "      <td>10.947813</td>\n",
       "      <td>72.686642</td>\n",
       "      <td>3.571351</td>\n",
       "      <td>11.134294</td>\n",
       "      <td>3.333216</td>\n",
       "      <td>12.104271</td>\n",
       "    </tr>\n",
       "    <tr>\n",
       "      <th>max</th>\n",
       "      <td>13.731330</td>\n",
       "      <td>14.596026</td>\n",
       "      <td>7.142594</td>\n",
       "      <td>53.477742</td>\n",
       "      <td>717.508837</td>\n",
       "      <td>484.967466</td>\n",
       "      <td>36.118275</td>\n",
       "      <td>9.703448</td>\n",
       "      <td>1521.980372</td>\n",
       "      <td>-273.776101</td>\n",
       "      <td>1809.194008</td>\n",
       "      <td>-296.383080</td>\n",
       "      <td>2499.129174</td>\n",
       "      <td>-292.155509</td>\n",
       "      <td>1817.199290</td>\n",
       "      <td>-76.397327</td>\n",
       "      <td>1922.636637</td>\n",
       "      <td>-139.753025</td>\n",
       "      <td>1706.307502</td>\n",
       "      <td>-191.718480</td>\n",
       "      <td>37.980648</td>\n",
       "      <td>9.698407</td>\n",
       "      <td>3.428099e+06</td>\n",
       "      <td>629638.977914</td>\n",
       "      <td>718684.955855</td>\n",
       "      <td>39.379272</td>\n",
       "      <td>28.824507</td>\n",
       "      <td>24.480271</td>\n",
       "      <td>13.617072</td>\n",
       "      <td>38.351193</td>\n",
       "      <td>100.000000</td>\n",
       "      <td>9.688980</td>\n",
       "      <td>12.719177</td>\n",
       "      <td>3.778064</td>\n",
       "      <td>66.117188</td>\n",
       "      <td>265.983123</td>\n",
       "      <td>40.000000</td>\n",
       "      <td>15.500000</td>\n",
       "      <td>4.102454</td>\n",
       "      <td>2.103104e+03</td>\n",
       "      <td>-57.195404</td>\n",
       "      <td>2.114907e+03</td>\n",
       "      <td>-142.527229</td>\n",
       "      <td>2.013156e+03</td>\n",
       "      <td>-150.937035</td>\n",
       "      <td>2.398904e+03</td>\n",
       "      <td>-30.601828</td>\n",
       "      <td>45.933934</td>\n",
       "      <td>16.081632</td>\n",
       "      <td>17.081278</td>\n",
       "      <td>22.458114</td>\n",
       "      <td>17.788925</td>\n",
       "      <td>29.459575</td>\n",
       "      <td>9.634565</td>\n",
       "      <td>22.276364</td>\n",
       "      <td>52.651399</td>\n",
       "      <td>-127.875565</td>\n",
       "      <td>35.152122</td>\n",
       "      <td>-211.999273</td>\n",
       "      <td>44.260464</td>\n",
       "      <td>-191.678810</td>\n",
       "      <td>35.072841</td>\n",
       "      <td>-159.742331</td>\n",
       "      <td>30.115735</td>\n",
       "      <td>-245.239184</td>\n",
       "      <td>31.269706</td>\n",
       "      <td>-6.506986</td>\n",
       "      <td>43.709931</td>\n",
       "      <td>-244.483566</td>\n",
       "      <td>27.926001</td>\n",
       "      <td>-137.740004</td>\n",
       "      <td>32.188906</td>\n",
       "      <td>-104.427459</td>\n",
       "      <td>26.811643</td>\n",
       "      <td>23.264738</td>\n",
       "      <td>17.042505</td>\n",
       "      <td>26.000772</td>\n",
       "      <td>52.756638</td>\n",
       "      <td>16.001945</td>\n",
       "      <td>17.031899</td>\n",
       "      <td>19.615720</td>\n",
       "      <td>100.000000</td>\n",
       "      <td>8.245022</td>\n",
       "      <td>19.552149</td>\n",
       "      <td>5.804178</td>\n",
       "      <td>22.317730</td>\n",
       "    </tr>\n",
       "  </tbody>\n",
       "</table>\n",
       "</div>"
      ],
      "text/plain": [
       "       rougher.input.feed_au  rougher.input.feed_ag  rougher.input.feed_pb  \\\n",
       "count           19439.000000           19439.000000           19339.000000   \n",
       "mean                8.266097               8.794927               3.598085   \n",
       "std                 1.955092               1.936847               1.049486   \n",
       "min                 0.010000               0.010000               0.010000   \n",
       "25%                 6.854384               7.237967               2.887280   \n",
       "50%                 8.125839               8.593574               3.534895   \n",
       "75%                 9.769917              10.213771               4.244161   \n",
       "max                13.731330              14.596026               7.142594   \n",
       "\n",
       "       rougher.input.feed_sol  rougher.input.feed_rate  \\\n",
       "count            19340.000000             19428.000000   \n",
       "mean                36.695114               478.320042   \n",
       "std                  5.145445               105.373758   \n",
       "min                  0.010000                 0.002986   \n",
       "25%                 34.207799               416.525453   \n",
       "50%                 37.202650               499.416120   \n",
       "75%                 40.039133               550.172183   \n",
       "max                 53.477742               717.508837   \n",
       "\n",
       "       rougher.input.feed_size  rougher.input.floatbank10_sulfate  \\\n",
       "count             19294.000000                       19405.000000   \n",
       "mean                 58.970310                          12.334373   \n",
       "std                  21.634478                           3.427317   \n",
       "min                   0.046369                           0.001083   \n",
       "25%                  47.435103                          10.000362   \n",
       "50%                  54.610197                          12.001174   \n",
       "75%                  65.023044                          14.716595   \n",
       "max                 484.967466                          36.118275   \n",
       "\n",
       "       rougher.input.floatbank10_xanthate  rougher.state.floatbank10_a_air  \\\n",
       "count                        19431.000000                     19438.000000   \n",
       "mean                             6.021474                      1105.315068   \n",
       "std                              1.127263                       160.826798   \n",
       "min                              0.000568                        -0.042069   \n",
       "25%                              5.398678                       999.661867   \n",
       "50%                              6.008273                      1001.072890   \n",
       "75%                              6.798051                      1205.620588   \n",
       "max                              9.703448                      1521.980372   \n",
       "\n",
       "       rougher.state.floatbank10_a_level  rougher.state.floatbank10_b_air  \\\n",
       "count                       19438.000000                     19438.000000   \n",
       "mean                         -376.610690                      1320.221139   \n",
       "std                            93.909667                       176.287095   \n",
       "min                          -657.949759                        -0.721806   \n",
       "25%                          -499.835165                      1199.626115   \n",
       "50%                          -300.263994                      1301.579988   \n",
       "75%                          -299.981998                      1448.630789   \n",
       "max                          -273.776101                      1809.194008   \n",
       "\n",
       "       rougher.state.floatbank10_b_level  rougher.state.floatbank10_c_air  \\\n",
       "count                       19438.000000                     19438.000000   \n",
       "mean                         -467.247826                      1299.968799   \n",
       "std                            54.673142                       202.804325   \n",
       "min                          -650.260008                        -0.056636   \n",
       "25%                          -500.201130                      1151.076301   \n",
       "50%                          -499.784045                      1300.211537   \n",
       "75%                          -400.615589                      1449.464001   \n",
       "max                          -296.383080                      2499.129174   \n",
       "\n",
       "       rougher.state.floatbank10_c_level  rougher.state.floatbank10_d_air  \\\n",
       "count                       19438.000000                     19439.000000   \n",
       "mean                         -467.716946                      1211.563299   \n",
       "std                            53.534825                       204.019326   \n",
       "min                          -647.544439                        -0.992219   \n",
       "25%                          -500.217218                      1061.051788   \n",
       "50%                          -499.713364                      1201.569141   \n",
       "75%                          -400.985743                      1352.880320   \n",
       "max                          -292.155509                      1817.199290   \n",
       "\n",
       "       rougher.state.floatbank10_d_level  rougher.state.floatbank10_e_air  \\\n",
       "count                       19439.000000                     19003.000000   \n",
       "mean                         -468.239912                      1080.869685   \n",
       "std                            53.921458                       172.149992   \n",
       "min                          -648.390665                        -1.982295   \n",
       "25%                          -500.386386                       998.675263   \n",
       "50%                          -499.532412                      1050.029461   \n",
       "75%                          -401.638550                      1199.425140   \n",
       "max                           -76.397327                      1922.636637   \n",
       "\n",
       "       rougher.state.floatbank10_e_level  rougher.state.floatbank10_f_air  \\\n",
       "count                       19439.000000                     19439.000000   \n",
       "mean                         -466.037742                      1025.274256   \n",
       "std                            57.384424                       164.487837   \n",
       "min                          -649.443911                        -2.593390   \n",
       "25%                          -500.232191                       900.995511   \n",
       "50%                          -499.663089                       999.924821   \n",
       "75%                          -401.161191                      1099.719692   \n",
       "max                          -139.753025                      1706.307502   \n",
       "\n",
       "       rougher.state.floatbank10_f_level  rougher.input.floatbank11_sulfate  \\\n",
       "count                       19439.000000                       19395.000000   \n",
       "mean                         -466.265327                          12.064140   \n",
       "std                            57.850263                           3.784221   \n",
       "min                          -649.949283                           0.000077   \n",
       "25%                          -500.522553                           9.998460   \n",
       "50%                          -499.471777                          12.000204   \n",
       "75%                          -401.511042                          14.636766   \n",
       "max                          -191.718480                          37.980648   \n",
       "\n",
       "       rougher.input.floatbank11_xanthate  \\\n",
       "count                        18986.000000   \n",
       "mean                             6.065533   \n",
       "std                              1.099118   \n",
       "min                              0.000290   \n",
       "25%                              5.402368   \n",
       "50%                              6.098580   \n",
       "75%                              6.801233   \n",
       "max                              9.698407   \n",
       "\n",
       "       rougher.calculation.sulfate_to_au_concentrate  \\\n",
       "count                                   1.943700e+04   \n",
       "mean                                    4.217119e+04   \n",
       "std                                     3.243621e+05   \n",
       "min                                    -4.223520e+07   \n",
       "25%                                     4.070095e+04   \n",
       "50%                                     4.469648e+04   \n",
       "75%                                     4.816821e+04   \n",
       "max                                     3.428099e+06   \n",
       "\n",
       "       rougher.calculation.floatbank10_sulfate_to_au_feed  \\\n",
       "count                                       19437.000000    \n",
       "mean                                         3393.052498    \n",
       "std                                          4943.845943    \n",
       "min                                          -486.598675    \n",
       "25%                                          2611.425833    \n",
       "50%                                          3018.353876    \n",
       "75%                                          3676.769750    \n",
       "max                                        629638.977914    \n",
       "\n",
       "       rougher.calculation.floatbank11_sulfate_to_au_feed  \\\n",
       "count                                       19437.000000    \n",
       "mean                                         3256.854171    \n",
       "std                                          5781.423659    \n",
       "min                                          -264.982785    \n",
       "25%                                          2551.437587    \n",
       "50%                                          2997.218088    \n",
       "75%                                          3601.998911    \n",
       "max                                        718684.955855    \n",
       "\n",
       "       rougher.calculation.au_pb_ratio  rougher.output.concentrate_au  \\\n",
       "count                     19439.000000                   19439.000000   \n",
       "mean                          2.420119                      19.772000   \n",
       "std                           0.814935                       3.753600   \n",
       "min                          -0.010548                       0.000000   \n",
       "25%                           2.035434                      18.802523   \n",
       "50%                           2.309665                      20.280214   \n",
       "75%                           2.731794                      21.717843   \n",
       "max                          39.379272                      28.824507   \n",
       "\n",
       "       rougher.output.concentrate_ag  rougher.output.concentrate_pb  \\\n",
       "count                   19439.000000                   19439.000000   \n",
       "mean                       11.994759                       7.606272   \n",
       "std                         2.733862                       1.796757   \n",
       "min                         0.000000                       0.000000   \n",
       "25%                        10.628337                       6.725987   \n",
       "50%                        12.098115                       7.742580   \n",
       "75%                        13.736996                       8.565199   \n",
       "max                        24.480271                      13.617072   \n",
       "\n",
       "       rougher.output.concentrate_sol  rougher.output.recovery  \\\n",
       "count                    19416.000000             19439.000000   \n",
       "mean                        28.805571                83.328587   \n",
       "std                          5.944207                14.148086   \n",
       "min                          0.000000                 0.000000   \n",
       "25%                         27.224120                81.037957   \n",
       "50%                         29.835345                86.188892   \n",
       "75%                         32.189933                90.010670   \n",
       "max                         38.351193               100.000000   \n",
       "\n",
       "       rougher.output.tail_au  rougher.output.tail_ag  rougher.output.tail_pb  \\\n",
       "count            19439.000000            19438.000000            19439.000000   \n",
       "mean                 1.816391                5.588982                0.645782   \n",
       "std                  0.680046                1.111288                0.251526   \n",
       "min                  0.020676                0.594562                0.007566   \n",
       "25%                  1.404207                4.889892                0.477728   \n",
       "50%                  1.808170                5.765802                0.617465   \n",
       "75%                  2.211861                6.389234                0.778271   \n",
       "max                  9.688980               12.719177                3.778064   \n",
       "\n",
       "       rougher.output.tail_sol  primary_cleaner.input.sulfate  \\\n",
       "count             19439.000000                   19415.000000   \n",
       "mean                 18.057106                     144.624774   \n",
       "std                   3.449218                      44.464071   \n",
       "min                  10.014648                       0.003112   \n",
       "25%                  15.822525                     114.107029   \n",
       "50%                  18.106867                     143.232103   \n",
       "75%                  20.088151                     175.075656   \n",
       "max                  66.117188                     265.983123   \n",
       "\n",
       "       primary_cleaner.input.depressant  primary_cleaner.input.feed_size  \\\n",
       "count                      19402.000000                     19439.000000   \n",
       "mean                           8.817039                         7.307078   \n",
       "std                            3.286186                         0.613509   \n",
       "min                            0.000000                         1.080000   \n",
       "25%                            6.076909                         6.940000   \n",
       "50%                            8.038311                         7.280000   \n",
       "75%                           11.013521                         7.670000   \n",
       "max                           40.000000                        15.500000   \n",
       "\n",
       "       primary_cleaner.input.xanthate  primary_cleaner.state.floatbank8_a_air  \\\n",
       "count                    19335.000000                            1.943500e+04   \n",
       "mean                         1.021795                            1.589354e+03   \n",
       "std                          0.513254                            1.289968e+02   \n",
       "min                          0.000005                            5.445860e-32   \n",
       "25%                          0.697224                            1.505063e+03   \n",
       "50%                          0.940863                            1.600597e+03   \n",
       "75%                          1.210990                            1.697658e+03   \n",
       "max                          4.102454                            2.103104e+03   \n",
       "\n",
       "       primary_cleaner.state.floatbank8_a_level  \\\n",
       "count                              19438.000000   \n",
       "mean                                -491.195012   \n",
       "std                                   32.431842   \n",
       "min                                 -798.641662   \n",
       "25%                                 -500.308544   \n",
       "50%                                 -499.926134   \n",
       "75%                                 -499.433950   \n",
       "max                                  -57.195404   \n",
       "\n",
       "       primary_cleaner.state.floatbank8_b_air  \\\n",
       "count                            1.943500e+04   \n",
       "mean                             1.591344e+03   \n",
       "std                              1.318109e+02   \n",
       "min                              6.647490e-32   \n",
       "25%                              1.503630e+03   \n",
       "50%                              1.600521e+03   \n",
       "75%                              1.699218e+03   \n",
       "max                              2.114907e+03   \n",
       "\n",
       "       primary_cleaner.state.floatbank8_b_level  \\\n",
       "count                              19438.000000   \n",
       "mean                                -492.192978   \n",
       "std                                   33.794822   \n",
       "min                                 -799.997015   \n",
       "25%                                 -500.437171   \n",
       "50%                                 -499.956767   \n",
       "75%                                 -499.373336   \n",
       "max                                 -142.527229   \n",
       "\n",
       "       primary_cleaner.state.floatbank8_c_air  \\\n",
       "count                            1.943700e+04   \n",
       "mean                             1.586669e+03   \n",
       "std                              1.361114e+02   \n",
       "min                              4.033736e-32   \n",
       "25%                              1.500927e+03   \n",
       "50%                              1.600254e+03   \n",
       "75%                              1.699483e+03   \n",
       "max                              2.013156e+03   \n",
       "\n",
       "       primary_cleaner.state.floatbank8_c_level  \\\n",
       "count                              19438.000000   \n",
       "mean                                -491.980070   \n",
       "std                                   32.711455   \n",
       "min                                 -799.960571   \n",
       "25%                                 -500.703932   \n",
       "50%                                 -499.909524   \n",
       "75%                                 -498.857643   \n",
       "max                                 -150.937035   \n",
       "\n",
       "       primary_cleaner.state.floatbank8_d_air  \\\n",
       "count                            1.943600e+04   \n",
       "mean                             1.542912e+03   \n",
       "std                              2.461996e+02   \n",
       "min                              4.039220e-32   \n",
       "25%                              1.494219e+03   \n",
       "50%                              1.599447e+03   \n",
       "75%                              1.698525e+03   \n",
       "max                              2.398904e+03   \n",
       "\n",
       "       primary_cleaner.state.floatbank8_d_level  \\\n",
       "count                              19438.000000   \n",
       "mean                                -488.017382   \n",
       "std                                   43.959780   \n",
       "min                                 -799.794250   \n",
       "25%                                 -500.458365   \n",
       "50%                                 -499.905974   \n",
       "75%                                 -499.064695   \n",
       "max                                  -30.601828   \n",
       "\n",
       "       primary_cleaner.output.concentrate_au  \\\n",
       "count                           19439.000000   \n",
       "mean                               32.119400   \n",
       "std                                 5.627611   \n",
       "min                                 0.000000   \n",
       "25%                                30.463140   \n",
       "50%                                32.841295   \n",
       "75%                                35.048006   \n",
       "max                                45.933934   \n",
       "\n",
       "       primary_cleaner.output.concentrate_ag  \\\n",
       "count                           19439.000000   \n",
       "mean                                8.442408   \n",
       "std                                 2.054465   \n",
       "min                                 0.000000   \n",
       "25%                                 7.263288   \n",
       "50%                                 8.507298   \n",
       "75%                                 9.809001   \n",
       "max                                16.081632   \n",
       "\n",
       "       primary_cleaner.output.concentrate_pb  \\\n",
       "count                           19323.000000   \n",
       "mean                                9.829530   \n",
       "std                                 2.556843   \n",
       "min                                 0.000000   \n",
       "25%                                 8.702328   \n",
       "50%                                10.152433   \n",
       "75%                                11.424971   \n",
       "max                                17.081278   \n",
       "\n",
       "       primary_cleaner.output.concentrate_sol  primary_cleaner.output.tail_au  \\\n",
       "count                            19069.000000                    19439.000000   \n",
       "mean                                10.489499                        3.914179   \n",
       "std                                  3.909639                        1.593034   \n",
       "min                                  0.000000                        0.000000   \n",
       "25%                                  7.893893                        2.924844   \n",
       "50%                                 10.314632                        3.623234   \n",
       "75%                                 13.446702                        4.585705   \n",
       "max                                 22.458114                       17.788925   \n",
       "\n",
       "       primary_cleaner.output.tail_ag  primary_cleaner.output.tail_pb  \\\n",
       "count                    19435.000000                    19418.000000   \n",
       "mean                        16.145826                        3.435656   \n",
       "std                          3.548598                        1.392536   \n",
       "min                          0.000000                        0.000000   \n",
       "25%                         14.017742                        2.504365   \n",
       "50%                         15.842836                        3.271153   \n",
       "75%                         18.013975                        4.181748   \n",
       "max                         29.459575                        9.634565   \n",
       "\n",
       "       primary_cleaner.output.tail_sol  \\\n",
       "count                     19377.000000   \n",
       "mean                          7.973209   \n",
       "std                           2.212677   \n",
       "min                           0.000000   \n",
       "25%                           6.747483   \n",
       "50%                           8.183673   \n",
       "75%                           9.548586   \n",
       "max                          22.276364   \n",
       "\n",
       "       secondary_cleaner.state.floatbank2_a_air  \\\n",
       "count                              19219.000000   \n",
       "mean                                  28.705564   \n",
       "std                                    5.458789   \n",
       "min                                    0.077503   \n",
       "25%                                   25.048462   \n",
       "50%                                   29.099943   \n",
       "75%                                   33.012536   \n",
       "max                                   52.651399   \n",
       "\n",
       "       secondary_cleaner.state.floatbank2_a_level  \\\n",
       "count                                19438.000000   \n",
       "mean                                  -502.367331   \n",
       "std                                     53.571950   \n",
       "min                                   -799.606441   \n",
       "25%                                   -500.233700   \n",
       "50%                                   -499.973250   \n",
       "75%                                   -499.671261   \n",
       "max                                   -127.875565   \n",
       "\n",
       "       secondary_cleaner.state.floatbank2_b_air  \\\n",
       "count                              19416.000000   \n",
       "mean                                  24.106800   \n",
       "std                                    5.749616   \n",
       "min                                    0.000000   \n",
       "25%                                   20.919853   \n",
       "50%                                   25.043289   \n",
       "75%                                   28.008197   \n",
       "max                                   35.152122   \n",
       "\n",
       "       secondary_cleaner.state.floatbank2_b_level  \\\n",
       "count                                19438.000000   \n",
       "mean                                  -503.230712   \n",
       "std                                     56.567724   \n",
       "min                                   -799.873878   \n",
       "25%                                   -500.253794   \n",
       "50%                                   -500.015439   \n",
       "75%                                   -499.785698   \n",
       "max                                   -211.999273   \n",
       "\n",
       "       secondary_cleaner.state.floatbank3_a_air  \\\n",
       "count                              19426.000000   \n",
       "mean                                  28.199338   \n",
       "std                                    6.134908   \n",
       "min                                    0.000000   \n",
       "25%                                   24.949227   \n",
       "50%                                   27.982129   \n",
       "75%                                   33.002798   \n",
       "max                                   44.260464   \n",
       "\n",
       "       secondary_cleaner.state.floatbank3_a_level  \\\n",
       "count                                19438.000000   \n",
       "mean                                  -486.203350   \n",
       "std                                     54.412349   \n",
       "min                                   -799.755798   \n",
       "25%                                   -500.213546   \n",
       "50%                                   -499.930680   \n",
       "75%                                   -499.325739   \n",
       "max                                   -191.678810   \n",
       "\n",
       "       secondary_cleaner.state.floatbank3_b_air  \\\n",
       "count                              19438.000000   \n",
       "mean                                  22.200645   \n",
       "std                                    5.574001   \n",
       "min                                    0.000000   \n",
       "25%                                   18.995924   \n",
       "50%                                   22.011231   \n",
       "75%                                   25.998206   \n",
       "max                                   35.072841   \n",
       "\n",
       "       secondary_cleaner.state.floatbank3_b_level  \\\n",
       "count                                19438.000000   \n",
       "mean                                  -493.742107   \n",
       "std                                     43.372158   \n",
       "min                                   -809.333008   \n",
       "25%                                   -500.123034   \n",
       "50%                                   -499.981902   \n",
       "75%                                   -499.812834   \n",
       "max                                   -159.742331   \n",
       "\n",
       "       secondary_cleaner.state.floatbank4_a_air  \\\n",
       "count                              19433.000000   \n",
       "mean                                  18.987674   \n",
       "std                                    5.411058   \n",
       "min                                    0.000000   \n",
       "25%                                   14.975734   \n",
       "50%                                   18.017481   \n",
       "75%                                   23.012470   \n",
       "max                                   30.115735   \n",
       "\n",
       "       secondary_cleaner.state.floatbank4_a_level  \\\n",
       "count                                19438.000000   \n",
       "mean                                  -485.894516   \n",
       "std                                     47.758570   \n",
       "min                                   -799.798523   \n",
       "25%                                   -500.704892   \n",
       "50%                                   -499.837793   \n",
       "75%                                   -498.249730   \n",
       "max                                   -245.239184   \n",
       "\n",
       "       secondary_cleaner.state.floatbank4_b_air  \\\n",
       "count                              19438.000000   \n",
       "mean                                  15.010366   \n",
       "std                                    4.890228   \n",
       "min                                    0.000000   \n",
       "25%                                   11.940294   \n",
       "50%                                   14.971014   \n",
       "75%                                   19.034162   \n",
       "max                                   31.269706   \n",
       "\n",
       "       secondary_cleaner.state.floatbank4_b_level  \\\n",
       "count                                19438.000000   \n",
       "mean                                  -461.078636   \n",
       "std                                     67.405524   \n",
       "min                                   -800.836914   \n",
       "25%                                   -500.187742   \n",
       "50%                                   -499.459786   \n",
       "75%                                   -400.118106   \n",
       "max                                     -6.506986   \n",
       "\n",
       "       secondary_cleaner.state.floatbank5_a_air  \\\n",
       "count                              19438.000000   \n",
       "mean                                  15.694452   \n",
       "std                                    5.510974   \n",
       "min                                   -0.372054   \n",
       "25%                                   10.988606   \n",
       "50%                                   15.000036   \n",
       "75%                                   18.026190   \n",
       "max                                   43.709931   \n",
       "\n",
       "       secondary_cleaner.state.floatbank5_a_level  \\\n",
       "count                                19438.000000   \n",
       "mean                                  -488.684065   \n",
       "std                                     34.533396   \n",
       "min                                   -797.323986   \n",
       "25%                                   -500.458467   \n",
       "50%                                   -499.802605   \n",
       "75%                                   -498.384187   \n",
       "max                                   -244.483566   \n",
       "\n",
       "       secondary_cleaner.state.floatbank5_b_air  \\\n",
       "count                              19438.000000   \n",
       "mean                                  12.198224   \n",
       "std                                    5.333024   \n",
       "min                                    0.528083   \n",
       "25%                                    8.971105   \n",
       "50%                                   11.019433   \n",
       "75%                                   14.019088   \n",
       "max                                   27.926001   \n",
       "\n",
       "       secondary_cleaner.state.floatbank5_b_level  \\\n",
       "count                                19438.000000   \n",
       "mean                                  -487.149827   \n",
       "std                                     38.347312   \n",
       "min                                   -800.220337   \n",
       "25%                                   -500.129462   \n",
       "50%                                   -499.935317   \n",
       "75%                                   -499.436708   \n",
       "max                                   -137.740004   \n",
       "\n",
       "       secondary_cleaner.state.floatbank6_a_air  \\\n",
       "count                              19437.000000   \n",
       "mean                                  18.959024   \n",
       "std                                    5.550498   \n",
       "min                                   -0.079426   \n",
       "25%                                   14.983037   \n",
       "50%                                   19.960541   \n",
       "75%                                   24.003170   \n",
       "max                                   32.188906   \n",
       "\n",
       "       secondary_cleaner.state.floatbank6_a_level  \\\n",
       "count                                19438.000000   \n",
       "mean                                  -505.436305   \n",
       "std                                     37.689057   \n",
       "min                                   -809.741464   \n",
       "25%                                   -500.728067   \n",
       "50%                                   -500.048400   \n",
       "75%                                   -499.495378   \n",
       "max                                   -104.427459   \n",
       "\n",
       "       secondary_cleaner.output.tail_au  secondary_cleaner.output.tail_ag  \\\n",
       "count                      19439.000000                      19437.000000   \n",
       "mean                           4.339625                         14.586833   \n",
       "std                            2.326751                          4.265202   \n",
       "min                            0.000000                          0.000000   \n",
       "25%                            3.182770                         12.640239   \n",
       "50%                            4.072412                         15.641902   \n",
       "75%                            5.063081                         17.358217   \n",
       "max                           26.811643                         23.264738   \n",
       "\n",
       "       secondary_cleaner.output.tail_pb  secondary_cleaner.output.tail_sol  \\\n",
       "count                      19427.000000                       17691.000000   \n",
       "mean                           5.777703                           7.167247   \n",
       "std                            2.774598                           3.916079   \n",
       "min                            0.000000                           0.000000   \n",
       "25%                            3.864733                           3.845475   \n",
       "50%                            5.344073                           7.685827   \n",
       "75%                            7.788467                          10.411296   \n",
       "max                           17.042505                          26.000772   \n",
       "\n",
       "       final.output.concentrate_au  final.output.concentrate_ag  \\\n",
       "count                 19439.000000                 19438.000000   \n",
       "mean                     44.076513                     5.168470   \n",
       "std                       5.129784                     1.372348   \n",
       "min                       0.000000                     0.000000   \n",
       "25%                      43.402215                     4.251240   \n",
       "50%                      45.011244                     5.066094   \n",
       "75%                      46.275313                     5.895527   \n",
       "max                      52.756638                    16.001945   \n",
       "\n",
       "       final.output.concentrate_pb  final.output.concentrate_sol  \\\n",
       "count                 19438.000000                  19228.000000   \n",
       "mean                      9.978895                      9.501224   \n",
       "std                       1.669240                      2.787537   \n",
       "min                       0.000000                      0.000000   \n",
       "25%                       9.137262                      7.722820   \n",
       "50%                      10.102433                      9.218961   \n",
       "75%                      11.035769                     10.947813   \n",
       "max                      17.031899                     19.615720   \n",
       "\n",
       "       final.output.recovery  final.output.tail_au  final.output.tail_ag  \\\n",
       "count           19439.000000          19439.000000          19438.000000   \n",
       "mean               67.050208              3.042467              9.688589   \n",
       "std                10.125840              0.922808              2.328642   \n",
       "min                 0.000000              0.000000              0.000000   \n",
       "25%                63.299712              2.461138              8.062878   \n",
       "50%                68.172738              2.984909              9.743623   \n",
       "75%                72.686642              3.571351             11.134294   \n",
       "max               100.000000              8.245022             19.552149   \n",
       "\n",
       "       final.output.tail_pb  final.output.tail_sol  \n",
       "count          19338.000000           19433.000000  \n",
       "mean               2.705795              10.583728  \n",
       "std                0.949077               2.868782  \n",
       "min                0.000000               0.000000  \n",
       "25%                2.040119               8.938947  \n",
       "50%                2.748730              10.622456  \n",
       "75%                3.333216              12.104271  \n",
       "max                5.804178              22.317730  "
      ]
     },
     "execution_count": 6,
     "metadata": {},
     "output_type": "execute_result"
    }
   ],
   "source": [
    "full.describe()"
   ]
  },
  {
   "cell_type": "code",
   "execution_count": 7,
   "metadata": {},
   "outputs": [
    {
     "name": "stdout",
     "output_type": "stream",
     "text": [
      "490\n"
     ]
    }
   ],
   "source": [
    "print(len(full[(full['rougher.output.recovery'] == 0) |\n",
    "               (full['final.output.recovery'] == 0)]))"
   ]
  },
  {
   "cell_type": "code",
   "execution_count": 8,
   "metadata": {
    "scrolled": true
   },
   "outputs": [
    {
     "name": "stdout",
     "output_type": "stream",
     "text": [
      "<class 'pandas.core.frame.DataFrame'>\n",
      "RangeIndex: 19439 entries, 0 to 19438\n",
      "Data columns (total 87 columns):\n",
      " #   Column                                              Non-Null Count  Dtype  \n",
      "---  ------                                              --------------  -----  \n",
      " 0   date                                                19439 non-null  object \n",
      " 1   rougher.input.feed_au                               19439 non-null  float64\n",
      " 2   rougher.input.feed_ag                               19439 non-null  float64\n",
      " 3   rougher.input.feed_pb                               19339 non-null  float64\n",
      " 4   rougher.input.feed_sol                              19340 non-null  float64\n",
      " 5   rougher.input.feed_rate                             19428 non-null  float64\n",
      " 6   rougher.input.feed_size                             19294 non-null  float64\n",
      " 7   rougher.input.floatbank10_sulfate                   19405 non-null  float64\n",
      " 8   rougher.input.floatbank10_xanthate                  19431 non-null  float64\n",
      " 9   rougher.state.floatbank10_a_air                     19438 non-null  float64\n",
      " 10  rougher.state.floatbank10_a_level                   19438 non-null  float64\n",
      " 11  rougher.state.floatbank10_b_air                     19438 non-null  float64\n",
      " 12  rougher.state.floatbank10_b_level                   19438 non-null  float64\n",
      " 13  rougher.state.floatbank10_c_air                     19438 non-null  float64\n",
      " 14  rougher.state.floatbank10_c_level                   19438 non-null  float64\n",
      " 15  rougher.state.floatbank10_d_air                     19439 non-null  float64\n",
      " 16  rougher.state.floatbank10_d_level                   19439 non-null  float64\n",
      " 17  rougher.state.floatbank10_e_air                     19003 non-null  float64\n",
      " 18  rougher.state.floatbank10_e_level                   19439 non-null  float64\n",
      " 19  rougher.state.floatbank10_f_air                     19439 non-null  float64\n",
      " 20  rougher.state.floatbank10_f_level                   19439 non-null  float64\n",
      " 21  rougher.input.floatbank11_sulfate                   19395 non-null  float64\n",
      " 22  rougher.input.floatbank11_xanthate                  18986 non-null  float64\n",
      " 23  rougher.calculation.sulfate_to_au_concentrate       19437 non-null  float64\n",
      " 24  rougher.calculation.floatbank10_sulfate_to_au_feed  19437 non-null  float64\n",
      " 25  rougher.calculation.floatbank11_sulfate_to_au_feed  19437 non-null  float64\n",
      " 26  rougher.calculation.au_pb_ratio                     19439 non-null  float64\n",
      " 27  rougher.output.concentrate_au                       19439 non-null  float64\n",
      " 28  rougher.output.concentrate_ag                       19439 non-null  float64\n",
      " 29  rougher.output.concentrate_pb                       19439 non-null  float64\n",
      " 30  rougher.output.concentrate_sol                      19416 non-null  float64\n",
      " 31  rougher.output.recovery                             19439 non-null  float64\n",
      " 32  rougher.output.tail_au                              19439 non-null  float64\n",
      " 33  rougher.output.tail_ag                              19438 non-null  float64\n",
      " 34  rougher.output.tail_pb                              19439 non-null  float64\n",
      " 35  rougher.output.tail_sol                             19439 non-null  float64\n",
      " 36  primary_cleaner.input.sulfate                       19415 non-null  float64\n",
      " 37  primary_cleaner.input.depressant                    19402 non-null  float64\n",
      " 38  primary_cleaner.input.feed_size                     19439 non-null  float64\n",
      " 39  primary_cleaner.input.xanthate                      19335 non-null  float64\n",
      " 40  primary_cleaner.state.floatbank8_a_air              19435 non-null  float64\n",
      " 41  primary_cleaner.state.floatbank8_a_level            19438 non-null  float64\n",
      " 42  primary_cleaner.state.floatbank8_b_air              19435 non-null  float64\n",
      " 43  primary_cleaner.state.floatbank8_b_level            19438 non-null  float64\n",
      " 44  primary_cleaner.state.floatbank8_c_air              19437 non-null  float64\n",
      " 45  primary_cleaner.state.floatbank8_c_level            19438 non-null  float64\n",
      " 46  primary_cleaner.state.floatbank8_d_air              19436 non-null  float64\n",
      " 47  primary_cleaner.state.floatbank8_d_level            19438 non-null  float64\n",
      " 48  primary_cleaner.output.concentrate_au               19439 non-null  float64\n",
      " 49  primary_cleaner.output.concentrate_ag               19439 non-null  float64\n",
      " 50  primary_cleaner.output.concentrate_pb               19323 non-null  float64\n",
      " 51  primary_cleaner.output.concentrate_sol              19069 non-null  float64\n",
      " 52  primary_cleaner.output.tail_au                      19439 non-null  float64\n",
      " 53  primary_cleaner.output.tail_ag                      19435 non-null  float64\n",
      " 54  primary_cleaner.output.tail_pb                      19418 non-null  float64\n",
      " 55  primary_cleaner.output.tail_sol                     19377 non-null  float64\n",
      " 56  secondary_cleaner.state.floatbank2_a_air            19219 non-null  float64\n",
      " 57  secondary_cleaner.state.floatbank2_a_level          19438 non-null  float64\n",
      " 58  secondary_cleaner.state.floatbank2_b_air            19416 non-null  float64\n",
      " 59  secondary_cleaner.state.floatbank2_b_level          19438 non-null  float64\n",
      " 60  secondary_cleaner.state.floatbank3_a_air            19426 non-null  float64\n",
      " 61  secondary_cleaner.state.floatbank3_a_level          19438 non-null  float64\n",
      " 62  secondary_cleaner.state.floatbank3_b_air            19438 non-null  float64\n",
      " 63  secondary_cleaner.state.floatbank3_b_level          19438 non-null  float64\n",
      " 64  secondary_cleaner.state.floatbank4_a_air            19433 non-null  float64\n",
      " 65  secondary_cleaner.state.floatbank4_a_level          19438 non-null  float64\n",
      " 66  secondary_cleaner.state.floatbank4_b_air            19438 non-null  float64\n",
      " 67  secondary_cleaner.state.floatbank4_b_level          19438 non-null  float64\n",
      " 68  secondary_cleaner.state.floatbank5_a_air            19438 non-null  float64\n",
      " 69  secondary_cleaner.state.floatbank5_a_level          19438 non-null  float64\n",
      " 70  secondary_cleaner.state.floatbank5_b_air            19438 non-null  float64\n",
      " 71  secondary_cleaner.state.floatbank5_b_level          19438 non-null  float64\n",
      " 72  secondary_cleaner.state.floatbank6_a_air            19437 non-null  float64\n",
      " 73  secondary_cleaner.state.floatbank6_a_level          19438 non-null  float64\n",
      " 74  secondary_cleaner.output.tail_au                    19439 non-null  float64\n",
      " 75  secondary_cleaner.output.tail_ag                    19437 non-null  float64\n",
      " 76  secondary_cleaner.output.tail_pb                    19427 non-null  float64\n",
      " 77  secondary_cleaner.output.tail_sol                   17691 non-null  float64\n",
      " 78  final.output.concentrate_au                         19439 non-null  float64\n",
      " 79  final.output.concentrate_ag                         19438 non-null  float64\n",
      " 80  final.output.concentrate_pb                         19438 non-null  float64\n",
      " 81  final.output.concentrate_sol                        19228 non-null  float64\n",
      " 82  final.output.recovery                               19439 non-null  float64\n",
      " 83  final.output.tail_au                                19439 non-null  float64\n",
      " 84  final.output.tail_ag                                19438 non-null  float64\n",
      " 85  final.output.tail_pb                                19338 non-null  float64\n",
      " 86  final.output.tail_sol                               19433 non-null  float64\n",
      "dtypes: float64(86), object(1)\n",
      "memory usage: 12.9+ MB\n"
     ]
    }
   ],
   "source": [
    "train.info()"
   ]
  },
  {
   "cell_type": "code",
   "execution_count": 9,
   "metadata": {
    "scrolled": true
   },
   "outputs": [
    {
     "name": "stdout",
     "output_type": "stream",
     "text": [
      "<class 'pandas.core.frame.DataFrame'>\n",
      "RangeIndex: 4860 entries, 0 to 4859\n",
      "Data columns (total 53 columns):\n",
      " #   Column                                      Non-Null Count  Dtype  \n",
      "---  ------                                      --------------  -----  \n",
      " 0   date                                        4860 non-null   object \n",
      " 1   rougher.input.feed_au                       4860 non-null   float64\n",
      " 2   rougher.input.feed_ag                       4860 non-null   float64\n",
      " 3   rougher.input.feed_pb                       4832 non-null   float64\n",
      " 4   rougher.input.feed_sol                      4838 non-null   float64\n",
      " 5   rougher.input.feed_rate                     4856 non-null   float64\n",
      " 6   rougher.input.feed_size                     4816 non-null   float64\n",
      " 7   rougher.input.floatbank10_sulfate           4857 non-null   float64\n",
      " 8   rougher.input.floatbank10_xanthate          4859 non-null   float64\n",
      " 9   rougher.state.floatbank10_a_air             4859 non-null   float64\n",
      " 10  rougher.state.floatbank10_a_level           4859 non-null   float64\n",
      " 11  rougher.state.floatbank10_b_air             4859 non-null   float64\n",
      " 12  rougher.state.floatbank10_b_level           4859 non-null   float64\n",
      " 13  rougher.state.floatbank10_c_air             4859 non-null   float64\n",
      " 14  rougher.state.floatbank10_c_level           4859 non-null   float64\n",
      " 15  rougher.state.floatbank10_d_air             4860 non-null   float64\n",
      " 16  rougher.state.floatbank10_d_level           4860 non-null   float64\n",
      " 17  rougher.state.floatbank10_e_air             4853 non-null   float64\n",
      " 18  rougher.state.floatbank10_e_level           4860 non-null   float64\n",
      " 19  rougher.state.floatbank10_f_air             4860 non-null   float64\n",
      " 20  rougher.state.floatbank10_f_level           4860 non-null   float64\n",
      " 21  rougher.input.floatbank11_sulfate           4852 non-null   float64\n",
      " 22  rougher.input.floatbank11_xanthate          4814 non-null   float64\n",
      " 23  primary_cleaner.input.sulfate               4859 non-null   float64\n",
      " 24  primary_cleaner.input.depressant            4851 non-null   float64\n",
      " 25  primary_cleaner.input.feed_size             4860 non-null   float64\n",
      " 26  primary_cleaner.input.xanthate              4817 non-null   float64\n",
      " 27  primary_cleaner.state.floatbank8_a_air      4859 non-null   float64\n",
      " 28  primary_cleaner.state.floatbank8_a_level    4859 non-null   float64\n",
      " 29  primary_cleaner.state.floatbank8_b_air      4859 non-null   float64\n",
      " 30  primary_cleaner.state.floatbank8_b_level    4859 non-null   float64\n",
      " 31  primary_cleaner.state.floatbank8_c_air      4858 non-null   float64\n",
      " 32  primary_cleaner.state.floatbank8_c_level    4859 non-null   float64\n",
      " 33  primary_cleaner.state.floatbank8_d_air      4858 non-null   float64\n",
      " 34  primary_cleaner.state.floatbank8_d_level    4859 non-null   float64\n",
      " 35  secondary_cleaner.state.floatbank2_a_air    4734 non-null   float64\n",
      " 36  secondary_cleaner.state.floatbank2_a_level  4859 non-null   float64\n",
      " 37  secondary_cleaner.state.floatbank2_b_air    4859 non-null   float64\n",
      " 38  secondary_cleaner.state.floatbank2_b_level  4859 non-null   float64\n",
      " 39  secondary_cleaner.state.floatbank3_a_air    4859 non-null   float64\n",
      " 40  secondary_cleaner.state.floatbank3_a_level  4859 non-null   float64\n",
      " 41  secondary_cleaner.state.floatbank3_b_air    4859 non-null   float64\n",
      " 42  secondary_cleaner.state.floatbank3_b_level  4859 non-null   float64\n",
      " 43  secondary_cleaner.state.floatbank4_a_air    4859 non-null   float64\n",
      " 44  secondary_cleaner.state.floatbank4_a_level  4859 non-null   float64\n",
      " 45  secondary_cleaner.state.floatbank4_b_air    4859 non-null   float64\n",
      " 46  secondary_cleaner.state.floatbank4_b_level  4859 non-null   float64\n",
      " 47  secondary_cleaner.state.floatbank5_a_air    4859 non-null   float64\n",
      " 48  secondary_cleaner.state.floatbank5_a_level  4859 non-null   float64\n",
      " 49  secondary_cleaner.state.floatbank5_b_air    4859 non-null   float64\n",
      " 50  secondary_cleaner.state.floatbank5_b_level  4859 non-null   float64\n",
      " 51  secondary_cleaner.state.floatbank6_a_air    4859 non-null   float64\n",
      " 52  secondary_cleaner.state.floatbank6_a_level  4859 non-null   float64\n",
      "dtypes: float64(52), object(1)\n",
      "memory usage: 2.0+ MB\n"
     ]
    }
   ],
   "source": [
    "test.info()"
   ]
  },
  {
   "cell_type": "code",
   "execution_count": 10,
   "metadata": {
    "scrolled": true
   },
   "outputs": [
    {
     "data": {
      "text/plain": [
       "date                      0.000000\n",
       "rougher.input.feed_au     0.000000\n",
       "rougher.input.feed_ag     0.000000\n",
       "rougher.input.feed_pb     0.514430\n",
       "rougher.input.feed_sol    0.509285\n",
       "                            ...   \n",
       "final.output.recovery     0.000000\n",
       "final.output.tail_au      0.000000\n",
       "final.output.tail_ag      0.005144\n",
       "final.output.tail_pb      0.519574\n",
       "final.output.tail_sol     0.030866\n",
       "Length: 87, dtype: float64"
      ]
     },
     "execution_count": 10,
     "metadata": {},
     "output_type": "execute_result"
    }
   ],
   "source": [
    "train.isna().sum() / len(train) * 100"
   ]
  },
  {
   "cell_type": "code",
   "execution_count": 11,
   "metadata": {},
   "outputs": [
    {
     "name": "stdout",
     "output_type": "stream",
     "text": [
      "Доля строк с пропущенными значениями: 0.17207675291938887\n"
     ]
    }
   ],
   "source": [
    "count = len(train[train.isna().any(axis=1)])\n",
    "print(\"Доля строк с пропущенными значениями:\", count/len(train))"
   ]
  },
  {
   "cell_type": "markdown",
   "metadata": {},
   "source": [
    "Достаточно много"
   ]
  },
  {
   "cell_type": "code",
   "execution_count": 12,
   "metadata": {
    "scrolled": true
   },
   "outputs": [
    {
     "data": {
      "text/plain": [
       "date                                          0.000000\n",
       "rougher.input.feed_au                         0.000000\n",
       "rougher.input.feed_ag                         0.000000\n",
       "rougher.input.feed_pb                         0.144040\n",
       "rougher.input.feed_sol                        0.113175\n",
       "rougher.input.feed_rate                       0.020577\n",
       "rougher.input.feed_size                       0.226349\n",
       "rougher.input.floatbank10_sulfate             0.015433\n",
       "rougher.input.floatbank10_xanthate            0.005144\n",
       "rougher.state.floatbank10_a_air               0.005144\n",
       "rougher.state.floatbank10_a_level             0.005144\n",
       "rougher.state.floatbank10_b_air               0.005144\n",
       "rougher.state.floatbank10_b_level             0.005144\n",
       "rougher.state.floatbank10_c_air               0.005144\n",
       "rougher.state.floatbank10_c_level             0.005144\n",
       "rougher.state.floatbank10_d_air               0.000000\n",
       "rougher.state.floatbank10_d_level             0.000000\n",
       "rougher.state.floatbank10_e_air               0.036010\n",
       "rougher.state.floatbank10_e_level             0.000000\n",
       "rougher.state.floatbank10_f_air               0.000000\n",
       "rougher.state.floatbank10_f_level             0.000000\n",
       "rougher.input.floatbank11_sulfate             0.041154\n",
       "rougher.input.floatbank11_xanthate            0.236638\n",
       "primary_cleaner.input.sulfate                 0.005144\n",
       "primary_cleaner.input.depressant              0.046299\n",
       "primary_cleaner.input.feed_size               0.000000\n",
       "primary_cleaner.input.xanthate                0.221205\n",
       "primary_cleaner.state.floatbank8_a_air        0.005144\n",
       "primary_cleaner.state.floatbank8_a_level      0.005144\n",
       "primary_cleaner.state.floatbank8_b_air        0.005144\n",
       "primary_cleaner.state.floatbank8_b_level      0.005144\n",
       "primary_cleaner.state.floatbank8_c_air        0.010289\n",
       "primary_cleaner.state.floatbank8_c_level      0.005144\n",
       "primary_cleaner.state.floatbank8_d_air        0.010289\n",
       "primary_cleaner.state.floatbank8_d_level      0.005144\n",
       "secondary_cleaner.state.floatbank2_a_air      0.648181\n",
       "secondary_cleaner.state.floatbank2_a_level    0.005144\n",
       "secondary_cleaner.state.floatbank2_b_air      0.005144\n",
       "secondary_cleaner.state.floatbank2_b_level    0.005144\n",
       "secondary_cleaner.state.floatbank3_a_air      0.005144\n",
       "secondary_cleaner.state.floatbank3_a_level    0.005144\n",
       "secondary_cleaner.state.floatbank3_b_air      0.005144\n",
       "secondary_cleaner.state.floatbank3_b_level    0.005144\n",
       "secondary_cleaner.state.floatbank4_a_air      0.005144\n",
       "secondary_cleaner.state.floatbank4_a_level    0.005144\n",
       "secondary_cleaner.state.floatbank4_b_air      0.005144\n",
       "secondary_cleaner.state.floatbank4_b_level    0.005144\n",
       "secondary_cleaner.state.floatbank5_a_air      0.005144\n",
       "secondary_cleaner.state.floatbank5_a_level    0.005144\n",
       "secondary_cleaner.state.floatbank5_b_air      0.005144\n",
       "secondary_cleaner.state.floatbank5_b_level    0.005144\n",
       "secondary_cleaner.state.floatbank6_a_air      0.005144\n",
       "secondary_cleaner.state.floatbank6_a_level    0.005144\n",
       "dtype: float64"
      ]
     },
     "execution_count": 12,
     "metadata": {},
     "output_type": "execute_result"
    }
   ],
   "source": [
    "test.isna().sum() / len(train) * 100"
   ]
  },
  {
   "cell_type": "code",
   "execution_count": 13,
   "metadata": {},
   "outputs": [
    {
     "name": "stdout",
     "output_type": "stream",
     "text": [
      "Доля строк с пропущенными значениями: 0.06646090534979424\n"
     ]
    }
   ],
   "source": [
    "count = len(test[test.isna().any(axis=1)])\n",
    "print(\"Доля строк с пропущенными значениями:\", count/len(test))"
   ]
  },
  {
   "cell_type": "markdown",
   "metadata": {},
   "source": [
    "Меньше."
   ]
  },
  {
   "cell_type": "code",
   "execution_count": 14,
   "metadata": {
    "scrolled": true
   },
   "outputs": [
    {
     "data": {
      "text/plain": [
       "date                      0.000000\n",
       "rougher.input.feed_au     0.000000\n",
       "rougher.input.feed_ag     0.000000\n",
       "rougher.input.feed_pb     0.514430\n",
       "rougher.input.feed_sol    0.509285\n",
       "                            ...   \n",
       "final.output.recovery     0.000000\n",
       "final.output.tail_au      0.000000\n",
       "final.output.tail_ag      0.005144\n",
       "final.output.tail_pb      0.519574\n",
       "final.output.tail_sol     0.030866\n",
       "Length: 87, dtype: float64"
      ]
     },
     "execution_count": 14,
     "metadata": {},
     "output_type": "execute_result"
    }
   ],
   "source": [
    "full.isna().sum() / len(train) * 100"
   ]
  },
  {
   "cell_type": "code",
   "execution_count": 15,
   "metadata": {},
   "outputs": [
    {
     "name": "stdout",
     "output_type": "stream",
     "text": [
      "Доля строк с пропущенными значениями: 0.17207675291938887\n"
     ]
    }
   ],
   "source": [
    "count = len(full[full.isna().any(axis=1)])\n",
    "print(\"Доля строк с пропущенными значениями:\", count/len(full))"
   ]
  },
  {
   "cell_type": "markdown",
   "metadata": {},
   "source": [
    "Еще больше"
   ]
  },
  {
   "cell_type": "markdown",
   "metadata": {},
   "source": [
    "Названия столбцов, тип данных, разброс данных в столбцах адекватный."
   ]
  },
  {
   "cell_type": "markdown",
   "metadata": {},
   "source": [
    "**Посмотрим какими столбцами отличаются тренировочная и тестовая выборки.**"
   ]
  },
  {
   "cell_type": "code",
   "execution_count": 16,
   "metadata": {},
   "outputs": [
    {
     "data": {
      "text/plain": [
       "{'final.output.concentrate_ag',\n",
       " 'final.output.concentrate_au',\n",
       " 'final.output.concentrate_pb',\n",
       " 'final.output.concentrate_sol',\n",
       " 'final.output.recovery',\n",
       " 'final.output.tail_ag',\n",
       " 'final.output.tail_au',\n",
       " 'final.output.tail_pb',\n",
       " 'final.output.tail_sol',\n",
       " 'primary_cleaner.output.concentrate_ag',\n",
       " 'primary_cleaner.output.concentrate_au',\n",
       " 'primary_cleaner.output.concentrate_pb',\n",
       " 'primary_cleaner.output.concentrate_sol',\n",
       " 'primary_cleaner.output.tail_ag',\n",
       " 'primary_cleaner.output.tail_au',\n",
       " 'primary_cleaner.output.tail_pb',\n",
       " 'primary_cleaner.output.tail_sol',\n",
       " 'rougher.calculation.au_pb_ratio',\n",
       " 'rougher.calculation.floatbank10_sulfate_to_au_feed',\n",
       " 'rougher.calculation.floatbank11_sulfate_to_au_feed',\n",
       " 'rougher.calculation.sulfate_to_au_concentrate',\n",
       " 'rougher.output.concentrate_ag',\n",
       " 'rougher.output.concentrate_au',\n",
       " 'rougher.output.concentrate_pb',\n",
       " 'rougher.output.concentrate_sol',\n",
       " 'rougher.output.recovery',\n",
       " 'rougher.output.tail_ag',\n",
       " 'rougher.output.tail_au',\n",
       " 'rougher.output.tail_pb',\n",
       " 'rougher.output.tail_sol',\n",
       " 'secondary_cleaner.output.tail_ag',\n",
       " 'secondary_cleaner.output.tail_au',\n",
       " 'secondary_cleaner.output.tail_pb',\n",
       " 'secondary_cleaner.output.tail_sol'}"
      ]
     },
     "execution_count": 16,
     "metadata": {},
     "output_type": "execute_result"
    }
   ],
   "source": [
    "only_train = set(train.columns) - set(test.columns)\n",
    "only_train"
   ]
  },
  {
   "cell_type": "markdown",
   "metadata": {},
   "source": [
    "Столбцы состояния продукта на выходе каждого этапа, а также 4 расчетные характеристики и целевые признаки."
   ]
  },
  {
   "cell_type": "markdown",
   "metadata": {},
   "source": [
    "Если просто удалить пропущенные, то в полном датасете потеряем больше 15%. Заполним соседними данными, т.к. по условию соседние строки схожи по данным.\n",
    "Отметим также, что наши целевые признаки rougher.output.recovery и final.output.recovery не содержат пропусков."
   ]
  },
  {
   "cell_type": "code",
   "execution_count": 17,
   "metadata": {},
   "outputs": [],
   "source": [
    "columns_to_filler = full.columns[1:]\n",
    "filler = KNNImputer(n_neighbors=10, weights='distance')\n",
    "to_full = pd.DataFrame(filler.fit_transform(full[columns_to_filler]))\n",
    "full[columns_to_filler] = to_full"
   ]
  },
  {
   "cell_type": "code",
   "execution_count": 18,
   "metadata": {},
   "outputs": [
    {
     "data": {
      "text/plain": [
       "(19439, 87)"
      ]
     },
     "execution_count": 18,
     "metadata": {},
     "output_type": "execute_result"
    }
   ],
   "source": [
    "full.shape"
   ]
  },
  {
   "cell_type": "markdown",
   "metadata": {},
   "source": [
    "**Оценим адекватность recovery для флотации.**"
   ]
  },
  {
   "cell_type": "code",
   "execution_count": 19,
   "metadata": {},
   "outputs": [],
   "source": [
    "col = ['rougher.output.concentrate_au',\n",
    "       'rougher.input.feed_au',\n",
    "       'rougher.output.tail_au',\n",
    "       'rougher.output.recovery']\n",
    "train_for_rec = train[col].dropna()"
   ]
  },
  {
   "cell_type": "code",
   "execution_count": 20,
   "metadata": {},
   "outputs": [],
   "source": [
    "C = train[col[0]]\n",
    "F = train[col[1]]\n",
    "T = train[col[2]]\n",
    "recovery = train[col[3]]"
   ]
  },
  {
   "cell_type": "code",
   "execution_count": 21,
   "metadata": {},
   "outputs": [
    {
     "data": {
      "text/plain": [
       "count    19439.000000\n",
       "mean        83.328587\n",
       "std         14.148086\n",
       "min          0.000000\n",
       "25%         81.037957\n",
       "50%         86.188892\n",
       "75%         90.010670\n",
       "max        100.000000\n",
       "Name: rougher.output.recovery, dtype: float64"
      ]
     },
     "execution_count": 21,
     "metadata": {},
     "output_type": "execute_result"
    }
   ],
   "source": [
    "recovery.describe()"
   ]
  },
  {
   "cell_type": "code",
   "execution_count": 22,
   "metadata": {},
   "outputs": [
    {
     "name": "stdout",
     "output_type": "stream",
     "text": [
      "9.871121473701021e-15\n"
     ]
    }
   ],
   "source": [
    "print(mae(recovery, (((C*(F-T))/(F*(C-T)))*100)))"
   ]
  },
  {
   "cell_type": "markdown",
   "metadata": {},
   "source": [
    "Значение очень маленькое, recovery адекватно."
   ]
  },
  {
   "cell_type": "markdown",
   "metadata": {},
   "source": [
    "## Анализ данных"
   ]
  },
  {
   "cell_type": "markdown",
   "metadata": {},
   "source": [
    "**Посмотрим как меняется концентрация металлов в процессе обработки.**"
   ]
  },
  {
   "cell_type": "code",
   "execution_count": 23,
   "metadata": {},
   "outputs": [],
   "source": [
    "def plot_show(metal):\n",
    "  step_1 = full[f'rougher.input.feed_{metal}']\n",
    "  step_2 = full[f'rougher.output.concentrate_{metal}']\n",
    "  step_3 = full[f'primary_cleaner.output.concentrate_{metal}']\n",
    "  step_4 = full[f'final.output.concentrate_{metal}']\n",
    "\n",
    "  plt.figure(figsize=(9, 4))\n",
    "  sns.histplot(step_1, label = \"Сырье\", color='blue')\n",
    "  sns.histplot(step_2, label = \"Черновой концентрат\", color='orange')\n",
    "  sns.histplot(step_3, label = \"Концентрат первой очистки\", color='green')\n",
    "  sns.histplot(step_4, label = \"Финальный концентрат\", color='red')\n",
    "  \n",
    "  plt.title(label=f'Распределение концентрации {metal} на разных этапах очистки', fontsize=15)\n",
    "  plt.xlabel('Концентрация')\n",
    "  plt.ylabel('Количество наблюдений')\n",
    "  plt.legend()\n",
    "\n",
    "  print(f'Динамика средней концентрации {metal}: {step_1.mean():.2f} -- {step_2.mean():.2f} -- {step_3.mean():.2f} -- {step_4.mean():.2f}')"
   ]
  },
  {
   "cell_type": "code",
   "execution_count": 24,
   "metadata": {},
   "outputs": [
    {
     "name": "stdout",
     "output_type": "stream",
     "text": [
      "Динамика средней концентрации au: 8.27 -- 19.77 -- 32.12 -- 44.08\n"
     ]
    },
    {
     "data": {
      "image/png": "[encoded data removed]",
      "text/plain": [
       "<Figure size 900x400 with 1 Axes>"
      ]
     },
     "metadata": {},
     "output_type": "display_data"
    }
   ],
   "source": [
    "plot_show('au')"
   ]
  },
  {
   "cell_type": "code",
   "execution_count": 25,
   "metadata": {},
   "outputs": [
    {
     "name": "stdout",
     "output_type": "stream",
     "text": [
      "Динамика средней концентрации ag: 8.79 -- 11.99 -- 8.44 -- 5.17\n"
     ]
    },
    {
     "data": {
      "image/png": "[encoded data removed]",
      "text/plain": [
       "<Figure size 900x400 with 1 Axes>"
      ]
     },
     "metadata": {},
     "output_type": "display_data"
    }
   ],
   "source": [
    "plot_show('ag')"
   ]
  },
  {
   "cell_type": "code",
   "execution_count": 26,
   "metadata": {},
   "outputs": [
    {
     "name": "stdout",
     "output_type": "stream",
     "text": [
      "Динамика средней концентрации pb: 3.60 -- 7.61 -- 9.82 -- 9.98\n"
     ]
    },
    {
     "data": {
      "image/png": "[encoded data removed]",
      "text/plain": [
       "<Figure size 900x400 with 1 Axes>"
      ]
     },
     "metadata": {},
     "output_type": "display_data"
    }
   ],
   "source": [
    "plot_show('pb')"
   ]
  },
  {
   "cell_type": "markdown",
   "metadata": {},
   "source": [
    "Концентрация золота непрерывно увеличивается, чего не скажешь о других металлах. Наверное так и должно быть, учитывая, что цель золото."
   ]
  },
  {
   "cell_type": "markdown",
   "metadata": {},
   "source": [
    "**Сравним размеры гранул в обучающей и тестовой выборке.**"
   ]
  },
  {
   "cell_type": "code",
   "execution_count": 27,
   "metadata": {},
   "outputs": [
    {
     "data": {
      "text/plain": [
       "<matplotlib.legend.Legend at 0x26d32ff3fd0>"
      ]
     },
     "execution_count": 27,
     "metadata": {},
     "output_type": "execute_result"
    },
    {
     "data": {
      "image/png": "[encoded data removed]",
      "text/plain": [
       "<Figure size 900x400 with 1 Axes>"
      ]
     },
     "metadata": {},
     "output_type": "display_data"
    }
   ],
   "source": [
    "plt.figure(figsize=(9, 4))\n",
    "sns.distplot(train['rougher.input.feed_size'].dropna(), label = \"Сырье обучающей выборки\")\n",
    "sns.distplot(test['rougher.input.feed_size'].dropna(), label = \"Сырье тестовой выборки\")\n",
    "plt.title(label='Сравнение размеров гранул в выборках', fontsize=15)\n",
    "plt.xlabel('Размер гранул')\n",
    "plt.ylabel('Количество наблюдений')\n",
    "plt.legend()"
   ]
  },
  {
   "cell_type": "markdown",
   "metadata": {},
   "source": [
    "Визуально размеры схожие\n",
    "Сравним средние и посмотрим на стат значимость."
   ]
  },
  {
   "cell_type": "code",
   "execution_count": 28,
   "metadata": {},
   "outputs": [
    {
     "name": "stdout",
     "output_type": "stream",
     "text": [
      "58.9703099253629\n",
      "59.11339962327545\n"
     ]
    }
   ],
   "source": [
    "print(train['rougher.input.feed_size'].mean())\n",
    "print(test['rougher.input.feed_size'].mean())"
   ]
  },
  {
   "cell_type": "code",
   "execution_count": 29,
   "metadata": {},
   "outputs": [
    {
     "name": "stdout",
     "output_type": "stream",
     "text": [
      "Значение t-статистики: -0.45201983448853106\n",
      "Значение p-value: 0.6512666877735448\n"
     ]
    }
   ],
   "source": [
    "t_statistic, p_value = st.ttest_ind(train['rougher.input.feed_size'].dropna(), test['rougher.input.feed_size'].dropna(), equal_var=False)\n",
    "\n",
    "print(f\"Значение t-статистики: {t_statistic}\")\n",
    "print(f\"Значение p-value: {p_value}\")"
   ]
  },
  {
   "cell_type": "markdown",
   "metadata": {},
   "source": [
    "Можем с уверенностью принимать нулевую гипотезу что средний размер гранул одинаковый."
   ]
  },
  {
   "cell_type": "markdown",
   "metadata": {},
   "source": [
    "**Посмотрим на общую концентрацию веществ на разных этапах очистки.**"
   ]
  },
  {
   "cell_type": "code",
   "execution_count": 30,
   "metadata": {},
   "outputs": [
    {
     "name": "stdout",
     "output_type": "stream",
     "text": [
      "Динамика средней общей концентрации: 57.34 -- 68.18 -- 60.87 -- 68.70\n"
     ]
    },
    {
     "data": {
      "image/png": "[encoded data removed]",
      "text/plain": [
       "<Figure size 900x400 with 1 Axes>"
      ]
     },
     "metadata": {},
     "output_type": "display_data"
    }
   ],
   "source": [
    "spisok_1 = ['au', 'ag', 'pb', 'sol']\n",
    "spisok_2 = ['rougher.input.feed_', 'rougher.output.concentrate_', 'primary_cleaner.output.concentrate_', 'final.output.concentrate_']\n",
    "for i in spisok_2:\n",
    "  full[i] = full[i+spisok_1[0]] + full[i+spisok_1[1]] + full[i+spisok_1[2]] + full[i+spisok_1[3]]\n",
    "\n",
    "с_1 = full['rougher.input.feed_']\n",
    "с_2 = full['rougher.output.concentrate_']\n",
    "с_3 = full['primary_cleaner.output.concentrate_']\n",
    "с_4 = full['final.output.concentrate_']\n",
    "plt.figure(figsize=(9, 4))\n",
    "sns.distplot(с_1, label = \"Сырье\")\n",
    "sns.distplot(с_2, label = \"Черновой концентрат\")\n",
    "sns.distplot(с_3, label = \"Концентрат первой очистки\")\n",
    "sns.distplot(с_4, label = \"Финальный концентрат\")\n",
    "  \n",
    "plt.title(label=f'Общая концентрация на разных этапах очистки', fontsize=15)\n",
    "plt.xlabel('Концентрация')\n",
    "plt.ylabel('Количество наблюдений')\n",
    "plt.legend()\n",
    "\n",
    "print(f'Динамика средней общей концентрации: {с_1.mean():.2f} -- {с_2.mean():.2f} -- {с_3.mean():.2f} -- {с_4.mean():.2f}')"
   ]
  },
  {
   "cell_type": "markdown",
   "metadata": {},
   "source": [
    "Уберем выбросы из тренировочной выборки"
   ]
  },
  {
   "cell_type": "code",
   "execution_count": 31,
   "metadata": {},
   "outputs": [],
   "source": [
    "to_del = full[(full['rougher.input.feed_'] < 1) | (full['rougher.output.concentrate_'] < 1) |\n",
    "             (full['primary_cleaner.output.concentrate_'] < 1) | (full['final.output.concentrate_'] < 1)]"
   ]
  },
  {
   "cell_type": "code",
   "execution_count": 32,
   "metadata": {},
   "outputs": [],
   "source": [
    "values_to_remove = to_del['date'].unique()\n",
    "train = train[~train['date'].isin(values_to_remove)]"
   ]
  },
  {
   "cell_type": "code",
   "execution_count": 33,
   "metadata": {},
   "outputs": [
    {
     "data": {
      "text/plain": [
       "(18722, 87)"
      ]
     },
     "execution_count": 33,
     "metadata": {},
     "output_type": "execute_result"
    }
   ],
   "source": [
    "train.shape"
   ]
  },
  {
   "cell_type": "code",
   "execution_count": 34,
   "metadata": {},
   "outputs": [
    {
     "data": {
      "text/html": [
       "<div>\n",
       "<style scoped>\n",
       "    .dataframe tbody tr th:only-of-type {\n",
       "        vertical-align: middle;\n",
       "    }\n",
       "\n",
       "    .dataframe tbody tr th {\n",
       "        vertical-align: top;\n",
       "    }\n",
       "\n",
       "    .dataframe thead th {\n",
       "        text-align: right;\n",
       "    }\n",
       "</style>\n",
       "<table border=\"1\" class=\"dataframe\">\n",
       "  <thead>\n",
       "    <tr style=\"text-align: right;\">\n",
       "      <th></th>\n",
       "      <th>date</th>\n",
       "      <th>rougher.input.feed_au</th>\n",
       "      <th>rougher.input.feed_ag</th>\n",
       "      <th>rougher.input.feed_pb</th>\n",
       "      <th>rougher.input.feed_sol</th>\n",
       "      <th>rougher.input.feed_rate</th>\n",
       "      <th>rougher.input.feed_size</th>\n",
       "      <th>rougher.input.floatbank10_sulfate</th>\n",
       "      <th>rougher.input.floatbank10_xanthate</th>\n",
       "      <th>rougher.state.floatbank10_a_air</th>\n",
       "      <th>rougher.state.floatbank10_a_level</th>\n",
       "      <th>rougher.state.floatbank10_b_air</th>\n",
       "      <th>rougher.state.floatbank10_b_level</th>\n",
       "      <th>rougher.state.floatbank10_c_air</th>\n",
       "      <th>rougher.state.floatbank10_c_level</th>\n",
       "      <th>rougher.state.floatbank10_d_air</th>\n",
       "      <th>rougher.state.floatbank10_d_level</th>\n",
       "      <th>rougher.state.floatbank10_e_air</th>\n",
       "      <th>rougher.state.floatbank10_e_level</th>\n",
       "      <th>rougher.state.floatbank10_f_air</th>\n",
       "      <th>rougher.state.floatbank10_f_level</th>\n",
       "      <th>rougher.input.floatbank11_sulfate</th>\n",
       "      <th>rougher.input.floatbank11_xanthate</th>\n",
       "      <th>rougher.calculation.sulfate_to_au_concentrate</th>\n",
       "      <th>rougher.calculation.floatbank10_sulfate_to_au_feed</th>\n",
       "      <th>rougher.calculation.floatbank11_sulfate_to_au_feed</th>\n",
       "      <th>rougher.calculation.au_pb_ratio</th>\n",
       "      <th>rougher.output.concentrate_au</th>\n",
       "      <th>rougher.output.concentrate_ag</th>\n",
       "      <th>rougher.output.concentrate_pb</th>\n",
       "      <th>rougher.output.concentrate_sol</th>\n",
       "      <th>rougher.output.recovery</th>\n",
       "      <th>rougher.output.tail_au</th>\n",
       "      <th>rougher.output.tail_ag</th>\n",
       "      <th>rougher.output.tail_pb</th>\n",
       "      <th>rougher.output.tail_sol</th>\n",
       "      <th>primary_cleaner.input.sulfate</th>\n",
       "      <th>primary_cleaner.input.depressant</th>\n",
       "      <th>primary_cleaner.input.feed_size</th>\n",
       "      <th>primary_cleaner.input.xanthate</th>\n",
       "      <th>primary_cleaner.state.floatbank8_a_air</th>\n",
       "      <th>primary_cleaner.state.floatbank8_a_level</th>\n",
       "      <th>primary_cleaner.state.floatbank8_b_air</th>\n",
       "      <th>primary_cleaner.state.floatbank8_b_level</th>\n",
       "      <th>primary_cleaner.state.floatbank8_c_air</th>\n",
       "      <th>primary_cleaner.state.floatbank8_c_level</th>\n",
       "      <th>primary_cleaner.state.floatbank8_d_air</th>\n",
       "      <th>primary_cleaner.state.floatbank8_d_level</th>\n",
       "      <th>primary_cleaner.output.concentrate_au</th>\n",
       "      <th>primary_cleaner.output.concentrate_ag</th>\n",
       "      <th>primary_cleaner.output.concentrate_pb</th>\n",
       "      <th>primary_cleaner.output.concentrate_sol</th>\n",
       "      <th>primary_cleaner.output.tail_au</th>\n",
       "      <th>primary_cleaner.output.tail_ag</th>\n",
       "      <th>primary_cleaner.output.tail_pb</th>\n",
       "      <th>primary_cleaner.output.tail_sol</th>\n",
       "      <th>secondary_cleaner.state.floatbank2_a_air</th>\n",
       "      <th>secondary_cleaner.state.floatbank2_a_level</th>\n",
       "      <th>secondary_cleaner.state.floatbank2_b_air</th>\n",
       "      <th>secondary_cleaner.state.floatbank2_b_level</th>\n",
       "      <th>secondary_cleaner.state.floatbank3_a_air</th>\n",
       "      <th>secondary_cleaner.state.floatbank3_a_level</th>\n",
       "      <th>secondary_cleaner.state.floatbank3_b_air</th>\n",
       "      <th>secondary_cleaner.state.floatbank3_b_level</th>\n",
       "      <th>secondary_cleaner.state.floatbank4_a_air</th>\n",
       "      <th>secondary_cleaner.state.floatbank4_a_level</th>\n",
       "      <th>secondary_cleaner.state.floatbank4_b_air</th>\n",
       "      <th>secondary_cleaner.state.floatbank4_b_level</th>\n",
       "      <th>secondary_cleaner.state.floatbank5_a_air</th>\n",
       "      <th>secondary_cleaner.state.floatbank5_a_level</th>\n",
       "      <th>secondary_cleaner.state.floatbank5_b_air</th>\n",
       "      <th>secondary_cleaner.state.floatbank5_b_level</th>\n",
       "      <th>secondary_cleaner.state.floatbank6_a_air</th>\n",
       "      <th>secondary_cleaner.state.floatbank6_a_level</th>\n",
       "      <th>secondary_cleaner.output.tail_au</th>\n",
       "      <th>secondary_cleaner.output.tail_ag</th>\n",
       "      <th>secondary_cleaner.output.tail_pb</th>\n",
       "      <th>secondary_cleaner.output.tail_sol</th>\n",
       "      <th>final.output.concentrate_au</th>\n",
       "      <th>final.output.concentrate_ag</th>\n",
       "      <th>final.output.concentrate_pb</th>\n",
       "      <th>final.output.concentrate_sol</th>\n",
       "      <th>final.output.recovery</th>\n",
       "      <th>final.output.tail_au</th>\n",
       "      <th>final.output.tail_ag</th>\n",
       "      <th>final.output.tail_pb</th>\n",
       "      <th>final.output.tail_sol</th>\n",
       "    </tr>\n",
       "  </thead>\n",
       "  <tbody>\n",
       "    <tr>\n",
       "      <th>0</th>\n",
       "      <td>2016-01-15 00:00:00</td>\n",
       "      <td>6.486150</td>\n",
       "      <td>6.100378</td>\n",
       "      <td>2.284912</td>\n",
       "      <td>36.808594</td>\n",
       "      <td>523.546326</td>\n",
       "      <td>55.486599</td>\n",
       "      <td>11.986616</td>\n",
       "      <td>6.007990</td>\n",
       "      <td>999.706909</td>\n",
       "      <td>-404.066986</td>\n",
       "      <td>1603.011353</td>\n",
       "      <td>-434.715027</td>\n",
       "      <td>1602.375000</td>\n",
       "      <td>-442.204468</td>\n",
       "      <td>1598.937256</td>\n",
       "      <td>-451.294128</td>\n",
       "      <td>1404.472046</td>\n",
       "      <td>-455.462982</td>\n",
       "      <td>1416.354980</td>\n",
       "      <td>-451.939636</td>\n",
       "      <td>11.836743</td>\n",
       "      <td>6.005818</td>\n",
       "      <td>41885.707031</td>\n",
       "      <td>3481.779053</td>\n",
       "      <td>3520.337158</td>\n",
       "      <td>2.838687</td>\n",
       "      <td>19.793808</td>\n",
       "      <td>11.500771</td>\n",
       "      <td>7.101074</td>\n",
       "      <td>28.029297</td>\n",
       "      <td>87.107763</td>\n",
       "      <td>1.170244</td>\n",
       "      <td>5.008018</td>\n",
       "      <td>0.508728</td>\n",
       "      <td>19.154297</td>\n",
       "      <td>127.092003</td>\n",
       "      <td>10.128295</td>\n",
       "      <td>7.25</td>\n",
       "      <td>0.988759</td>\n",
       "      <td>1549.775757</td>\n",
       "      <td>-498.912140</td>\n",
       "      <td>1551.434204</td>\n",
       "      <td>-516.403442</td>\n",
       "      <td>1549.873901</td>\n",
       "      <td>-498.666595</td>\n",
       "      <td>1554.367432</td>\n",
       "      <td>-493.428131</td>\n",
       "      <td>34.174427</td>\n",
       "      <td>8.547551</td>\n",
       "      <td>10.389648</td>\n",
       "      <td>19.529297</td>\n",
       "      <td>2.106679</td>\n",
       "      <td>14.936526</td>\n",
       "      <td>2.534912</td>\n",
       "      <td>7.476074</td>\n",
       "      <td>25.853109</td>\n",
       "      <td>-498.526489</td>\n",
       "      <td>23.893660</td>\n",
       "      <td>-501.406281</td>\n",
       "      <td>23.961798</td>\n",
       "      <td>-495.262817</td>\n",
       "      <td>21.940409</td>\n",
       "      <td>-499.340973</td>\n",
       "      <td>14.016835</td>\n",
       "      <td>-502.488007</td>\n",
       "      <td>12.099931</td>\n",
       "      <td>-504.715942</td>\n",
       "      <td>9.925633</td>\n",
       "      <td>-498.310211</td>\n",
       "      <td>8.079666</td>\n",
       "      <td>-500.470978</td>\n",
       "      <td>14.151341</td>\n",
       "      <td>-605.841980</td>\n",
       "      <td>2.606185</td>\n",
       "      <td>14.500184</td>\n",
       "      <td>4.694824</td>\n",
       "      <td>8.764648</td>\n",
       "      <td>42.192020</td>\n",
       "      <td>6.055403</td>\n",
       "      <td>9.889648</td>\n",
       "      <td>5.507324</td>\n",
       "      <td>70.541216</td>\n",
       "      <td>2.143149</td>\n",
       "      <td>10.411962</td>\n",
       "      <td>0.895447</td>\n",
       "      <td>16.904297</td>\n",
       "    </tr>\n",
       "    <tr>\n",
       "      <th>1</th>\n",
       "      <td>2016-01-15 01:00:00</td>\n",
       "      <td>6.478583</td>\n",
       "      <td>6.161113</td>\n",
       "      <td>2.266033</td>\n",
       "      <td>35.753385</td>\n",
       "      <td>525.290581</td>\n",
       "      <td>57.278666</td>\n",
       "      <td>11.971193</td>\n",
       "      <td>6.005766</td>\n",
       "      <td>1000.286398</td>\n",
       "      <td>-400.065196</td>\n",
       "      <td>1600.754587</td>\n",
       "      <td>-449.953435</td>\n",
       "      <td>1600.479580</td>\n",
       "      <td>-449.830646</td>\n",
       "      <td>1600.527589</td>\n",
       "      <td>-449.953649</td>\n",
       "      <td>1399.227084</td>\n",
       "      <td>-450.869848</td>\n",
       "      <td>1399.719514</td>\n",
       "      <td>-450.119001</td>\n",
       "      <td>11.996163</td>\n",
       "      <td>6.012594</td>\n",
       "      <td>42050.861809</td>\n",
       "      <td>3498.370979</td>\n",
       "      <td>3489.981857</td>\n",
       "      <td>2.858998</td>\n",
       "      <td>20.050975</td>\n",
       "      <td>11.615865</td>\n",
       "      <td>7.278807</td>\n",
       "      <td>28.067063</td>\n",
       "      <td>86.843261</td>\n",
       "      <td>1.184827</td>\n",
       "      <td>4.955378</td>\n",
       "      <td>0.536689</td>\n",
       "      <td>18.965234</td>\n",
       "      <td>125.629232</td>\n",
       "      <td>10.296251</td>\n",
       "      <td>7.25</td>\n",
       "      <td>1.002663</td>\n",
       "      <td>1576.166671</td>\n",
       "      <td>-500.904965</td>\n",
       "      <td>1575.950626</td>\n",
       "      <td>-499.865889</td>\n",
       "      <td>1575.994189</td>\n",
       "      <td>-499.315107</td>\n",
       "      <td>1574.479259</td>\n",
       "      <td>-498.931665</td>\n",
       "      <td>34.118526</td>\n",
       "      <td>8.558743</td>\n",
       "      <td>10.497069</td>\n",
       "      <td>19.369147</td>\n",
       "      <td>2.353017</td>\n",
       "      <td>16.250511</td>\n",
       "      <td>3.049646</td>\n",
       "      <td>6.733907</td>\n",
       "      <td>25.880539</td>\n",
       "      <td>-499.989656</td>\n",
       "      <td>23.889530</td>\n",
       "      <td>-500.372428</td>\n",
       "      <td>23.970550</td>\n",
       "      <td>-500.085473</td>\n",
       "      <td>22.085714</td>\n",
       "      <td>-499.446897</td>\n",
       "      <td>13.992281</td>\n",
       "      <td>-505.503262</td>\n",
       "      <td>11.950531</td>\n",
       "      <td>-501.331529</td>\n",
       "      <td>10.039245</td>\n",
       "      <td>-500.169983</td>\n",
       "      <td>7.984757</td>\n",
       "      <td>-500.582168</td>\n",
       "      <td>13.998353</td>\n",
       "      <td>-599.787184</td>\n",
       "      <td>2.488248</td>\n",
       "      <td>14.265474</td>\n",
       "      <td>4.592547</td>\n",
       "      <td>9.001494</td>\n",
       "      <td>42.701629</td>\n",
       "      <td>6.029369</td>\n",
       "      <td>9.968944</td>\n",
       "      <td>5.257781</td>\n",
       "      <td>69.266198</td>\n",
       "      <td>2.224930</td>\n",
       "      <td>10.462676</td>\n",
       "      <td>0.927452</td>\n",
       "      <td>16.634514</td>\n",
       "    </tr>\n",
       "    <tr>\n",
       "      <th>2</th>\n",
       "      <td>2016-01-15 02:00:00</td>\n",
       "      <td>6.362222</td>\n",
       "      <td>6.116455</td>\n",
       "      <td>2.159622</td>\n",
       "      <td>35.971630</td>\n",
       "      <td>530.026610</td>\n",
       "      <td>57.510649</td>\n",
       "      <td>11.920603</td>\n",
       "      <td>6.197377</td>\n",
       "      <td>999.719565</td>\n",
       "      <td>-400.074028</td>\n",
       "      <td>1599.337330</td>\n",
       "      <td>-450.008530</td>\n",
       "      <td>1599.672797</td>\n",
       "      <td>-449.954491</td>\n",
       "      <td>1599.849325</td>\n",
       "      <td>-449.954185</td>\n",
       "      <td>1399.180945</td>\n",
       "      <td>-449.937588</td>\n",
       "      <td>1400.316682</td>\n",
       "      <td>-450.527147</td>\n",
       "      <td>11.920305</td>\n",
       "      <td>6.204633</td>\n",
       "      <td>42018.101184</td>\n",
       "      <td>3495.348910</td>\n",
       "      <td>3502.359819</td>\n",
       "      <td>2.945989</td>\n",
       "      <td>19.737170</td>\n",
       "      <td>11.695753</td>\n",
       "      <td>7.216833</td>\n",
       "      <td>27.454037</td>\n",
       "      <td>86.842308</td>\n",
       "      <td>1.162562</td>\n",
       "      <td>4.843460</td>\n",
       "      <td>0.546416</td>\n",
       "      <td>18.808533</td>\n",
       "      <td>123.819808</td>\n",
       "      <td>11.316280</td>\n",
       "      <td>7.25</td>\n",
       "      <td>0.991265</td>\n",
       "      <td>1601.556163</td>\n",
       "      <td>-499.997791</td>\n",
       "      <td>1600.386685</td>\n",
       "      <td>-500.607762</td>\n",
       "      <td>1602.003542</td>\n",
       "      <td>-500.870069</td>\n",
       "      <td>1599.541515</td>\n",
       "      <td>-499.827444</td>\n",
       "      <td>33.969464</td>\n",
       "      <td>8.603505</td>\n",
       "      <td>10.354494</td>\n",
       "      <td>19.167579</td>\n",
       "      <td>2.416800</td>\n",
       "      <td>16.491823</td>\n",
       "      <td>3.124664</td>\n",
       "      <td>6.471768</td>\n",
       "      <td>26.005245</td>\n",
       "      <td>-499.929616</td>\n",
       "      <td>23.886657</td>\n",
       "      <td>-499.951928</td>\n",
       "      <td>23.913535</td>\n",
       "      <td>-499.442343</td>\n",
       "      <td>23.957717</td>\n",
       "      <td>-499.901982</td>\n",
       "      <td>14.015015</td>\n",
       "      <td>-502.520901</td>\n",
       "      <td>11.912783</td>\n",
       "      <td>-501.133383</td>\n",
       "      <td>10.070913</td>\n",
       "      <td>-500.129135</td>\n",
       "      <td>8.013877</td>\n",
       "      <td>-500.517572</td>\n",
       "      <td>14.028663</td>\n",
       "      <td>-601.427363</td>\n",
       "      <td>2.458187</td>\n",
       "      <td>14.115662</td>\n",
       "      <td>4.624775</td>\n",
       "      <td>8.842896</td>\n",
       "      <td>42.657501</td>\n",
       "      <td>6.055926</td>\n",
       "      <td>10.213995</td>\n",
       "      <td>5.383759</td>\n",
       "      <td>68.116445</td>\n",
       "      <td>2.257889</td>\n",
       "      <td>10.507046</td>\n",
       "      <td>0.953716</td>\n",
       "      <td>16.208849</td>\n",
       "    </tr>\n",
       "    <tr>\n",
       "      <th>3</th>\n",
       "      <td>2016-01-15 03:00:00</td>\n",
       "      <td>6.118189</td>\n",
       "      <td>6.043309</td>\n",
       "      <td>2.037807</td>\n",
       "      <td>36.862241</td>\n",
       "      <td>542.590390</td>\n",
       "      <td>57.792734</td>\n",
       "      <td>11.630094</td>\n",
       "      <td>6.203177</td>\n",
       "      <td>999.814770</td>\n",
       "      <td>-400.200179</td>\n",
       "      <td>1600.059442</td>\n",
       "      <td>-450.619948</td>\n",
       "      <td>1600.012842</td>\n",
       "      <td>-449.910497</td>\n",
       "      <td>1597.725177</td>\n",
       "      <td>-450.130127</td>\n",
       "      <td>1400.943157</td>\n",
       "      <td>-450.030142</td>\n",
       "      <td>1400.234743</td>\n",
       "      <td>-449.790835</td>\n",
       "      <td>11.692450</td>\n",
       "      <td>6.196578</td>\n",
       "      <td>42029.447991</td>\n",
       "      <td>3498.578313</td>\n",
       "      <td>3499.162912</td>\n",
       "      <td>3.002340</td>\n",
       "      <td>19.320810</td>\n",
       "      <td>11.915047</td>\n",
       "      <td>7.175616</td>\n",
       "      <td>27.341277</td>\n",
       "      <td>87.226430</td>\n",
       "      <td>1.079755</td>\n",
       "      <td>4.655288</td>\n",
       "      <td>0.542525</td>\n",
       "      <td>19.330200</td>\n",
       "      <td>122.270188</td>\n",
       "      <td>11.322140</td>\n",
       "      <td>7.25</td>\n",
       "      <td>0.996739</td>\n",
       "      <td>1599.968720</td>\n",
       "      <td>-500.951778</td>\n",
       "      <td>1600.659236</td>\n",
       "      <td>-499.677094</td>\n",
       "      <td>1600.304144</td>\n",
       "      <td>-500.727997</td>\n",
       "      <td>1600.449520</td>\n",
       "      <td>-500.052575</td>\n",
       "      <td>28.260743</td>\n",
       "      <td>7.221879</td>\n",
       "      <td>8.496563</td>\n",
       "      <td>15.978538</td>\n",
       "      <td>2.262051</td>\n",
       "      <td>16.024359</td>\n",
       "      <td>2.960362</td>\n",
       "      <td>6.843791</td>\n",
       "      <td>25.942508</td>\n",
       "      <td>-499.176749</td>\n",
       "      <td>23.955516</td>\n",
       "      <td>-499.848796</td>\n",
       "      <td>23.966838</td>\n",
       "      <td>-500.008812</td>\n",
       "      <td>23.954443</td>\n",
       "      <td>-499.944710</td>\n",
       "      <td>14.036510</td>\n",
       "      <td>-500.857308</td>\n",
       "      <td>11.999550</td>\n",
       "      <td>-501.193686</td>\n",
       "      <td>9.970366</td>\n",
       "      <td>-499.201640</td>\n",
       "      <td>7.977324</td>\n",
       "      <td>-500.255908</td>\n",
       "      <td>14.005551</td>\n",
       "      <td>-599.996129</td>\n",
       "      <td>2.322062</td>\n",
       "      <td>13.732071</td>\n",
       "      <td>4.482453</td>\n",
       "      <td>9.122857</td>\n",
       "      <td>42.689819</td>\n",
       "      <td>6.047977</td>\n",
       "      <td>9.977019</td>\n",
       "      <td>4.858634</td>\n",
       "      <td>68.347543</td>\n",
       "      <td>2.146849</td>\n",
       "      <td>10.422762</td>\n",
       "      <td>0.883763</td>\n",
       "      <td>16.532835</td>\n",
       "    </tr>\n",
       "    <tr>\n",
       "      <th>4</th>\n",
       "      <td>2016-01-15 04:00:00</td>\n",
       "      <td>5.663707</td>\n",
       "      <td>6.060915</td>\n",
       "      <td>1.786875</td>\n",
       "      <td>34.347666</td>\n",
       "      <td>540.531893</td>\n",
       "      <td>56.047189</td>\n",
       "      <td>10.957755</td>\n",
       "      <td>6.198826</td>\n",
       "      <td>999.678690</td>\n",
       "      <td>-399.752729</td>\n",
       "      <td>1600.208824</td>\n",
       "      <td>-449.599614</td>\n",
       "      <td>1600.357732</td>\n",
       "      <td>-450.034364</td>\n",
       "      <td>1599.759049</td>\n",
       "      <td>-449.909799</td>\n",
       "      <td>1401.560902</td>\n",
       "      <td>-448.877187</td>\n",
       "      <td>1401.160227</td>\n",
       "      <td>-450.407128</td>\n",
       "      <td>10.960521</td>\n",
       "      <td>6.194897</td>\n",
       "      <td>42125.354245</td>\n",
       "      <td>3494.800771</td>\n",
       "      <td>3506.679315</td>\n",
       "      <td>3.169615</td>\n",
       "      <td>19.216101</td>\n",
       "      <td>12.411054</td>\n",
       "      <td>7.240205</td>\n",
       "      <td>27.041023</td>\n",
       "      <td>86.688794</td>\n",
       "      <td>1.012642</td>\n",
       "      <td>4.552800</td>\n",
       "      <td>0.515438</td>\n",
       "      <td>19.267422</td>\n",
       "      <td>117.988169</td>\n",
       "      <td>11.913613</td>\n",
       "      <td>7.25</td>\n",
       "      <td>1.009869</td>\n",
       "      <td>1601.339707</td>\n",
       "      <td>-498.975456</td>\n",
       "      <td>1601.437854</td>\n",
       "      <td>-500.323246</td>\n",
       "      <td>1599.581894</td>\n",
       "      <td>-500.888152</td>\n",
       "      <td>1602.649541</td>\n",
       "      <td>-500.593010</td>\n",
       "      <td>33.044932</td>\n",
       "      <td>9.089428</td>\n",
       "      <td>9.986786</td>\n",
       "      <td>19.199864</td>\n",
       "      <td>2.277073</td>\n",
       "      <td>16.480185</td>\n",
       "      <td>3.112100</td>\n",
       "      <td>6.550154</td>\n",
       "      <td>26.024787</td>\n",
       "      <td>-500.279091</td>\n",
       "      <td>23.955345</td>\n",
       "      <td>-500.593614</td>\n",
       "      <td>23.985703</td>\n",
       "      <td>-500.083811</td>\n",
       "      <td>23.958945</td>\n",
       "      <td>-499.990309</td>\n",
       "      <td>14.027298</td>\n",
       "      <td>-499.838632</td>\n",
       "      <td>11.953070</td>\n",
       "      <td>-501.053894</td>\n",
       "      <td>9.925709</td>\n",
       "      <td>-501.686727</td>\n",
       "      <td>7.894242</td>\n",
       "      <td>-500.356035</td>\n",
       "      <td>13.996647</td>\n",
       "      <td>-601.496691</td>\n",
       "      <td>2.330448</td>\n",
       "      <td>14.079996</td>\n",
       "      <td>4.470737</td>\n",
       "      <td>8.871028</td>\n",
       "      <td>42.774141</td>\n",
       "      <td>6.148599</td>\n",
       "      <td>10.142511</td>\n",
       "      <td>4.939416</td>\n",
       "      <td>66.927016</td>\n",
       "      <td>2.055292</td>\n",
       "      <td>10.360302</td>\n",
       "      <td>0.792826</td>\n",
       "      <td>16.525686</td>\n",
       "    </tr>\n",
       "    <tr>\n",
       "      <th>5</th>\n",
       "      <td>2016-01-15 05:00:00</td>\n",
       "      <td>5.687168</td>\n",
       "      <td>5.801920</td>\n",
       "      <td>1.879351</td>\n",
       "      <td>35.470082</td>\n",
       "      <td>546.173470</td>\n",
       "      <td>57.469578</td>\n",
       "      <td>11.072517</td>\n",
       "      <td>6.200383</td>\n",
       "      <td>999.934134</td>\n",
       "      <td>-400.599524</td>\n",
       "      <td>1601.080554</td>\n",
       "      <td>-450.120760</td>\n",
       "      <td>1603.164805</td>\n",
       "      <td>-450.097732</td>\n",
       "      <td>1603.368371</td>\n",
       "      <td>-446.306150</td>\n",
       "      <td>1403.393100</td>\n",
       "      <td>-447.899904</td>\n",
       "      <td>1402.903175</td>\n",
       "      <td>-448.872321</td>\n",
       "      <td>11.075009</td>\n",
       "      <td>6.202362</td>\n",
       "      <td>41973.280986</td>\n",
       "      <td>3501.916973</td>\n",
       "      <td>3499.527175</td>\n",
       "      <td>3.026134</td>\n",
       "      <td>18.950385</td>\n",
       "      <td>11.985584</td>\n",
       "      <td>7.121903</td>\n",
       "      <td>26.898046</td>\n",
       "      <td>88.156912</td>\n",
       "      <td>0.915835</td>\n",
       "      <td>4.397415</td>\n",
       "      <td>0.491350</td>\n",
       "      <td>19.640269</td>\n",
       "      <td>115.581252</td>\n",
       "      <td>12.470773</td>\n",
       "      <td>7.25</td>\n",
       "      <td>0.965760</td>\n",
       "      <td>1602.964922</td>\n",
       "      <td>-498.090944</td>\n",
       "      <td>1602.074298</td>\n",
       "      <td>-500.179481</td>\n",
       "      <td>1602.154812</td>\n",
       "      <td>-498.642614</td>\n",
       "      <td>1605.020106</td>\n",
       "      <td>-500.538177</td>\n",
       "      <td>32.070664</td>\n",
       "      <td>9.553724</td>\n",
       "      <td>9.816215</td>\n",
       "      <td>19.167328</td>\n",
       "      <td>2.114558</td>\n",
       "      <td>15.931540</td>\n",
       "      <td>2.844511</td>\n",
       "      <td>6.724197</td>\n",
       "      <td>26.014841</td>\n",
       "      <td>-498.864670</td>\n",
       "      <td>23.880214</td>\n",
       "      <td>-499.738447</td>\n",
       "      <td>23.982635</td>\n",
       "      <td>-500.495272</td>\n",
       "      <td>24.009749</td>\n",
       "      <td>-499.433825</td>\n",
       "      <td>13.938497</td>\n",
       "      <td>-500.970168</td>\n",
       "      <td>11.883350</td>\n",
       "      <td>-500.395298</td>\n",
       "      <td>10.054147</td>\n",
       "      <td>-496.374715</td>\n",
       "      <td>7.965083</td>\n",
       "      <td>-499.364752</td>\n",
       "      <td>14.017067</td>\n",
       "      <td>-599.707915</td>\n",
       "      <td>2.192127</td>\n",
       "      <td>13.615012</td>\n",
       "      <td>4.286817</td>\n",
       "      <td>9.302669</td>\n",
       "      <td>41.633678</td>\n",
       "      <td>6.482968</td>\n",
       "      <td>10.049416</td>\n",
       "      <td>5.480257</td>\n",
       "      <td>69.465816</td>\n",
       "      <td>1.918586</td>\n",
       "      <td>10.182708</td>\n",
       "      <td>0.664118</td>\n",
       "      <td>16.999638</td>\n",
       "    </tr>\n",
       "    <tr>\n",
       "      <th>6</th>\n",
       "      <td>2016-01-15 06:00:00</td>\n",
       "      <td>6.038436</td>\n",
       "      <td>6.056253</td>\n",
       "      <td>2.105501</td>\n",
       "      <td>34.920570</td>\n",
       "      <td>523.376439</td>\n",
       "      <td>56.674647</td>\n",
       "      <td>11.535899</td>\n",
       "      <td>6.204974</td>\n",
       "      <td>999.832373</td>\n",
       "      <td>-399.353521</td>\n",
       "      <td>1600.753019</td>\n",
       "      <td>-450.050089</td>\n",
       "      <td>1599.019966</td>\n",
       "      <td>-449.848507</td>\n",
       "      <td>1600.298267</td>\n",
       "      <td>-453.102891</td>\n",
       "      <td>1397.853265</td>\n",
       "      <td>-451.306640</td>\n",
       "      <td>1397.973670</td>\n",
       "      <td>-451.355626</td>\n",
       "      <td>11.539227</td>\n",
       "      <td>6.200515</td>\n",
       "      <td>41956.468979</td>\n",
       "      <td>3497.427365</td>\n",
       "      <td>3506.352790</td>\n",
       "      <td>2.867933</td>\n",
       "      <td>19.319591</td>\n",
       "      <td>11.684307</td>\n",
       "      <td>7.304849</td>\n",
       "      <td>27.063672</td>\n",
       "      <td>88.168065</td>\n",
       "      <td>0.986248</td>\n",
       "      <td>4.478080</td>\n",
       "      <td>0.518266</td>\n",
       "      <td>19.262491</td>\n",
       "      <td>117.322323</td>\n",
       "      <td>12.469088</td>\n",
       "      <td>7.25</td>\n",
       "      <td>0.895207</td>\n",
       "      <td>1597.532455</td>\n",
       "      <td>-500.985364</td>\n",
       "      <td>1602.816321</td>\n",
       "      <td>-500.696736</td>\n",
       "      <td>1603.572091</td>\n",
       "      <td>-500.256955</td>\n",
       "      <td>1597.597437</td>\n",
       "      <td>-500.378192</td>\n",
       "      <td>33.184823</td>\n",
       "      <td>8.968869</td>\n",
       "      <td>10.081306</td>\n",
       "      <td>18.930855</td>\n",
       "      <td>2.223152</td>\n",
       "      <td>16.078368</td>\n",
       "      <td>2.938979</td>\n",
       "      <td>6.623598</td>\n",
       "      <td>25.957594</td>\n",
       "      <td>-500.134472</td>\n",
       "      <td>24.077199</td>\n",
       "      <td>-500.089190</td>\n",
       "      <td>23.991710</td>\n",
       "      <td>-500.391528</td>\n",
       "      <td>23.954144</td>\n",
       "      <td>-501.872171</td>\n",
       "      <td>14.046819</td>\n",
       "      <td>-500.971133</td>\n",
       "      <td>12.091543</td>\n",
       "      <td>-500.501426</td>\n",
       "      <td>10.003247</td>\n",
       "      <td>-497.083180</td>\n",
       "      <td>8.010890</td>\n",
       "      <td>-500.002423</td>\n",
       "      <td>14.029649</td>\n",
       "      <td>-600.905470</td>\n",
       "      <td>2.316720</td>\n",
       "      <td>13.597056</td>\n",
       "      <td>4.487865</td>\n",
       "      <td>9.103047</td>\n",
       "      <td>41.995316</td>\n",
       "      <td>6.533849</td>\n",
       "      <td>10.058141</td>\n",
       "      <td>4.569100</td>\n",
       "      <td>69.300835</td>\n",
       "      <td>2.058913</td>\n",
       "      <td>10.304598</td>\n",
       "      <td>0.807342</td>\n",
       "      <td>16.723575</td>\n",
       "    </tr>\n",
       "  </tbody>\n",
       "</table>\n",
       "</div>"
      ],
      "text/plain": [
       "                  date  rougher.input.feed_au  rougher.input.feed_ag  \\\n",
       "0  2016-01-15 00:00:00               6.486150               6.100378   \n",
       "1  2016-01-15 01:00:00               6.478583               6.161113   \n",
       "2  2016-01-15 02:00:00               6.362222               6.116455   \n",
       "3  2016-01-15 03:00:00               6.118189               6.043309   \n",
       "4  2016-01-15 04:00:00               5.663707               6.060915   \n",
       "5  2016-01-15 05:00:00               5.687168               5.801920   \n",
       "6  2016-01-15 06:00:00               6.038436               6.056253   \n",
       "\n",
       "   rougher.input.feed_pb  rougher.input.feed_sol  rougher.input.feed_rate  \\\n",
       "0               2.284912               36.808594               523.546326   \n",
       "1               2.266033               35.753385               525.290581   \n",
       "2               2.159622               35.971630               530.026610   \n",
       "3               2.037807               36.862241               542.590390   \n",
       "4               1.786875               34.347666               540.531893   \n",
       "5               1.879351               35.470082               546.173470   \n",
       "6               2.105501               34.920570               523.376439   \n",
       "\n",
       "   rougher.input.feed_size  rougher.input.floatbank10_sulfate  \\\n",
       "0                55.486599                          11.986616   \n",
       "1                57.278666                          11.971193   \n",
       "2                57.510649                          11.920603   \n",
       "3                57.792734                          11.630094   \n",
       "4                56.047189                          10.957755   \n",
       "5                57.469578                          11.072517   \n",
       "6                56.674647                          11.535899   \n",
       "\n",
       "   rougher.input.floatbank10_xanthate  rougher.state.floatbank10_a_air  \\\n",
       "0                            6.007990                       999.706909   \n",
       "1                            6.005766                      1000.286398   \n",
       "2                            6.197377                       999.719565   \n",
       "3                            6.203177                       999.814770   \n",
       "4                            6.198826                       999.678690   \n",
       "5                            6.200383                       999.934134   \n",
       "6                            6.204974                       999.832373   \n",
       "\n",
       "   rougher.state.floatbank10_a_level  rougher.state.floatbank10_b_air  \\\n",
       "0                        -404.066986                      1603.011353   \n",
       "1                        -400.065196                      1600.754587   \n",
       "2                        -400.074028                      1599.337330   \n",
       "3                        -400.200179                      1600.059442   \n",
       "4                        -399.752729                      1600.208824   \n",
       "5                        -400.599524                      1601.080554   \n",
       "6                        -399.353521                      1600.753019   \n",
       "\n",
       "   rougher.state.floatbank10_b_level  rougher.state.floatbank10_c_air  \\\n",
       "0                        -434.715027                      1602.375000   \n",
       "1                        -449.953435                      1600.479580   \n",
       "2                        -450.008530                      1599.672797   \n",
       "3                        -450.619948                      1600.012842   \n",
       "4                        -449.599614                      1600.357732   \n",
       "5                        -450.120760                      1603.164805   \n",
       "6                        -450.050089                      1599.019966   \n",
       "\n",
       "   rougher.state.floatbank10_c_level  rougher.state.floatbank10_d_air  \\\n",
       "0                        -442.204468                      1598.937256   \n",
       "1                        -449.830646                      1600.527589   \n",
       "2                        -449.954491                      1599.849325   \n",
       "3                        -449.910497                      1597.725177   \n",
       "4                        -450.034364                      1599.759049   \n",
       "5                        -450.097732                      1603.368371   \n",
       "6                        -449.848507                      1600.298267   \n",
       "\n",
       "   rougher.state.floatbank10_d_level  rougher.state.floatbank10_e_air  \\\n",
       "0                        -451.294128                      1404.472046   \n",
       "1                        -449.953649                      1399.227084   \n",
       "2                        -449.954185                      1399.180945   \n",
       "3                        -450.130127                      1400.943157   \n",
       "4                        -449.909799                      1401.560902   \n",
       "5                        -446.306150                      1403.393100   \n",
       "6                        -453.102891                      1397.853265   \n",
       "\n",
       "   rougher.state.floatbank10_e_level  rougher.state.floatbank10_f_air  \\\n",
       "0                        -455.462982                      1416.354980   \n",
       "1                        -450.869848                      1399.719514   \n",
       "2                        -449.937588                      1400.316682   \n",
       "3                        -450.030142                      1400.234743   \n",
       "4                        -448.877187                      1401.160227   \n",
       "5                        -447.899904                      1402.903175   \n",
       "6                        -451.306640                      1397.973670   \n",
       "\n",
       "   rougher.state.floatbank10_f_level  rougher.input.floatbank11_sulfate  \\\n",
       "0                        -451.939636                          11.836743   \n",
       "1                        -450.119001                          11.996163   \n",
       "2                        -450.527147                          11.920305   \n",
       "3                        -449.790835                          11.692450   \n",
       "4                        -450.407128                          10.960521   \n",
       "5                        -448.872321                          11.075009   \n",
       "6                        -451.355626                          11.539227   \n",
       "\n",
       "   rougher.input.floatbank11_xanthate  \\\n",
       "0                            6.005818   \n",
       "1                            6.012594   \n",
       "2                            6.204633   \n",
       "3                            6.196578   \n",
       "4                            6.194897   \n",
       "5                            6.202362   \n",
       "6                            6.200515   \n",
       "\n",
       "   rougher.calculation.sulfate_to_au_concentrate  \\\n",
       "0                                   41885.707031   \n",
       "1                                   42050.861809   \n",
       "2                                   42018.101184   \n",
       "3                                   42029.447991   \n",
       "4                                   42125.354245   \n",
       "5                                   41973.280986   \n",
       "6                                   41956.468979   \n",
       "\n",
       "   rougher.calculation.floatbank10_sulfate_to_au_feed  \\\n",
       "0                                        3481.779053    \n",
       "1                                        3498.370979    \n",
       "2                                        3495.348910    \n",
       "3                                        3498.578313    \n",
       "4                                        3494.800771    \n",
       "5                                        3501.916973    \n",
       "6                                        3497.427365    \n",
       "\n",
       "   rougher.calculation.floatbank11_sulfate_to_au_feed  \\\n",
       "0                                        3520.337158    \n",
       "1                                        3489.981857    \n",
       "2                                        3502.359819    \n",
       "3                                        3499.162912    \n",
       "4                                        3506.679315    \n",
       "5                                        3499.527175    \n",
       "6                                        3506.352790    \n",
       "\n",
       "   rougher.calculation.au_pb_ratio  rougher.output.concentrate_au  \\\n",
       "0                         2.838687                      19.793808   \n",
       "1                         2.858998                      20.050975   \n",
       "2                         2.945989                      19.737170   \n",
       "3                         3.002340                      19.320810   \n",
       "4                         3.169615                      19.216101   \n",
       "5                         3.026134                      18.950385   \n",
       "6                         2.867933                      19.319591   \n",
       "\n",
       "   rougher.output.concentrate_ag  rougher.output.concentrate_pb  \\\n",
       "0                      11.500771                       7.101074   \n",
       "1                      11.615865                       7.278807   \n",
       "2                      11.695753                       7.216833   \n",
       "3                      11.915047                       7.175616   \n",
       "4                      12.411054                       7.240205   \n",
       "5                      11.985584                       7.121903   \n",
       "6                      11.684307                       7.304849   \n",
       "\n",
       "   rougher.output.concentrate_sol  rougher.output.recovery  \\\n",
       "0                       28.029297                87.107763   \n",
       "1                       28.067063                86.843261   \n",
       "2                       27.454037                86.842308   \n",
       "3                       27.341277                87.226430   \n",
       "4                       27.041023                86.688794   \n",
       "5                       26.898046                88.156912   \n",
       "6                       27.063672                88.168065   \n",
       "\n",
       "   rougher.output.tail_au  rougher.output.tail_ag  rougher.output.tail_pb  \\\n",
       "0                1.170244                5.008018                0.508728   \n",
       "1                1.184827                4.955378                0.536689   \n",
       "2                1.162562                4.843460                0.546416   \n",
       "3                1.079755                4.655288                0.542525   \n",
       "4                1.012642                4.552800                0.515438   \n",
       "5                0.915835                4.397415                0.491350   \n",
       "6                0.986248                4.478080                0.518266   \n",
       "\n",
       "   rougher.output.tail_sol  primary_cleaner.input.sulfate  \\\n",
       "0                19.154297                     127.092003   \n",
       "1                18.965234                     125.629232   \n",
       "2                18.808533                     123.819808   \n",
       "3                19.330200                     122.270188   \n",
       "4                19.267422                     117.988169   \n",
       "5                19.640269                     115.581252   \n",
       "6                19.262491                     117.322323   \n",
       "\n",
       "   primary_cleaner.input.depressant  primary_cleaner.input.feed_size  \\\n",
       "0                         10.128295                             7.25   \n",
       "1                         10.296251                             7.25   \n",
       "2                         11.316280                             7.25   \n",
       "3                         11.322140                             7.25   \n",
       "4                         11.913613                             7.25   \n",
       "5                         12.470773                             7.25   \n",
       "6                         12.469088                             7.25   \n",
       "\n",
       "   primary_cleaner.input.xanthate  primary_cleaner.state.floatbank8_a_air  \\\n",
       "0                        0.988759                             1549.775757   \n",
       "1                        1.002663                             1576.166671   \n",
       "2                        0.991265                             1601.556163   \n",
       "3                        0.996739                             1599.968720   \n",
       "4                        1.009869                             1601.339707   \n",
       "5                        0.965760                             1602.964922   \n",
       "6                        0.895207                             1597.532455   \n",
       "\n",
       "   primary_cleaner.state.floatbank8_a_level  \\\n",
       "0                               -498.912140   \n",
       "1                               -500.904965   \n",
       "2                               -499.997791   \n",
       "3                               -500.951778   \n",
       "4                               -498.975456   \n",
       "5                               -498.090944   \n",
       "6                               -500.985364   \n",
       "\n",
       "   primary_cleaner.state.floatbank8_b_air  \\\n",
       "0                             1551.434204   \n",
       "1                             1575.950626   \n",
       "2                             1600.386685   \n",
       "3                             1600.659236   \n",
       "4                             1601.437854   \n",
       "5                             1602.074298   \n",
       "6                             1602.816321   \n",
       "\n",
       "   primary_cleaner.state.floatbank8_b_level  \\\n",
       "0                               -516.403442   \n",
       "1                               -499.865889   \n",
       "2                               -500.607762   \n",
       "3                               -499.677094   \n",
       "4                               -500.323246   \n",
       "5                               -500.179481   \n",
       "6                               -500.696736   \n",
       "\n",
       "   primary_cleaner.state.floatbank8_c_air  \\\n",
       "0                             1549.873901   \n",
       "1                             1575.994189   \n",
       "2                             1602.003542   \n",
       "3                             1600.304144   \n",
       "4                             1599.581894   \n",
       "5                             1602.154812   \n",
       "6                             1603.572091   \n",
       "\n",
       "   primary_cleaner.state.floatbank8_c_level  \\\n",
       "0                               -498.666595   \n",
       "1                               -499.315107   \n",
       "2                               -500.870069   \n",
       "3                               -500.727997   \n",
       "4                               -500.888152   \n",
       "5                               -498.642614   \n",
       "6                               -500.256955   \n",
       "\n",
       "   primary_cleaner.state.floatbank8_d_air  \\\n",
       "0                             1554.367432   \n",
       "1                             1574.479259   \n",
       "2                             1599.541515   \n",
       "3                             1600.449520   \n",
       "4                             1602.649541   \n",
       "5                             1605.020106   \n",
       "6                             1597.597437   \n",
       "\n",
       "   primary_cleaner.state.floatbank8_d_level  \\\n",
       "0                               -493.428131   \n",
       "1                               -498.931665   \n",
       "2                               -499.827444   \n",
       "3                               -500.052575   \n",
       "4                               -500.593010   \n",
       "5                               -500.538177   \n",
       "6                               -500.378192   \n",
       "\n",
       "   primary_cleaner.output.concentrate_au  \\\n",
       "0                              34.174427   \n",
       "1                              34.118526   \n",
       "2                              33.969464   \n",
       "3                              28.260743   \n",
       "4                              33.044932   \n",
       "5                              32.070664   \n",
       "6                              33.184823   \n",
       "\n",
       "   primary_cleaner.output.concentrate_ag  \\\n",
       "0                               8.547551   \n",
       "1                               8.558743   \n",
       "2                               8.603505   \n",
       "3                               7.221879   \n",
       "4                               9.089428   \n",
       "5                               9.553724   \n",
       "6                               8.968869   \n",
       "\n",
       "   primary_cleaner.output.concentrate_pb  \\\n",
       "0                              10.389648   \n",
       "1                              10.497069   \n",
       "2                              10.354494   \n",
       "3                               8.496563   \n",
       "4                               9.986786   \n",
       "5                               9.816215   \n",
       "6                              10.081306   \n",
       "\n",
       "   primary_cleaner.output.concentrate_sol  primary_cleaner.output.tail_au  \\\n",
       "0                               19.529297                        2.106679   \n",
       "1                               19.369147                        2.353017   \n",
       "2                               19.167579                        2.416800   \n",
       "3                               15.978538                        2.262051   \n",
       "4                               19.199864                        2.277073   \n",
       "5                               19.167328                        2.114558   \n",
       "6                               18.930855                        2.223152   \n",
       "\n",
       "   primary_cleaner.output.tail_ag  primary_cleaner.output.tail_pb  \\\n",
       "0                       14.936526                        2.534912   \n",
       "1                       16.250511                        3.049646   \n",
       "2                       16.491823                        3.124664   \n",
       "3                       16.024359                        2.960362   \n",
       "4                       16.480185                        3.112100   \n",
       "5                       15.931540                        2.844511   \n",
       "6                       16.078368                        2.938979   \n",
       "\n",
       "   primary_cleaner.output.tail_sol  secondary_cleaner.state.floatbank2_a_air  \\\n",
       "0                         7.476074                                 25.853109   \n",
       "1                         6.733907                                 25.880539   \n",
       "2                         6.471768                                 26.005245   \n",
       "3                         6.843791                                 25.942508   \n",
       "4                         6.550154                                 26.024787   \n",
       "5                         6.724197                                 26.014841   \n",
       "6                         6.623598                                 25.957594   \n",
       "\n",
       "   secondary_cleaner.state.floatbank2_a_level  \\\n",
       "0                                 -498.526489   \n",
       "1                                 -499.989656   \n",
       "2                                 -499.929616   \n",
       "3                                 -499.176749   \n",
       "4                                 -500.279091   \n",
       "5                                 -498.864670   \n",
       "6                                 -500.134472   \n",
       "\n",
       "   secondary_cleaner.state.floatbank2_b_air  \\\n",
       "0                                 23.893660   \n",
       "1                                 23.889530   \n",
       "2                                 23.886657   \n",
       "3                                 23.955516   \n",
       "4                                 23.955345   \n",
       "5                                 23.880214   \n",
       "6                                 24.077199   \n",
       "\n",
       "   secondary_cleaner.state.floatbank2_b_level  \\\n",
       "0                                 -501.406281   \n",
       "1                                 -500.372428   \n",
       "2                                 -499.951928   \n",
       "3                                 -499.848796   \n",
       "4                                 -500.593614   \n",
       "5                                 -499.738447   \n",
       "6                                 -500.089190   \n",
       "\n",
       "   secondary_cleaner.state.floatbank3_a_air  \\\n",
       "0                                 23.961798   \n",
       "1                                 23.970550   \n",
       "2                                 23.913535   \n",
       "3                                 23.966838   \n",
       "4                                 23.985703   \n",
       "5                                 23.982635   \n",
       "6                                 23.991710   \n",
       "\n",
       "   secondary_cleaner.state.floatbank3_a_level  \\\n",
       "0                                 -495.262817   \n",
       "1                                 -500.085473   \n",
       "2                                 -499.442343   \n",
       "3                                 -500.008812   \n",
       "4                                 -500.083811   \n",
       "5                                 -500.495272   \n",
       "6                                 -500.391528   \n",
       "\n",
       "   secondary_cleaner.state.floatbank3_b_air  \\\n",
       "0                                 21.940409   \n",
       "1                                 22.085714   \n",
       "2                                 23.957717   \n",
       "3                                 23.954443   \n",
       "4                                 23.958945   \n",
       "5                                 24.009749   \n",
       "6                                 23.954144   \n",
       "\n",
       "   secondary_cleaner.state.floatbank3_b_level  \\\n",
       "0                                 -499.340973   \n",
       "1                                 -499.446897   \n",
       "2                                 -499.901982   \n",
       "3                                 -499.944710   \n",
       "4                                 -499.990309   \n",
       "5                                 -499.433825   \n",
       "6                                 -501.872171   \n",
       "\n",
       "   secondary_cleaner.state.floatbank4_a_air  \\\n",
       "0                                 14.016835   \n",
       "1                                 13.992281   \n",
       "2                                 14.015015   \n",
       "3                                 14.036510   \n",
       "4                                 14.027298   \n",
       "5                                 13.938497   \n",
       "6                                 14.046819   \n",
       "\n",
       "   secondary_cleaner.state.floatbank4_a_level  \\\n",
       "0                                 -502.488007   \n",
       "1                                 -505.503262   \n",
       "2                                 -502.520901   \n",
       "3                                 -500.857308   \n",
       "4                                 -499.838632   \n",
       "5                                 -500.970168   \n",
       "6                                 -500.971133   \n",
       "\n",
       "   secondary_cleaner.state.floatbank4_b_air  \\\n",
       "0                                 12.099931   \n",
       "1                                 11.950531   \n",
       "2                                 11.912783   \n",
       "3                                 11.999550   \n",
       "4                                 11.953070   \n",
       "5                                 11.883350   \n",
       "6                                 12.091543   \n",
       "\n",
       "   secondary_cleaner.state.floatbank4_b_level  \\\n",
       "0                                 -504.715942   \n",
       "1                                 -501.331529   \n",
       "2                                 -501.133383   \n",
       "3                                 -501.193686   \n",
       "4                                 -501.053894   \n",
       "5                                 -500.395298   \n",
       "6                                 -500.501426   \n",
       "\n",
       "   secondary_cleaner.state.floatbank5_a_air  \\\n",
       "0                                  9.925633   \n",
       "1                                 10.039245   \n",
       "2                                 10.070913   \n",
       "3                                  9.970366   \n",
       "4                                  9.925709   \n",
       "5                                 10.054147   \n",
       "6                                 10.003247   \n",
       "\n",
       "   secondary_cleaner.state.floatbank5_a_level  \\\n",
       "0                                 -498.310211   \n",
       "1                                 -500.169983   \n",
       "2                                 -500.129135   \n",
       "3                                 -499.201640   \n",
       "4                                 -501.686727   \n",
       "5                                 -496.374715   \n",
       "6                                 -497.083180   \n",
       "\n",
       "   secondary_cleaner.state.floatbank5_b_air  \\\n",
       "0                                  8.079666   \n",
       "1                                  7.984757   \n",
       "2                                  8.013877   \n",
       "3                                  7.977324   \n",
       "4                                  7.894242   \n",
       "5                                  7.965083   \n",
       "6                                  8.010890   \n",
       "\n",
       "   secondary_cleaner.state.floatbank5_b_level  \\\n",
       "0                                 -500.470978   \n",
       "1                                 -500.582168   \n",
       "2                                 -500.517572   \n",
       "3                                 -500.255908   \n",
       "4                                 -500.356035   \n",
       "5                                 -499.364752   \n",
       "6                                 -500.002423   \n",
       "\n",
       "   secondary_cleaner.state.floatbank6_a_air  \\\n",
       "0                                 14.151341   \n",
       "1                                 13.998353   \n",
       "2                                 14.028663   \n",
       "3                                 14.005551   \n",
       "4                                 13.996647   \n",
       "5                                 14.017067   \n",
       "6                                 14.029649   \n",
       "\n",
       "   secondary_cleaner.state.floatbank6_a_level  \\\n",
       "0                                 -605.841980   \n",
       "1                                 -599.787184   \n",
       "2                                 -601.427363   \n",
       "3                                 -599.996129   \n",
       "4                                 -601.496691   \n",
       "5                                 -599.707915   \n",
       "6                                 -600.905470   \n",
       "\n",
       "   secondary_cleaner.output.tail_au  secondary_cleaner.output.tail_ag  \\\n",
       "0                          2.606185                         14.500184   \n",
       "1                          2.488248                         14.265474   \n",
       "2                          2.458187                         14.115662   \n",
       "3                          2.322062                         13.732071   \n",
       "4                          2.330448                         14.079996   \n",
       "5                          2.192127                         13.615012   \n",
       "6                          2.316720                         13.597056   \n",
       "\n",
       "   secondary_cleaner.output.tail_pb  secondary_cleaner.output.tail_sol  \\\n",
       "0                          4.694824                           8.764648   \n",
       "1                          4.592547                           9.001494   \n",
       "2                          4.624775                           8.842896   \n",
       "3                          4.482453                           9.122857   \n",
       "4                          4.470737                           8.871028   \n",
       "5                          4.286817                           9.302669   \n",
       "6                          4.487865                           9.103047   \n",
       "\n",
       "   final.output.concentrate_au  final.output.concentrate_ag  \\\n",
       "0                    42.192020                     6.055403   \n",
       "1                    42.701629                     6.029369   \n",
       "2                    42.657501                     6.055926   \n",
       "3                    42.689819                     6.047977   \n",
       "4                    42.774141                     6.148599   \n",
       "5                    41.633678                     6.482968   \n",
       "6                    41.995316                     6.533849   \n",
       "\n",
       "   final.output.concentrate_pb  final.output.concentrate_sol  \\\n",
       "0                     9.889648                      5.507324   \n",
       "1                     9.968944                      5.257781   \n",
       "2                    10.213995                      5.383759   \n",
       "3                     9.977019                      4.858634   \n",
       "4                    10.142511                      4.939416   \n",
       "5                    10.049416                      5.480257   \n",
       "6                    10.058141                      4.569100   \n",
       "\n",
       "   final.output.recovery  final.output.tail_au  final.output.tail_ag  \\\n",
       "0              70.541216              2.143149             10.411962   \n",
       "1              69.266198              2.224930             10.462676   \n",
       "2              68.116445              2.257889             10.507046   \n",
       "3              68.347543              2.146849             10.422762   \n",
       "4              66.927016              2.055292             10.360302   \n",
       "5              69.465816              1.918586             10.182708   \n",
       "6              69.300835              2.058913             10.304598   \n",
       "\n",
       "   final.output.tail_pb  final.output.tail_sol  \n",
       "0              0.895447              16.904297  \n",
       "1              0.927452              16.634514  \n",
       "2              0.953716              16.208849  \n",
       "3              0.883763              16.532835  \n",
       "4              0.792826              16.525686  \n",
       "5              0.664118              16.999638  \n",
       "6              0.807342              16.723575  "
      ]
     },
     "execution_count": 34,
     "metadata": {},
     "output_type": "execute_result"
    }
   ],
   "source": [
    "train.head(7)"
   ]
  },
  {
   "cell_type": "code",
   "execution_count": 35,
   "metadata": {},
   "outputs": [
    {
     "name": "stdout",
     "output_type": "stream",
     "text": [
      "Доля строк с пропущенными значениями: 0.16595449204144858\n"
     ]
    }
   ],
   "source": [
    "count = len(train[train.isna().any(axis=1)])\n",
    "print(\"Доля строк с пропущенными значениями:\", count/len(train))"
   ]
  },
  {
   "cell_type": "markdown",
   "metadata": {},
   "source": [
    "## Модель"
   ]
  },
  {
   "cell_type": "markdown",
   "metadata": {},
   "source": [
    "Подготовим данные для модели"
   ]
  },
  {
   "cell_type": "code",
   "execution_count": 36,
   "metadata": {},
   "outputs": [],
   "source": [
    "only_train = list(only_train)"
   ]
  },
  {
   "cell_type": "code",
   "execution_count": 37,
   "metadata": {},
   "outputs": [],
   "source": [
    "only_train.remove('rougher.output.recovery')\n",
    "only_train.remove('final.output.recovery')"
   ]
  },
  {
   "cell_type": "code",
   "execution_count": 38,
   "metadata": {},
   "outputs": [
    {
     "data": {
      "text/plain": [
       "(18722, 87)"
      ]
     },
     "execution_count": 38,
     "metadata": {},
     "output_type": "execute_result"
    }
   ],
   "source": [
    "train.shape"
   ]
  },
  {
   "cell_type": "code",
   "execution_count": 39,
   "metadata": {},
   "outputs": [],
   "source": [
    "train = train.drop(only_train, axis=1)"
   ]
  },
  {
   "cell_type": "code",
   "execution_count": 40,
   "metadata": {},
   "outputs": [
    {
     "data": {
      "text/plain": [
       "(18722, 55)"
      ]
     },
     "execution_count": 40,
     "metadata": {},
     "output_type": "execute_result"
    }
   ],
   "source": [
    "train.shape"
   ]
  },
  {
   "cell_type": "code",
   "execution_count": 41,
   "metadata": {},
   "outputs": [],
   "source": [
    "test = pd.merge(test, full[['date', 'rougher.output.recovery', 'final.output.recovery']], on='date', how='left')\n",
    "train = train.drop('date', axis=1)\n",
    "test = test.drop('date', axis=1)"
   ]
  },
  {
   "cell_type": "code",
   "execution_count": 42,
   "metadata": {},
   "outputs": [
    {
     "name": "stdout",
     "output_type": "stream",
     "text": [
      "Доля строк с пропущенными значениями: 0.0\n"
     ]
    }
   ],
   "source": [
    "col_for_filler = train.columns\n",
    "filler = KNNImputer(n_neighbors=10, weights='distance')\n",
    "train = pd.DataFrame(filler.fit_transform(train[col_for_filler]))\n",
    "train.columns = col_for_filler\n",
    "count = len(train[train.isna().any(axis=1)])\n",
    "print(\"Доля строк с пропущенными значениями:\", count/len(train))"
   ]
  },
  {
   "cell_type": "code",
   "execution_count": 43,
   "metadata": {},
   "outputs": [
    {
     "name": "stdout",
     "output_type": "stream",
     "text": [
      "Доля строк с пропущенными значениями: 0.0\n"
     ]
    }
   ],
   "source": [
    "col_for_filler_t = test.columns\n",
    "test = pd.DataFrame(filler.fit_transform(test[col_for_filler_t]))\n",
    "test.columns = col_for_filler_t\n",
    "count = len(test[test.isna().any(axis=1)])\n",
    "print(\"Доля строк с пропущенными значениями:\", count/len(test))"
   ]
  },
  {
   "cell_type": "code",
   "execution_count": 44,
   "metadata": {},
   "outputs": [
    {
     "name": "stdout",
     "output_type": "stream",
     "text": [
      "(18722, 54)\n",
      "(4860, 54)\n"
     ]
    }
   ],
   "source": [
    "print(train.shape)\n",
    "print(test.shape)"
   ]
  },
  {
   "cell_type": "code",
   "execution_count": 45,
   "metadata": {},
   "outputs": [
    {
     "data": {
      "text/html": [
       "<div>\n",
       "<style scoped>\n",
       "    .dataframe tbody tr th:only-of-type {\n",
       "        vertical-align: middle;\n",
       "    }\n",
       "\n",
       "    .dataframe tbody tr th {\n",
       "        vertical-align: top;\n",
       "    }\n",
       "\n",
       "    .dataframe thead th {\n",
       "        text-align: right;\n",
       "    }\n",
       "</style>\n",
       "<table border=\"1\" class=\"dataframe\">\n",
       "  <thead>\n",
       "    <tr style=\"text-align: right;\">\n",
       "      <th></th>\n",
       "      <th>rougher.input.feed_au</th>\n",
       "      <th>rougher.input.feed_ag</th>\n",
       "      <th>rougher.input.feed_pb</th>\n",
       "      <th>rougher.input.feed_sol</th>\n",
       "      <th>rougher.input.feed_rate</th>\n",
       "      <th>rougher.input.feed_size</th>\n",
       "      <th>rougher.input.floatbank10_sulfate</th>\n",
       "      <th>rougher.input.floatbank10_xanthate</th>\n",
       "      <th>rougher.state.floatbank10_a_air</th>\n",
       "      <th>rougher.state.floatbank10_a_level</th>\n",
       "      <th>rougher.state.floatbank10_b_air</th>\n",
       "      <th>rougher.state.floatbank10_b_level</th>\n",
       "      <th>rougher.state.floatbank10_c_air</th>\n",
       "      <th>rougher.state.floatbank10_c_level</th>\n",
       "      <th>rougher.state.floatbank10_d_air</th>\n",
       "      <th>rougher.state.floatbank10_d_level</th>\n",
       "      <th>rougher.state.floatbank10_e_air</th>\n",
       "      <th>rougher.state.floatbank10_e_level</th>\n",
       "      <th>rougher.state.floatbank10_f_air</th>\n",
       "      <th>rougher.state.floatbank10_f_level</th>\n",
       "      <th>rougher.input.floatbank11_sulfate</th>\n",
       "      <th>rougher.input.floatbank11_xanthate</th>\n",
       "      <th>rougher.output.recovery</th>\n",
       "      <th>primary_cleaner.input.sulfate</th>\n",
       "      <th>primary_cleaner.input.depressant</th>\n",
       "      <th>primary_cleaner.input.feed_size</th>\n",
       "      <th>primary_cleaner.input.xanthate</th>\n",
       "      <th>primary_cleaner.state.floatbank8_a_air</th>\n",
       "      <th>primary_cleaner.state.floatbank8_a_level</th>\n",
       "      <th>primary_cleaner.state.floatbank8_b_air</th>\n",
       "      <th>primary_cleaner.state.floatbank8_b_level</th>\n",
       "      <th>primary_cleaner.state.floatbank8_c_air</th>\n",
       "      <th>primary_cleaner.state.floatbank8_c_level</th>\n",
       "      <th>primary_cleaner.state.floatbank8_d_air</th>\n",
       "      <th>primary_cleaner.state.floatbank8_d_level</th>\n",
       "      <th>secondary_cleaner.state.floatbank2_a_air</th>\n",
       "      <th>secondary_cleaner.state.floatbank2_a_level</th>\n",
       "      <th>secondary_cleaner.state.floatbank2_b_air</th>\n",
       "      <th>secondary_cleaner.state.floatbank2_b_level</th>\n",
       "      <th>secondary_cleaner.state.floatbank3_a_air</th>\n",
       "      <th>secondary_cleaner.state.floatbank3_a_level</th>\n",
       "      <th>secondary_cleaner.state.floatbank3_b_air</th>\n",
       "      <th>secondary_cleaner.state.floatbank3_b_level</th>\n",
       "      <th>secondary_cleaner.state.floatbank4_a_air</th>\n",
       "      <th>secondary_cleaner.state.floatbank4_a_level</th>\n",
       "      <th>secondary_cleaner.state.floatbank4_b_air</th>\n",
       "      <th>secondary_cleaner.state.floatbank4_b_level</th>\n",
       "      <th>secondary_cleaner.state.floatbank5_a_air</th>\n",
       "      <th>secondary_cleaner.state.floatbank5_a_level</th>\n",
       "      <th>secondary_cleaner.state.floatbank5_b_air</th>\n",
       "      <th>secondary_cleaner.state.floatbank5_b_level</th>\n",
       "      <th>secondary_cleaner.state.floatbank6_a_air</th>\n",
       "      <th>secondary_cleaner.state.floatbank6_a_level</th>\n",
       "      <th>final.output.recovery</th>\n",
       "    </tr>\n",
       "  </thead>\n",
       "  <tbody>\n",
       "    <tr>\n",
       "      <th>0</th>\n",
       "      <td>6.486150</td>\n",
       "      <td>6.100378</td>\n",
       "      <td>2.284912</td>\n",
       "      <td>36.808594</td>\n",
       "      <td>523.546326</td>\n",
       "      <td>55.486599</td>\n",
       "      <td>11.986616</td>\n",
       "      <td>6.007990</td>\n",
       "      <td>999.706909</td>\n",
       "      <td>-404.066986</td>\n",
       "      <td>1603.011353</td>\n",
       "      <td>-434.715027</td>\n",
       "      <td>1602.375000</td>\n",
       "      <td>-442.204468</td>\n",
       "      <td>1598.937256</td>\n",
       "      <td>-451.294128</td>\n",
       "      <td>1404.472046</td>\n",
       "      <td>-455.462982</td>\n",
       "      <td>1416.354980</td>\n",
       "      <td>-451.939636</td>\n",
       "      <td>11.836743</td>\n",
       "      <td>6.005818</td>\n",
       "      <td>87.107763</td>\n",
       "      <td>127.092003</td>\n",
       "      <td>10.128295</td>\n",
       "      <td>7.25</td>\n",
       "      <td>0.988759</td>\n",
       "      <td>1549.775757</td>\n",
       "      <td>-498.912140</td>\n",
       "      <td>1551.434204</td>\n",
       "      <td>-516.403442</td>\n",
       "      <td>1549.873901</td>\n",
       "      <td>-498.666595</td>\n",
       "      <td>1554.367432</td>\n",
       "      <td>-493.428131</td>\n",
       "      <td>25.853109</td>\n",
       "      <td>-498.526489</td>\n",
       "      <td>23.893660</td>\n",
       "      <td>-501.406281</td>\n",
       "      <td>23.961798</td>\n",
       "      <td>-495.262817</td>\n",
       "      <td>21.940409</td>\n",
       "      <td>-499.340973</td>\n",
       "      <td>14.016835</td>\n",
       "      <td>-502.488007</td>\n",
       "      <td>12.099931</td>\n",
       "      <td>-504.715942</td>\n",
       "      <td>9.925633</td>\n",
       "      <td>-498.310211</td>\n",
       "      <td>8.079666</td>\n",
       "      <td>-500.470978</td>\n",
       "      <td>14.151341</td>\n",
       "      <td>-605.841980</td>\n",
       "      <td>70.541216</td>\n",
       "    </tr>\n",
       "    <tr>\n",
       "      <th>1</th>\n",
       "      <td>6.478583</td>\n",
       "      <td>6.161113</td>\n",
       "      <td>2.266033</td>\n",
       "      <td>35.753385</td>\n",
       "      <td>525.290581</td>\n",
       "      <td>57.278666</td>\n",
       "      <td>11.971193</td>\n",
       "      <td>6.005766</td>\n",
       "      <td>1000.286398</td>\n",
       "      <td>-400.065196</td>\n",
       "      <td>1600.754587</td>\n",
       "      <td>-449.953435</td>\n",
       "      <td>1600.479580</td>\n",
       "      <td>-449.830646</td>\n",
       "      <td>1600.527589</td>\n",
       "      <td>-449.953649</td>\n",
       "      <td>1399.227084</td>\n",
       "      <td>-450.869848</td>\n",
       "      <td>1399.719514</td>\n",
       "      <td>-450.119001</td>\n",
       "      <td>11.996163</td>\n",
       "      <td>6.012594</td>\n",
       "      <td>86.843261</td>\n",
       "      <td>125.629232</td>\n",
       "      <td>10.296251</td>\n",
       "      <td>7.25</td>\n",
       "      <td>1.002663</td>\n",
       "      <td>1576.166671</td>\n",
       "      <td>-500.904965</td>\n",
       "      <td>1575.950626</td>\n",
       "      <td>-499.865889</td>\n",
       "      <td>1575.994189</td>\n",
       "      <td>-499.315107</td>\n",
       "      <td>1574.479259</td>\n",
       "      <td>-498.931665</td>\n",
       "      <td>25.880539</td>\n",
       "      <td>-499.989656</td>\n",
       "      <td>23.889530</td>\n",
       "      <td>-500.372428</td>\n",
       "      <td>23.970550</td>\n",
       "      <td>-500.085473</td>\n",
       "      <td>22.085714</td>\n",
       "      <td>-499.446897</td>\n",
       "      <td>13.992281</td>\n",
       "      <td>-505.503262</td>\n",
       "      <td>11.950531</td>\n",
       "      <td>-501.331529</td>\n",
       "      <td>10.039245</td>\n",
       "      <td>-500.169983</td>\n",
       "      <td>7.984757</td>\n",
       "      <td>-500.582168</td>\n",
       "      <td>13.998353</td>\n",
       "      <td>-599.787184</td>\n",
       "      <td>69.266198</td>\n",
       "    </tr>\n",
       "    <tr>\n",
       "      <th>2</th>\n",
       "      <td>6.362222</td>\n",
       "      <td>6.116455</td>\n",
       "      <td>2.159622</td>\n",
       "      <td>35.971630</td>\n",
       "      <td>530.026610</td>\n",
       "      <td>57.510649</td>\n",
       "      <td>11.920603</td>\n",
       "      <td>6.197377</td>\n",
       "      <td>999.719565</td>\n",
       "      <td>-400.074028</td>\n",
       "      <td>1599.337330</td>\n",
       "      <td>-450.008530</td>\n",
       "      <td>1599.672797</td>\n",
       "      <td>-449.954491</td>\n",
       "      <td>1599.849325</td>\n",
       "      <td>-449.954185</td>\n",
       "      <td>1399.180945</td>\n",
       "      <td>-449.937588</td>\n",
       "      <td>1400.316682</td>\n",
       "      <td>-450.527147</td>\n",
       "      <td>11.920305</td>\n",
       "      <td>6.204633</td>\n",
       "      <td>86.842308</td>\n",
       "      <td>123.819808</td>\n",
       "      <td>11.316280</td>\n",
       "      <td>7.25</td>\n",
       "      <td>0.991265</td>\n",
       "      <td>1601.556163</td>\n",
       "      <td>-499.997791</td>\n",
       "      <td>1600.386685</td>\n",
       "      <td>-500.607762</td>\n",
       "      <td>1602.003542</td>\n",
       "      <td>-500.870069</td>\n",
       "      <td>1599.541515</td>\n",
       "      <td>-499.827444</td>\n",
       "      <td>26.005245</td>\n",
       "      <td>-499.929616</td>\n",
       "      <td>23.886657</td>\n",
       "      <td>-499.951928</td>\n",
       "      <td>23.913535</td>\n",
       "      <td>-499.442343</td>\n",
       "      <td>23.957717</td>\n",
       "      <td>-499.901982</td>\n",
       "      <td>14.015015</td>\n",
       "      <td>-502.520901</td>\n",
       "      <td>11.912783</td>\n",
       "      <td>-501.133383</td>\n",
       "      <td>10.070913</td>\n",
       "      <td>-500.129135</td>\n",
       "      <td>8.013877</td>\n",
       "      <td>-500.517572</td>\n",
       "      <td>14.028663</td>\n",
       "      <td>-601.427363</td>\n",
       "      <td>68.116445</td>\n",
       "    </tr>\n",
       "    <tr>\n",
       "      <th>3</th>\n",
       "      <td>6.118189</td>\n",
       "      <td>6.043309</td>\n",
       "      <td>2.037807</td>\n",
       "      <td>36.862241</td>\n",
       "      <td>542.590390</td>\n",
       "      <td>57.792734</td>\n",
       "      <td>11.630094</td>\n",
       "      <td>6.203177</td>\n",
       "      <td>999.814770</td>\n",
       "      <td>-400.200179</td>\n",
       "      <td>1600.059442</td>\n",
       "      <td>-450.619948</td>\n",
       "      <td>1600.012842</td>\n",
       "      <td>-449.910497</td>\n",
       "      <td>1597.725177</td>\n",
       "      <td>-450.130127</td>\n",
       "      <td>1400.943157</td>\n",
       "      <td>-450.030142</td>\n",
       "      <td>1400.234743</td>\n",
       "      <td>-449.790835</td>\n",
       "      <td>11.692450</td>\n",
       "      <td>6.196578</td>\n",
       "      <td>87.226430</td>\n",
       "      <td>122.270188</td>\n",
       "      <td>11.322140</td>\n",
       "      <td>7.25</td>\n",
       "      <td>0.996739</td>\n",
       "      <td>1599.968720</td>\n",
       "      <td>-500.951778</td>\n",
       "      <td>1600.659236</td>\n",
       "      <td>-499.677094</td>\n",
       "      <td>1600.304144</td>\n",
       "      <td>-500.727997</td>\n",
       "      <td>1600.449520</td>\n",
       "      <td>-500.052575</td>\n",
       "      <td>25.942508</td>\n",
       "      <td>-499.176749</td>\n",
       "      <td>23.955516</td>\n",
       "      <td>-499.848796</td>\n",
       "      <td>23.966838</td>\n",
       "      <td>-500.008812</td>\n",
       "      <td>23.954443</td>\n",
       "      <td>-499.944710</td>\n",
       "      <td>14.036510</td>\n",
       "      <td>-500.857308</td>\n",
       "      <td>11.999550</td>\n",
       "      <td>-501.193686</td>\n",
       "      <td>9.970366</td>\n",
       "      <td>-499.201640</td>\n",
       "      <td>7.977324</td>\n",
       "      <td>-500.255908</td>\n",
       "      <td>14.005551</td>\n",
       "      <td>-599.996129</td>\n",
       "      <td>68.347543</td>\n",
       "    </tr>\n",
       "    <tr>\n",
       "      <th>4</th>\n",
       "      <td>5.663707</td>\n",
       "      <td>6.060915</td>\n",
       "      <td>1.786875</td>\n",
       "      <td>34.347666</td>\n",
       "      <td>540.531893</td>\n",
       "      <td>56.047189</td>\n",
       "      <td>10.957755</td>\n",
       "      <td>6.198826</td>\n",
       "      <td>999.678690</td>\n",
       "      <td>-399.752729</td>\n",
       "      <td>1600.208824</td>\n",
       "      <td>-449.599614</td>\n",
       "      <td>1600.357732</td>\n",
       "      <td>-450.034364</td>\n",
       "      <td>1599.759049</td>\n",
       "      <td>-449.909799</td>\n",
       "      <td>1401.560902</td>\n",
       "      <td>-448.877187</td>\n",
       "      <td>1401.160227</td>\n",
       "      <td>-450.407128</td>\n",
       "      <td>10.960521</td>\n",
       "      <td>6.194897</td>\n",
       "      <td>86.688794</td>\n",
       "      <td>117.988169</td>\n",
       "      <td>11.913613</td>\n",
       "      <td>7.25</td>\n",
       "      <td>1.009869</td>\n",
       "      <td>1601.339707</td>\n",
       "      <td>-498.975456</td>\n",
       "      <td>1601.437854</td>\n",
       "      <td>-500.323246</td>\n",
       "      <td>1599.581894</td>\n",
       "      <td>-500.888152</td>\n",
       "      <td>1602.649541</td>\n",
       "      <td>-500.593010</td>\n",
       "      <td>26.024787</td>\n",
       "      <td>-500.279091</td>\n",
       "      <td>23.955345</td>\n",
       "      <td>-500.593614</td>\n",
       "      <td>23.985703</td>\n",
       "      <td>-500.083811</td>\n",
       "      <td>23.958945</td>\n",
       "      <td>-499.990309</td>\n",
       "      <td>14.027298</td>\n",
       "      <td>-499.838632</td>\n",
       "      <td>11.953070</td>\n",
       "      <td>-501.053894</td>\n",
       "      <td>9.925709</td>\n",
       "      <td>-501.686727</td>\n",
       "      <td>7.894242</td>\n",
       "      <td>-500.356035</td>\n",
       "      <td>13.996647</td>\n",
       "      <td>-601.496691</td>\n",
       "      <td>66.927016</td>\n",
       "    </tr>\n",
       "  </tbody>\n",
       "</table>\n",
       "</div>"
      ],
      "text/plain": [
       "   rougher.input.feed_au  rougher.input.feed_ag  rougher.input.feed_pb  \\\n",
       "0               6.486150               6.100378               2.284912   \n",
       "1               6.478583               6.161113               2.266033   \n",
       "2               6.362222               6.116455               2.159622   \n",
       "3               6.118189               6.043309               2.037807   \n",
       "4               5.663707               6.060915               1.786875   \n",
       "\n",
       "   rougher.input.feed_sol  rougher.input.feed_rate  rougher.input.feed_size  \\\n",
       "0               36.808594               523.546326                55.486599   \n",
       "1               35.753385               525.290581                57.278666   \n",
       "2               35.971630               530.026610                57.510649   \n",
       "3               36.862241               542.590390                57.792734   \n",
       "4               34.347666               540.531893                56.047189   \n",
       "\n",
       "   rougher.input.floatbank10_sulfate  rougher.input.floatbank10_xanthate  \\\n",
       "0                          11.986616                            6.007990   \n",
       "1                          11.971193                            6.005766   \n",
       "2                          11.920603                            6.197377   \n",
       "3                          11.630094                            6.203177   \n",
       "4                          10.957755                            6.198826   \n",
       "\n",
       "   rougher.state.floatbank10_a_air  rougher.state.floatbank10_a_level  \\\n",
       "0                       999.706909                        -404.066986   \n",
       "1                      1000.286398                        -400.065196   \n",
       "2                       999.719565                        -400.074028   \n",
       "3                       999.814770                        -400.200179   \n",
       "4                       999.678690                        -399.752729   \n",
       "\n",
       "   rougher.state.floatbank10_b_air  rougher.state.floatbank10_b_level  \\\n",
       "0                      1603.011353                        -434.715027   \n",
       "1                      1600.754587                        -449.953435   \n",
       "2                      1599.337330                        -450.008530   \n",
       "3                      1600.059442                        -450.619948   \n",
       "4                      1600.208824                        -449.599614   \n",
       "\n",
       "   rougher.state.floatbank10_c_air  rougher.state.floatbank10_c_level  \\\n",
       "0                      1602.375000                        -442.204468   \n",
       "1                      1600.479580                        -449.830646   \n",
       "2                      1599.672797                        -449.954491   \n",
       "3                      1600.012842                        -449.910497   \n",
       "4                      1600.357732                        -450.034364   \n",
       "\n",
       "   rougher.state.floatbank10_d_air  rougher.state.floatbank10_d_level  \\\n",
       "0                      1598.937256                        -451.294128   \n",
       "1                      1600.527589                        -449.953649   \n",
       "2                      1599.849325                        -449.954185   \n",
       "3                      1597.725177                        -450.130127   \n",
       "4                      1599.759049                        -449.909799   \n",
       "\n",
       "   rougher.state.floatbank10_e_air  rougher.state.floatbank10_e_level  \\\n",
       "0                      1404.472046                        -455.462982   \n",
       "1                      1399.227084                        -450.869848   \n",
       "2                      1399.180945                        -449.937588   \n",
       "3                      1400.943157                        -450.030142   \n",
       "4                      1401.560902                        -448.877187   \n",
       "\n",
       "   rougher.state.floatbank10_f_air  rougher.state.floatbank10_f_level  \\\n",
       "0                      1416.354980                        -451.939636   \n",
       "1                      1399.719514                        -450.119001   \n",
       "2                      1400.316682                        -450.527147   \n",
       "3                      1400.234743                        -449.790835   \n",
       "4                      1401.160227                        -450.407128   \n",
       "\n",
       "   rougher.input.floatbank11_sulfate  rougher.input.floatbank11_xanthate  \\\n",
       "0                          11.836743                            6.005818   \n",
       "1                          11.996163                            6.012594   \n",
       "2                          11.920305                            6.204633   \n",
       "3                          11.692450                            6.196578   \n",
       "4                          10.960521                            6.194897   \n",
       "\n",
       "   rougher.output.recovery  primary_cleaner.input.sulfate  \\\n",
       "0                87.107763                     127.092003   \n",
       "1                86.843261                     125.629232   \n",
       "2                86.842308                     123.819808   \n",
       "3                87.226430                     122.270188   \n",
       "4                86.688794                     117.988169   \n",
       "\n",
       "   primary_cleaner.input.depressant  primary_cleaner.input.feed_size  \\\n",
       "0                         10.128295                             7.25   \n",
       "1                         10.296251                             7.25   \n",
       "2                         11.316280                             7.25   \n",
       "3                         11.322140                             7.25   \n",
       "4                         11.913613                             7.25   \n",
       "\n",
       "   primary_cleaner.input.xanthate  primary_cleaner.state.floatbank8_a_air  \\\n",
       "0                        0.988759                             1549.775757   \n",
       "1                        1.002663                             1576.166671   \n",
       "2                        0.991265                             1601.556163   \n",
       "3                        0.996739                             1599.968720   \n",
       "4                        1.009869                             1601.339707   \n",
       "\n",
       "   primary_cleaner.state.floatbank8_a_level  \\\n",
       "0                               -498.912140   \n",
       "1                               -500.904965   \n",
       "2                               -499.997791   \n",
       "3                               -500.951778   \n",
       "4                               -498.975456   \n",
       "\n",
       "   primary_cleaner.state.floatbank8_b_air  \\\n",
       "0                             1551.434204   \n",
       "1                             1575.950626   \n",
       "2                             1600.386685   \n",
       "3                             1600.659236   \n",
       "4                             1601.437854   \n",
       "\n",
       "   primary_cleaner.state.floatbank8_b_level  \\\n",
       "0                               -516.403442   \n",
       "1                               -499.865889   \n",
       "2                               -500.607762   \n",
       "3                               -499.677094   \n",
       "4                               -500.323246   \n",
       "\n",
       "   primary_cleaner.state.floatbank8_c_air  \\\n",
       "0                             1549.873901   \n",
       "1                             1575.994189   \n",
       "2                             1602.003542   \n",
       "3                             1600.304144   \n",
       "4                             1599.581894   \n",
       "\n",
       "   primary_cleaner.state.floatbank8_c_level  \\\n",
       "0                               -498.666595   \n",
       "1                               -499.315107   \n",
       "2                               -500.870069   \n",
       "3                               -500.727997   \n",
       "4                               -500.888152   \n",
       "\n",
       "   primary_cleaner.state.floatbank8_d_air  \\\n",
       "0                             1554.367432   \n",
       "1                             1574.479259   \n",
       "2                             1599.541515   \n",
       "3                             1600.449520   \n",
       "4                             1602.649541   \n",
       "\n",
       "   primary_cleaner.state.floatbank8_d_level  \\\n",
       "0                               -493.428131   \n",
       "1                               -498.931665   \n",
       "2                               -499.827444   \n",
       "3                               -500.052575   \n",
       "4                               -500.593010   \n",
       "\n",
       "   secondary_cleaner.state.floatbank2_a_air  \\\n",
       "0                                 25.853109   \n",
       "1                                 25.880539   \n",
       "2                                 26.005245   \n",
       "3                                 25.942508   \n",
       "4                                 26.024787   \n",
       "\n",
       "   secondary_cleaner.state.floatbank2_a_level  \\\n",
       "0                                 -498.526489   \n",
       "1                                 -499.989656   \n",
       "2                                 -499.929616   \n",
       "3                                 -499.176749   \n",
       "4                                 -500.279091   \n",
       "\n",
       "   secondary_cleaner.state.floatbank2_b_air  \\\n",
       "0                                 23.893660   \n",
       "1                                 23.889530   \n",
       "2                                 23.886657   \n",
       "3                                 23.955516   \n",
       "4                                 23.955345   \n",
       "\n",
       "   secondary_cleaner.state.floatbank2_b_level  \\\n",
       "0                                 -501.406281   \n",
       "1                                 -500.372428   \n",
       "2                                 -499.951928   \n",
       "3                                 -499.848796   \n",
       "4                                 -500.593614   \n",
       "\n",
       "   secondary_cleaner.state.floatbank3_a_air  \\\n",
       "0                                 23.961798   \n",
       "1                                 23.970550   \n",
       "2                                 23.913535   \n",
       "3                                 23.966838   \n",
       "4                                 23.985703   \n",
       "\n",
       "   secondary_cleaner.state.floatbank3_a_level  \\\n",
       "0                                 -495.262817   \n",
       "1                                 -500.085473   \n",
       "2                                 -499.442343   \n",
       "3                                 -500.008812   \n",
       "4                                 -500.083811   \n",
       "\n",
       "   secondary_cleaner.state.floatbank3_b_air  \\\n",
       "0                                 21.940409   \n",
       "1                                 22.085714   \n",
       "2                                 23.957717   \n",
       "3                                 23.954443   \n",
       "4                                 23.958945   \n",
       "\n",
       "   secondary_cleaner.state.floatbank3_b_level  \\\n",
       "0                                 -499.340973   \n",
       "1                                 -499.446897   \n",
       "2                                 -499.901982   \n",
       "3                                 -499.944710   \n",
       "4                                 -499.990309   \n",
       "\n",
       "   secondary_cleaner.state.floatbank4_a_air  \\\n",
       "0                                 14.016835   \n",
       "1                                 13.992281   \n",
       "2                                 14.015015   \n",
       "3                                 14.036510   \n",
       "4                                 14.027298   \n",
       "\n",
       "   secondary_cleaner.state.floatbank4_a_level  \\\n",
       "0                                 -502.488007   \n",
       "1                                 -505.503262   \n",
       "2                                 -502.520901   \n",
       "3                                 -500.857308   \n",
       "4                                 -499.838632   \n",
       "\n",
       "   secondary_cleaner.state.floatbank4_b_air  \\\n",
       "0                                 12.099931   \n",
       "1                                 11.950531   \n",
       "2                                 11.912783   \n",
       "3                                 11.999550   \n",
       "4                                 11.953070   \n",
       "\n",
       "   secondary_cleaner.state.floatbank4_b_level  \\\n",
       "0                                 -504.715942   \n",
       "1                                 -501.331529   \n",
       "2                                 -501.133383   \n",
       "3                                 -501.193686   \n",
       "4                                 -501.053894   \n",
       "\n",
       "   secondary_cleaner.state.floatbank5_a_air  \\\n",
       "0                                  9.925633   \n",
       "1                                 10.039245   \n",
       "2                                 10.070913   \n",
       "3                                  9.970366   \n",
       "4                                  9.925709   \n",
       "\n",
       "   secondary_cleaner.state.floatbank5_a_level  \\\n",
       "0                                 -498.310211   \n",
       "1                                 -500.169983   \n",
       "2                                 -500.129135   \n",
       "3                                 -499.201640   \n",
       "4                                 -501.686727   \n",
       "\n",
       "   secondary_cleaner.state.floatbank5_b_air  \\\n",
       "0                                  8.079666   \n",
       "1                                  7.984757   \n",
       "2                                  8.013877   \n",
       "3                                  7.977324   \n",
       "4                                  7.894242   \n",
       "\n",
       "   secondary_cleaner.state.floatbank5_b_level  \\\n",
       "0                                 -500.470978   \n",
       "1                                 -500.582168   \n",
       "2                                 -500.517572   \n",
       "3                                 -500.255908   \n",
       "4                                 -500.356035   \n",
       "\n",
       "   secondary_cleaner.state.floatbank6_a_air  \\\n",
       "0                                 14.151341   \n",
       "1                                 13.998353   \n",
       "2                                 14.028663   \n",
       "3                                 14.005551   \n",
       "4                                 13.996647   \n",
       "\n",
       "   secondary_cleaner.state.floatbank6_a_level  final.output.recovery  \n",
       "0                                 -605.841980              70.541216  \n",
       "1                                 -599.787184              69.266198  \n",
       "2                                 -601.427363              68.116445  \n",
       "3                                 -599.996129              68.347543  \n",
       "4                                 -601.496691              66.927016  "
      ]
     },
     "execution_count": 45,
     "metadata": {},
     "output_type": "execute_result"
    }
   ],
   "source": [
    "train.head()"
   ]
  },
  {
   "cell_type": "code",
   "execution_count": 46,
   "metadata": {},
   "outputs": [
    {
     "data": {
      "text/html": [
       "<div>\n",
       "<style scoped>\n",
       "    .dataframe tbody tr th:only-of-type {\n",
       "        vertical-align: middle;\n",
       "    }\n",
       "\n",
       "    .dataframe tbody tr th {\n",
       "        vertical-align: top;\n",
       "    }\n",
       "\n",
       "    .dataframe thead th {\n",
       "        text-align: right;\n",
       "    }\n",
       "</style>\n",
       "<table border=\"1\" class=\"dataframe\">\n",
       "  <thead>\n",
       "    <tr style=\"text-align: right;\">\n",
       "      <th></th>\n",
       "      <th>rougher.input.feed_au</th>\n",
       "      <th>rougher.input.feed_ag</th>\n",
       "      <th>rougher.input.feed_pb</th>\n",
       "      <th>rougher.input.feed_sol</th>\n",
       "      <th>rougher.input.feed_rate</th>\n",
       "      <th>rougher.input.feed_size</th>\n",
       "      <th>rougher.input.floatbank10_sulfate</th>\n",
       "      <th>rougher.input.floatbank10_xanthate</th>\n",
       "      <th>rougher.state.floatbank10_a_air</th>\n",
       "      <th>rougher.state.floatbank10_a_level</th>\n",
       "      <th>rougher.state.floatbank10_b_air</th>\n",
       "      <th>rougher.state.floatbank10_b_level</th>\n",
       "      <th>rougher.state.floatbank10_c_air</th>\n",
       "      <th>rougher.state.floatbank10_c_level</th>\n",
       "      <th>rougher.state.floatbank10_d_air</th>\n",
       "      <th>rougher.state.floatbank10_d_level</th>\n",
       "      <th>rougher.state.floatbank10_e_air</th>\n",
       "      <th>rougher.state.floatbank10_e_level</th>\n",
       "      <th>rougher.state.floatbank10_f_air</th>\n",
       "      <th>rougher.state.floatbank10_f_level</th>\n",
       "      <th>rougher.input.floatbank11_sulfate</th>\n",
       "      <th>rougher.input.floatbank11_xanthate</th>\n",
       "      <th>primary_cleaner.input.sulfate</th>\n",
       "      <th>primary_cleaner.input.depressant</th>\n",
       "      <th>primary_cleaner.input.feed_size</th>\n",
       "      <th>primary_cleaner.input.xanthate</th>\n",
       "      <th>primary_cleaner.state.floatbank8_a_air</th>\n",
       "      <th>primary_cleaner.state.floatbank8_a_level</th>\n",
       "      <th>primary_cleaner.state.floatbank8_b_air</th>\n",
       "      <th>primary_cleaner.state.floatbank8_b_level</th>\n",
       "      <th>primary_cleaner.state.floatbank8_c_air</th>\n",
       "      <th>primary_cleaner.state.floatbank8_c_level</th>\n",
       "      <th>primary_cleaner.state.floatbank8_d_air</th>\n",
       "      <th>primary_cleaner.state.floatbank8_d_level</th>\n",
       "      <th>secondary_cleaner.state.floatbank2_a_air</th>\n",
       "      <th>secondary_cleaner.state.floatbank2_a_level</th>\n",
       "      <th>secondary_cleaner.state.floatbank2_b_air</th>\n",
       "      <th>secondary_cleaner.state.floatbank2_b_level</th>\n",
       "      <th>secondary_cleaner.state.floatbank3_a_air</th>\n",
       "      <th>secondary_cleaner.state.floatbank3_a_level</th>\n",
       "      <th>secondary_cleaner.state.floatbank3_b_air</th>\n",
       "      <th>secondary_cleaner.state.floatbank3_b_level</th>\n",
       "      <th>secondary_cleaner.state.floatbank4_a_air</th>\n",
       "      <th>secondary_cleaner.state.floatbank4_a_level</th>\n",
       "      <th>secondary_cleaner.state.floatbank4_b_air</th>\n",
       "      <th>secondary_cleaner.state.floatbank4_b_level</th>\n",
       "      <th>secondary_cleaner.state.floatbank5_a_air</th>\n",
       "      <th>secondary_cleaner.state.floatbank5_a_level</th>\n",
       "      <th>secondary_cleaner.state.floatbank5_b_air</th>\n",
       "      <th>secondary_cleaner.state.floatbank5_b_level</th>\n",
       "      <th>secondary_cleaner.state.floatbank6_a_air</th>\n",
       "      <th>secondary_cleaner.state.floatbank6_a_level</th>\n",
       "      <th>rougher.output.recovery</th>\n",
       "      <th>final.output.recovery</th>\n",
       "    </tr>\n",
       "  </thead>\n",
       "  <tbody>\n",
       "    <tr>\n",
       "      <th>0</th>\n",
       "      <td>4.365491</td>\n",
       "      <td>6.158718</td>\n",
       "      <td>3.875727</td>\n",
       "      <td>39.135119</td>\n",
       "      <td>555.820208</td>\n",
       "      <td>94.544358</td>\n",
       "      <td>6.146982</td>\n",
       "      <td>9.308612</td>\n",
       "      <td>1196.238112</td>\n",
       "      <td>-299.862743</td>\n",
       "      <td>1147.248241</td>\n",
       "      <td>-500.363165</td>\n",
       "      <td>1047.279065</td>\n",
       "      <td>-500.354091</td>\n",
       "      <td>948.756608</td>\n",
       "      <td>-498.439416</td>\n",
       "      <td>849.441918</td>\n",
       "      <td>-499.255503</td>\n",
       "      <td>850.112246</td>\n",
       "      <td>-499.407112</td>\n",
       "      <td>6.168939</td>\n",
       "      <td>9.309852</td>\n",
       "      <td>95.248427</td>\n",
       "      <td>8.078957</td>\n",
       "      <td>6.500000</td>\n",
       "      <td>1.283045</td>\n",
       "      <td>1648.759906</td>\n",
       "      <td>-399.862053</td>\n",
       "      <td>1650.135395</td>\n",
       "      <td>-399.957321</td>\n",
       "      <td>1648.831890</td>\n",
       "      <td>-400.586116</td>\n",
       "      <td>1649.464582</td>\n",
       "      <td>-400.673303</td>\n",
       "      <td>34.940919</td>\n",
       "      <td>-500.150510</td>\n",
       "      <td>30.031867</td>\n",
       "      <td>-500.328335</td>\n",
       "      <td>26.033990</td>\n",
       "      <td>-500.147792</td>\n",
       "      <td>22.952306</td>\n",
       "      <td>-500.037678</td>\n",
       "      <td>23.018622</td>\n",
       "      <td>-500.492702</td>\n",
       "      <td>20.020205</td>\n",
       "      <td>-500.220296</td>\n",
       "      <td>17.963512</td>\n",
       "      <td>-499.939490</td>\n",
       "      <td>12.990306</td>\n",
       "      <td>-500.080993</td>\n",
       "      <td>19.990336</td>\n",
       "      <td>-499.191575</td>\n",
       "      <td>89.514960</td>\n",
       "      <td>70.281454</td>\n",
       "    </tr>\n",
       "    <tr>\n",
       "      <th>1</th>\n",
       "      <td>4.362781</td>\n",
       "      <td>6.048130</td>\n",
       "      <td>3.902537</td>\n",
       "      <td>39.713906</td>\n",
       "      <td>544.731687</td>\n",
       "      <td>123.742430</td>\n",
       "      <td>6.210119</td>\n",
       "      <td>9.297709</td>\n",
       "      <td>1201.904177</td>\n",
       "      <td>-299.907308</td>\n",
       "      <td>1154.087804</td>\n",
       "      <td>-500.036580</td>\n",
       "      <td>1054.009756</td>\n",
       "      <td>-500.237335</td>\n",
       "      <td>944.138793</td>\n",
       "      <td>-496.866953</td>\n",
       "      <td>851.589767</td>\n",
       "      <td>-499.040466</td>\n",
       "      <td>851.345606</td>\n",
       "      <td>-499.122561</td>\n",
       "      <td>6.209517</td>\n",
       "      <td>9.297194</td>\n",
       "      <td>98.880538</td>\n",
       "      <td>7.984164</td>\n",
       "      <td>6.500000</td>\n",
       "      <td>1.241969</td>\n",
       "      <td>1646.547763</td>\n",
       "      <td>-398.977083</td>\n",
       "      <td>1648.212240</td>\n",
       "      <td>-400.383265</td>\n",
       "      <td>1648.917387</td>\n",
       "      <td>-399.521344</td>\n",
       "      <td>1651.498591</td>\n",
       "      <td>-399.745329</td>\n",
       "      <td>34.980742</td>\n",
       "      <td>-498.131002</td>\n",
       "      <td>29.968453</td>\n",
       "      <td>-586.013330</td>\n",
       "      <td>25.971737</td>\n",
       "      <td>-499.608392</td>\n",
       "      <td>22.958448</td>\n",
       "      <td>-499.821308</td>\n",
       "      <td>23.024963</td>\n",
       "      <td>-501.153409</td>\n",
       "      <td>20.054122</td>\n",
       "      <td>-500.314711</td>\n",
       "      <td>17.979515</td>\n",
       "      <td>-499.272871</td>\n",
       "      <td>12.992404</td>\n",
       "      <td>-499.976268</td>\n",
       "      <td>20.013986</td>\n",
       "      <td>-500.625471</td>\n",
       "      <td>89.858126</td>\n",
       "      <td>65.523246</td>\n",
       "    </tr>\n",
       "    <tr>\n",
       "      <th>2</th>\n",
       "      <td>5.081681</td>\n",
       "      <td>6.082745</td>\n",
       "      <td>4.564078</td>\n",
       "      <td>37.208683</td>\n",
       "      <td>558.155110</td>\n",
       "      <td>82.610855</td>\n",
       "      <td>7.363824</td>\n",
       "      <td>9.003562</td>\n",
       "      <td>1200.826926</td>\n",
       "      <td>-300.124116</td>\n",
       "      <td>1150.754676</td>\n",
       "      <td>-499.986009</td>\n",
       "      <td>1049.182824</td>\n",
       "      <td>-500.014696</td>\n",
       "      <td>948.085464</td>\n",
       "      <td>-499.997003</td>\n",
       "      <td>850.170086</td>\n",
       "      <td>-500.270334</td>\n",
       "      <td>849.557905</td>\n",
       "      <td>-500.198702</td>\n",
       "      <td>7.358308</td>\n",
       "      <td>9.000624</td>\n",
       "      <td>119.497545</td>\n",
       "      <td>8.003752</td>\n",
       "      <td>6.500000</td>\n",
       "      <td>1.259741</td>\n",
       "      <td>1647.368779</td>\n",
       "      <td>-399.788506</td>\n",
       "      <td>1648.395206</td>\n",
       "      <td>-400.166490</td>\n",
       "      <td>1648.953828</td>\n",
       "      <td>-400.468641</td>\n",
       "      <td>1649.821569</td>\n",
       "      <td>-400.071884</td>\n",
       "      <td>34.952967</td>\n",
       "      <td>-501.204647</td>\n",
       "      <td>29.927025</td>\n",
       "      <td>-500.106628</td>\n",
       "      <td>25.978253</td>\n",
       "      <td>-499.890060</td>\n",
       "      <td>23.004376</td>\n",
       "      <td>-500.014529</td>\n",
       "      <td>22.993827</td>\n",
       "      <td>-501.559663</td>\n",
       "      <td>20.029144</td>\n",
       "      <td>-500.000662</td>\n",
       "      <td>18.012723</td>\n",
       "      <td>-500.024764</td>\n",
       "      <td>13.016445</td>\n",
       "      <td>-500.058432</td>\n",
       "      <td>19.973767</td>\n",
       "      <td>-501.394155</td>\n",
       "      <td>91.816623</td>\n",
       "      <td>74.817644</td>\n",
       "    </tr>\n",
       "    <tr>\n",
       "      <th>3</th>\n",
       "      <td>5.145949</td>\n",
       "      <td>6.084374</td>\n",
       "      <td>4.768124</td>\n",
       "      <td>36.808874</td>\n",
       "      <td>539.713765</td>\n",
       "      <td>77.984784</td>\n",
       "      <td>6.927072</td>\n",
       "      <td>8.955597</td>\n",
       "      <td>1199.292489</td>\n",
       "      <td>-299.778385</td>\n",
       "      <td>1152.512559</td>\n",
       "      <td>-500.338106</td>\n",
       "      <td>1052.601592</td>\n",
       "      <td>-499.695075</td>\n",
       "      <td>955.171539</td>\n",
       "      <td>-500.294989</td>\n",
       "      <td>851.957342</td>\n",
       "      <td>-499.779541</td>\n",
       "      <td>850.765662</td>\n",
       "      <td>-501.030559</td>\n",
       "      <td>6.929364</td>\n",
       "      <td>8.920717</td>\n",
       "      <td>108.080163</td>\n",
       "      <td>7.970121</td>\n",
       "      <td>6.660000</td>\n",
       "      <td>0.774909</td>\n",
       "      <td>1652.660845</td>\n",
       "      <td>-399.702218</td>\n",
       "      <td>1651.203128</td>\n",
       "      <td>-400.291472</td>\n",
       "      <td>1651.924848</td>\n",
       "      <td>-398.058033</td>\n",
       "      <td>1650.782696</td>\n",
       "      <td>-399.597977</td>\n",
       "      <td>35.038256</td>\n",
       "      <td>-500.102649</td>\n",
       "      <td>30.066959</td>\n",
       "      <td>-500.211499</td>\n",
       "      <td>26.013515</td>\n",
       "      <td>-500.054597</td>\n",
       "      <td>22.988928</td>\n",
       "      <td>-499.981410</td>\n",
       "      <td>23.032807</td>\n",
       "      <td>-501.287889</td>\n",
       "      <td>19.977466</td>\n",
       "      <td>-500.159903</td>\n",
       "      <td>17.980463</td>\n",
       "      <td>-500.504602</td>\n",
       "      <td>12.949071</td>\n",
       "      <td>-500.009937</td>\n",
       "      <td>20.010332</td>\n",
       "      <td>-508.337973</td>\n",
       "      <td>88.478959</td>\n",
       "      <td>63.082720</td>\n",
       "    </tr>\n",
       "    <tr>\n",
       "      <th>4</th>\n",
       "      <td>5.735249</td>\n",
       "      <td>6.165220</td>\n",
       "      <td>4.512346</td>\n",
       "      <td>37.810642</td>\n",
       "      <td>558.713584</td>\n",
       "      <td>86.434874</td>\n",
       "      <td>7.823471</td>\n",
       "      <td>7.490356</td>\n",
       "      <td>1198.005449</td>\n",
       "      <td>-300.283401</td>\n",
       "      <td>1099.481500</td>\n",
       "      <td>-499.702465</td>\n",
       "      <td>999.539264</td>\n",
       "      <td>-499.306051</td>\n",
       "      <td>889.445596</td>\n",
       "      <td>-498.118617</td>\n",
       "      <td>800.533525</td>\n",
       "      <td>-499.765068</td>\n",
       "      <td>800.510356</td>\n",
       "      <td>-497.289533</td>\n",
       "      <td>7.824875</td>\n",
       "      <td>7.500678</td>\n",
       "      <td>117.750648</td>\n",
       "      <td>6.954311</td>\n",
       "      <td>6.426667</td>\n",
       "      <td>0.731271</td>\n",
       "      <td>1649.411497</td>\n",
       "      <td>-399.853156</td>\n",
       "      <td>1648.917211</td>\n",
       "      <td>-400.321866</td>\n",
       "      <td>1649.117753</td>\n",
       "      <td>-399.645348</td>\n",
       "      <td>1650.398209</td>\n",
       "      <td>-400.654533</td>\n",
       "      <td>34.894598</td>\n",
       "      <td>-498.444587</td>\n",
       "      <td>30.020745</td>\n",
       "      <td>-533.831343</td>\n",
       "      <td>26.022094</td>\n",
       "      <td>-499.725484</td>\n",
       "      <td>22.992992</td>\n",
       "      <td>-499.891405</td>\n",
       "      <td>23.001911</td>\n",
       "      <td>-499.947838</td>\n",
       "      <td>20.023735</td>\n",
       "      <td>-499.713680</td>\n",
       "      <td>17.990955</td>\n",
       "      <td>-500.334769</td>\n",
       "      <td>13.007523</td>\n",
       "      <td>-499.968459</td>\n",
       "      <td>19.995999</td>\n",
       "      <td>-499.788805</td>\n",
       "      <td>89.230316</td>\n",
       "      <td>74.463380</td>\n",
       "    </tr>\n",
       "  </tbody>\n",
       "</table>\n",
       "</div>"
      ],
      "text/plain": [
       "   rougher.input.feed_au  rougher.input.feed_ag  rougher.input.feed_pb  \\\n",
       "0               4.365491               6.158718               3.875727   \n",
       "1               4.362781               6.048130               3.902537   \n",
       "2               5.081681               6.082745               4.564078   \n",
       "3               5.145949               6.084374               4.768124   \n",
       "4               5.735249               6.165220               4.512346   \n",
       "\n",
       "   rougher.input.feed_sol  rougher.input.feed_rate  rougher.input.feed_size  \\\n",
       "0               39.135119               555.820208                94.544358   \n",
       "1               39.713906               544.731687               123.742430   \n",
       "2               37.208683               558.155110                82.610855   \n",
       "3               36.808874               539.713765                77.984784   \n",
       "4               37.810642               558.713584                86.434874   \n",
       "\n",
       "   rougher.input.floatbank10_sulfate  rougher.input.floatbank10_xanthate  \\\n",
       "0                           6.146982                            9.308612   \n",
       "1                           6.210119                            9.297709   \n",
       "2                           7.363824                            9.003562   \n",
       "3                           6.927072                            8.955597   \n",
       "4                           7.823471                            7.490356   \n",
       "\n",
       "   rougher.state.floatbank10_a_air  rougher.state.floatbank10_a_level  \\\n",
       "0                      1196.238112                        -299.862743   \n",
       "1                      1201.904177                        -299.907308   \n",
       "2                      1200.826926                        -300.124116   \n",
       "3                      1199.292489                        -299.778385   \n",
       "4                      1198.005449                        -300.283401   \n",
       "\n",
       "   rougher.state.floatbank10_b_air  rougher.state.floatbank10_b_level  \\\n",
       "0                      1147.248241                        -500.363165   \n",
       "1                      1154.087804                        -500.036580   \n",
       "2                      1150.754676                        -499.986009   \n",
       "3                      1152.512559                        -500.338106   \n",
       "4                      1099.481500                        -499.702465   \n",
       "\n",
       "   rougher.state.floatbank10_c_air  rougher.state.floatbank10_c_level  \\\n",
       "0                      1047.279065                        -500.354091   \n",
       "1                      1054.009756                        -500.237335   \n",
       "2                      1049.182824                        -500.014696   \n",
       "3                      1052.601592                        -499.695075   \n",
       "4                       999.539264                        -499.306051   \n",
       "\n",
       "   rougher.state.floatbank10_d_air  rougher.state.floatbank10_d_level  \\\n",
       "0                       948.756608                        -498.439416   \n",
       "1                       944.138793                        -496.866953   \n",
       "2                       948.085464                        -499.997003   \n",
       "3                       955.171539                        -500.294989   \n",
       "4                       889.445596                        -498.118617   \n",
       "\n",
       "   rougher.state.floatbank10_e_air  rougher.state.floatbank10_e_level  \\\n",
       "0                       849.441918                        -499.255503   \n",
       "1                       851.589767                        -499.040466   \n",
       "2                       850.170086                        -500.270334   \n",
       "3                       851.957342                        -499.779541   \n",
       "4                       800.533525                        -499.765068   \n",
       "\n",
       "   rougher.state.floatbank10_f_air  rougher.state.floatbank10_f_level  \\\n",
       "0                       850.112246                        -499.407112   \n",
       "1                       851.345606                        -499.122561   \n",
       "2                       849.557905                        -500.198702   \n",
       "3                       850.765662                        -501.030559   \n",
       "4                       800.510356                        -497.289533   \n",
       "\n",
       "   rougher.input.floatbank11_sulfate  rougher.input.floatbank11_xanthate  \\\n",
       "0                           6.168939                            9.309852   \n",
       "1                           6.209517                            9.297194   \n",
       "2                           7.358308                            9.000624   \n",
       "3                           6.929364                            8.920717   \n",
       "4                           7.824875                            7.500678   \n",
       "\n",
       "   primary_cleaner.input.sulfate  primary_cleaner.input.depressant  \\\n",
       "0                      95.248427                          8.078957   \n",
       "1                      98.880538                          7.984164   \n",
       "2                     119.497545                          8.003752   \n",
       "3                     108.080163                          7.970121   \n",
       "4                     117.750648                          6.954311   \n",
       "\n",
       "   primary_cleaner.input.feed_size  primary_cleaner.input.xanthate  \\\n",
       "0                         6.500000                        1.283045   \n",
       "1                         6.500000                        1.241969   \n",
       "2                         6.500000                        1.259741   \n",
       "3                         6.660000                        0.774909   \n",
       "4                         6.426667                        0.731271   \n",
       "\n",
       "   primary_cleaner.state.floatbank8_a_air  \\\n",
       "0                             1648.759906   \n",
       "1                             1646.547763   \n",
       "2                             1647.368779   \n",
       "3                             1652.660845   \n",
       "4                             1649.411497   \n",
       "\n",
       "   primary_cleaner.state.floatbank8_a_level  \\\n",
       "0                               -399.862053   \n",
       "1                               -398.977083   \n",
       "2                               -399.788506   \n",
       "3                               -399.702218   \n",
       "4                               -399.853156   \n",
       "\n",
       "   primary_cleaner.state.floatbank8_b_air  \\\n",
       "0                             1650.135395   \n",
       "1                             1648.212240   \n",
       "2                             1648.395206   \n",
       "3                             1651.203128   \n",
       "4                             1648.917211   \n",
       "\n",
       "   primary_cleaner.state.floatbank8_b_level  \\\n",
       "0                               -399.957321   \n",
       "1                               -400.383265   \n",
       "2                               -400.166490   \n",
       "3                               -400.291472   \n",
       "4                               -400.321866   \n",
       "\n",
       "   primary_cleaner.state.floatbank8_c_air  \\\n",
       "0                             1648.831890   \n",
       "1                             1648.917387   \n",
       "2                             1648.953828   \n",
       "3                             1651.924848   \n",
       "4                             1649.117753   \n",
       "\n",
       "   primary_cleaner.state.floatbank8_c_level  \\\n",
       "0                               -400.586116   \n",
       "1                               -399.521344   \n",
       "2                               -400.468641   \n",
       "3                               -398.058033   \n",
       "4                               -399.645348   \n",
       "\n",
       "   primary_cleaner.state.floatbank8_d_air  \\\n",
       "0                             1649.464582   \n",
       "1                             1651.498591   \n",
       "2                             1649.821569   \n",
       "3                             1650.782696   \n",
       "4                             1650.398209   \n",
       "\n",
       "   primary_cleaner.state.floatbank8_d_level  \\\n",
       "0                               -400.673303   \n",
       "1                               -399.745329   \n",
       "2                               -400.071884   \n",
       "3                               -399.597977   \n",
       "4                               -400.654533   \n",
       "\n",
       "   secondary_cleaner.state.floatbank2_a_air  \\\n",
       "0                                 34.940919   \n",
       "1                                 34.980742   \n",
       "2                                 34.952967   \n",
       "3                                 35.038256   \n",
       "4                                 34.894598   \n",
       "\n",
       "   secondary_cleaner.state.floatbank2_a_level  \\\n",
       "0                                 -500.150510   \n",
       "1                                 -498.131002   \n",
       "2                                 -501.204647   \n",
       "3                                 -500.102649   \n",
       "4                                 -498.444587   \n",
       "\n",
       "   secondary_cleaner.state.floatbank2_b_air  \\\n",
       "0                                 30.031867   \n",
       "1                                 29.968453   \n",
       "2                                 29.927025   \n",
       "3                                 30.066959   \n",
       "4                                 30.020745   \n",
       "\n",
       "   secondary_cleaner.state.floatbank2_b_level  \\\n",
       "0                                 -500.328335   \n",
       "1                                 -586.013330   \n",
       "2                                 -500.106628   \n",
       "3                                 -500.211499   \n",
       "4                                 -533.831343   \n",
       "\n",
       "   secondary_cleaner.state.floatbank3_a_air  \\\n",
       "0                                 26.033990   \n",
       "1                                 25.971737   \n",
       "2                                 25.978253   \n",
       "3                                 26.013515   \n",
       "4                                 26.022094   \n",
       "\n",
       "   secondary_cleaner.state.floatbank3_a_level  \\\n",
       "0                                 -500.147792   \n",
       "1                                 -499.608392   \n",
       "2                                 -499.890060   \n",
       "3                                 -500.054597   \n",
       "4                                 -499.725484   \n",
       "\n",
       "   secondary_cleaner.state.floatbank3_b_air  \\\n",
       "0                                 22.952306   \n",
       "1                                 22.958448   \n",
       "2                                 23.004376   \n",
       "3                                 22.988928   \n",
       "4                                 22.992992   \n",
       "\n",
       "   secondary_cleaner.state.floatbank3_b_level  \\\n",
       "0                                 -500.037678   \n",
       "1                                 -499.821308   \n",
       "2                                 -500.014529   \n",
       "3                                 -499.981410   \n",
       "4                                 -499.891405   \n",
       "\n",
       "   secondary_cleaner.state.floatbank4_a_air  \\\n",
       "0                                 23.018622   \n",
       "1                                 23.024963   \n",
       "2                                 22.993827   \n",
       "3                                 23.032807   \n",
       "4                                 23.001911   \n",
       "\n",
       "   secondary_cleaner.state.floatbank4_a_level  \\\n",
       "0                                 -500.492702   \n",
       "1                                 -501.153409   \n",
       "2                                 -501.559663   \n",
       "3                                 -501.287889   \n",
       "4                                 -499.947838   \n",
       "\n",
       "   secondary_cleaner.state.floatbank4_b_air  \\\n",
       "0                                 20.020205   \n",
       "1                                 20.054122   \n",
       "2                                 20.029144   \n",
       "3                                 19.977466   \n",
       "4                                 20.023735   \n",
       "\n",
       "   secondary_cleaner.state.floatbank4_b_level  \\\n",
       "0                                 -500.220296   \n",
       "1                                 -500.314711   \n",
       "2                                 -500.000662   \n",
       "3                                 -500.159903   \n",
       "4                                 -499.713680   \n",
       "\n",
       "   secondary_cleaner.state.floatbank5_a_air  \\\n",
       "0                                 17.963512   \n",
       "1                                 17.979515   \n",
       "2                                 18.012723   \n",
       "3                                 17.980463   \n",
       "4                                 17.990955   \n",
       "\n",
       "   secondary_cleaner.state.floatbank5_a_level  \\\n",
       "0                                 -499.939490   \n",
       "1                                 -499.272871   \n",
       "2                                 -500.024764   \n",
       "3                                 -500.504602   \n",
       "4                                 -500.334769   \n",
       "\n",
       "   secondary_cleaner.state.floatbank5_b_air  \\\n",
       "0                                 12.990306   \n",
       "1                                 12.992404   \n",
       "2                                 13.016445   \n",
       "3                                 12.949071   \n",
       "4                                 13.007523   \n",
       "\n",
       "   secondary_cleaner.state.floatbank5_b_level  \\\n",
       "0                                 -500.080993   \n",
       "1                                 -499.976268   \n",
       "2                                 -500.058432   \n",
       "3                                 -500.009937   \n",
       "4                                 -499.968459   \n",
       "\n",
       "   secondary_cleaner.state.floatbank6_a_air  \\\n",
       "0                                 19.990336   \n",
       "1                                 20.013986   \n",
       "2                                 19.973767   \n",
       "3                                 20.010332   \n",
       "4                                 19.995999   \n",
       "\n",
       "   secondary_cleaner.state.floatbank6_a_level  rougher.output.recovery  \\\n",
       "0                                 -499.191575                89.514960   \n",
       "1                                 -500.625471                89.858126   \n",
       "2                                 -501.394155                91.816623   \n",
       "3                                 -508.337973                88.478959   \n",
       "4                                 -499.788805                89.230316   \n",
       "\n",
       "   final.output.recovery  \n",
       "0              70.281454  \n",
       "1              65.523246  \n",
       "2              74.817644  \n",
       "3              63.082720  \n",
       "4              74.463380  "
      ]
     },
     "execution_count": 46,
     "metadata": {},
     "output_type": "execute_result"
    }
   ],
   "source": [
    "test.head()"
   ]
  },
  {
   "cell_type": "markdown",
   "metadata": {},
   "source": [
    "Тренировочная и тестовая выборки готовы."
   ]
  },
  {
   "cell_type": "code",
   "execution_count": 47,
   "metadata": {},
   "outputs": [
    {
     "name": "stdout",
     "output_type": "stream",
     "text": [
      "0\n"
     ]
    }
   ],
   "source": [
    "print(len(test[(test['rougher.output.recovery'] == 0) |\n",
    "               (test['final.output.recovery'] == 0)]))"
   ]
  },
  {
   "cell_type": "code",
   "execution_count": 48,
   "metadata": {},
   "outputs": [],
   "source": [
    "train = train[(train['rougher.output.recovery'] != 0) & (train['final.output.recovery'] != 0)]"
   ]
  },
  {
   "cell_type": "code",
   "execution_count": 49,
   "metadata": {},
   "outputs": [],
   "source": [
    "features_train_r = train.drop(['rougher.output.recovery', 'final.output.recovery'], axis=1) \n",
    "features_test_r = test.drop(['rougher.output.recovery', 'final.output.recovery'], axis=1)\n",
    "target_train_r = train['rougher.output.recovery']\n",
    "target_test_r = test['rougher.output.recovery']\n",
    "\n",
    "features_train_f = train.drop(['rougher.output.recovery', 'final.output.recovery'], axis=1)\n",
    "features_test_f = test.drop(['rougher.output.recovery', 'final.output.recovery'], axis=1)\n",
    "target_train_f = train['final.output.recovery']\n",
    "target_test_f = test['final.output.recovery']"
   ]
  },
  {
   "cell_type": "code",
   "execution_count": 50,
   "metadata": {},
   "outputs": [
    {
     "data": {
      "text/plain": [
       "((18722, 52), (4860, 52), (18722,), (4860,), (18722,), (4860,))"
      ]
     },
     "execution_count": 50,
     "metadata": {},
     "output_type": "execute_result"
    }
   ],
   "source": [
    "features_train_r.shape, features_test_r.shape, target_train_r.shape, target_test_r.shape,target_train_f.shape, target_test_f.shape"
   ]
  },
  {
   "cell_type": "code",
   "execution_count": 51,
   "metadata": {},
   "outputs": [
    {
     "data": {
      "text/html": [
       "<div>\n",
       "<style scoped>\n",
       "    .dataframe tbody tr th:only-of-type {\n",
       "        vertical-align: middle;\n",
       "    }\n",
       "\n",
       "    .dataframe tbody tr th {\n",
       "        vertical-align: top;\n",
       "    }\n",
       "\n",
       "    .dataframe thead th {\n",
       "        text-align: right;\n",
       "    }\n",
       "</style>\n",
       "<table border=\"1\" class=\"dataframe\">\n",
       "  <thead>\n",
       "    <tr style=\"text-align: right;\">\n",
       "      <th></th>\n",
       "      <th>rougher.input.feed_au</th>\n",
       "      <th>rougher.input.feed_ag</th>\n",
       "      <th>rougher.input.feed_pb</th>\n",
       "      <th>rougher.input.feed_sol</th>\n",
       "      <th>rougher.input.feed_rate</th>\n",
       "      <th>rougher.input.feed_size</th>\n",
       "      <th>rougher.input.floatbank10_sulfate</th>\n",
       "      <th>rougher.input.floatbank10_xanthate</th>\n",
       "      <th>rougher.state.floatbank10_a_air</th>\n",
       "      <th>rougher.state.floatbank10_a_level</th>\n",
       "      <th>rougher.state.floatbank10_b_air</th>\n",
       "      <th>rougher.state.floatbank10_b_level</th>\n",
       "      <th>rougher.state.floatbank10_c_air</th>\n",
       "      <th>rougher.state.floatbank10_c_level</th>\n",
       "      <th>rougher.state.floatbank10_d_air</th>\n",
       "      <th>rougher.state.floatbank10_d_level</th>\n",
       "      <th>rougher.state.floatbank10_e_air</th>\n",
       "      <th>rougher.state.floatbank10_e_level</th>\n",
       "      <th>rougher.state.floatbank10_f_air</th>\n",
       "      <th>rougher.state.floatbank10_f_level</th>\n",
       "      <th>rougher.input.floatbank11_sulfate</th>\n",
       "      <th>rougher.input.floatbank11_xanthate</th>\n",
       "      <th>primary_cleaner.input.sulfate</th>\n",
       "      <th>primary_cleaner.input.depressant</th>\n",
       "      <th>primary_cleaner.input.feed_size</th>\n",
       "      <th>primary_cleaner.input.xanthate</th>\n",
       "      <th>primary_cleaner.state.floatbank8_a_air</th>\n",
       "      <th>primary_cleaner.state.floatbank8_a_level</th>\n",
       "      <th>primary_cleaner.state.floatbank8_b_air</th>\n",
       "      <th>primary_cleaner.state.floatbank8_b_level</th>\n",
       "      <th>primary_cleaner.state.floatbank8_c_air</th>\n",
       "      <th>primary_cleaner.state.floatbank8_c_level</th>\n",
       "      <th>primary_cleaner.state.floatbank8_d_air</th>\n",
       "      <th>primary_cleaner.state.floatbank8_d_level</th>\n",
       "      <th>secondary_cleaner.state.floatbank2_a_air</th>\n",
       "      <th>secondary_cleaner.state.floatbank2_a_level</th>\n",
       "      <th>secondary_cleaner.state.floatbank2_b_air</th>\n",
       "      <th>secondary_cleaner.state.floatbank2_b_level</th>\n",
       "      <th>secondary_cleaner.state.floatbank3_a_air</th>\n",
       "      <th>secondary_cleaner.state.floatbank3_a_level</th>\n",
       "      <th>secondary_cleaner.state.floatbank3_b_air</th>\n",
       "      <th>secondary_cleaner.state.floatbank3_b_level</th>\n",
       "      <th>secondary_cleaner.state.floatbank4_a_air</th>\n",
       "      <th>secondary_cleaner.state.floatbank4_a_level</th>\n",
       "      <th>secondary_cleaner.state.floatbank4_b_air</th>\n",
       "      <th>secondary_cleaner.state.floatbank4_b_level</th>\n",
       "      <th>secondary_cleaner.state.floatbank5_a_air</th>\n",
       "      <th>secondary_cleaner.state.floatbank5_a_level</th>\n",
       "      <th>secondary_cleaner.state.floatbank5_b_air</th>\n",
       "      <th>secondary_cleaner.state.floatbank5_b_level</th>\n",
       "      <th>secondary_cleaner.state.floatbank6_a_air</th>\n",
       "      <th>secondary_cleaner.state.floatbank6_a_level</th>\n",
       "    </tr>\n",
       "  </thead>\n",
       "  <tbody>\n",
       "    <tr>\n",
       "      <th>count</th>\n",
       "      <td>18722.000000</td>\n",
       "      <td>18722.000000</td>\n",
       "      <td>18722.000000</td>\n",
       "      <td>18722.000000</td>\n",
       "      <td>18722.000000</td>\n",
       "      <td>18722.000000</td>\n",
       "      <td>18722.000000</td>\n",
       "      <td>18722.000000</td>\n",
       "      <td>18722.000000</td>\n",
       "      <td>18722.000000</td>\n",
       "      <td>18722.000000</td>\n",
       "      <td>18722.000000</td>\n",
       "      <td>18722.000000</td>\n",
       "      <td>18722.000000</td>\n",
       "      <td>18722.000000</td>\n",
       "      <td>18722.000000</td>\n",
       "      <td>18722.000000</td>\n",
       "      <td>18722.000000</td>\n",
       "      <td>18722.000000</td>\n",
       "      <td>18722.000000</td>\n",
       "      <td>18722.000000</td>\n",
       "      <td>18722.000000</td>\n",
       "      <td>18722.000000</td>\n",
       "      <td>18722.000000</td>\n",
       "      <td>18722.000000</td>\n",
       "      <td>18722.000000</td>\n",
       "      <td>1.872200e+04</td>\n",
       "      <td>18722.000000</td>\n",
       "      <td>1.872200e+04</td>\n",
       "      <td>18722.000000</td>\n",
       "      <td>1.872200e+04</td>\n",
       "      <td>18722.000000</td>\n",
       "      <td>1.872200e+04</td>\n",
       "      <td>18722.000000</td>\n",
       "      <td>18722.000000</td>\n",
       "      <td>18722.000000</td>\n",
       "      <td>18722.000000</td>\n",
       "      <td>18722.000000</td>\n",
       "      <td>1.872200e+04</td>\n",
       "      <td>18722.000000</td>\n",
       "      <td>1.872200e+04</td>\n",
       "      <td>18722.000000</td>\n",
       "      <td>1.872200e+04</td>\n",
       "      <td>18722.000000</td>\n",
       "      <td>1.872200e+04</td>\n",
       "      <td>18722.000000</td>\n",
       "      <td>18722.000000</td>\n",
       "      <td>18722.000000</td>\n",
       "      <td>18722.000000</td>\n",
       "      <td>18722.000000</td>\n",
       "      <td>18722.000000</td>\n",
       "      <td>18722.000000</td>\n",
       "    </tr>\n",
       "    <tr>\n",
       "      <th>mean</th>\n",
       "      <td>8.272939</td>\n",
       "      <td>8.793466</td>\n",
       "      <td>3.584998</td>\n",
       "      <td>36.699324</td>\n",
       "      <td>479.345239</td>\n",
       "      <td>58.974372</td>\n",
       "      <td>12.316175</td>\n",
       "      <td>6.042207</td>\n",
       "      <td>1103.832747</td>\n",
       "      <td>-377.721884</td>\n",
       "      <td>1323.456077</td>\n",
       "      <td>-466.723259</td>\n",
       "      <td>1303.729902</td>\n",
       "      <td>-467.223312</td>\n",
       "      <td>1215.484615</td>\n",
       "      <td>-467.761368</td>\n",
       "      <td>1078.848330</td>\n",
       "      <td>-465.439726</td>\n",
       "      <td>1027.581232</td>\n",
       "      <td>-465.719347</td>\n",
       "      <td>12.064004</td>\n",
       "      <td>6.043926</td>\n",
       "      <td>145.317861</td>\n",
       "      <td>8.814963</td>\n",
       "      <td>7.309714</td>\n",
       "      <td>1.021422</td>\n",
       "      <td>1.589528e+03</td>\n",
       "      <td>-490.921084</td>\n",
       "      <td>1.591627e+03</td>\n",
       "      <td>-491.896569</td>\n",
       "      <td>1.587110e+03</td>\n",
       "      <td>-491.628748</td>\n",
       "      <td>1.541702e+03</td>\n",
       "      <td>-487.989604</td>\n",
       "      <td>28.791850</td>\n",
       "      <td>-502.050310</td>\n",
       "      <td>24.138820</td>\n",
       "      <td>-502.873258</td>\n",
       "      <td>2.823711e+01</td>\n",
       "      <td>-485.939020</td>\n",
       "      <td>2.226318e+01</td>\n",
       "      <td>-493.393403</td>\n",
       "      <td>1.898313e+01</td>\n",
       "      <td>-485.642330</td>\n",
       "      <td>1.502373e+01</td>\n",
       "      <td>-461.070582</td>\n",
       "      <td>15.719121</td>\n",
       "      <td>-488.343825</td>\n",
       "      <td>12.215966</td>\n",
       "      <td>-486.876828</td>\n",
       "      <td>19.034566</td>\n",
       "      <td>-505.242153</td>\n",
       "    </tr>\n",
       "    <tr>\n",
       "      <th>std</th>\n",
       "      <td>1.927726</td>\n",
       "      <td>1.925412</td>\n",
       "      <td>1.053101</td>\n",
       "      <td>5.109932</td>\n",
       "      <td>103.889954</td>\n",
       "      <td>21.875601</td>\n",
       "      <td>3.370991</td>\n",
       "      <td>1.110616</td>\n",
       "      <td>159.848888</td>\n",
       "      <td>94.224439</td>\n",
       "      <td>175.468770</td>\n",
       "      <td>54.741798</td>\n",
       "      <td>201.870799</td>\n",
       "      <td>53.594787</td>\n",
       "      <td>203.056123</td>\n",
       "      <td>53.973397</td>\n",
       "      <td>173.870158</td>\n",
       "      <td>57.485599</td>\n",
       "      <td>165.020748</td>\n",
       "      <td>57.977522</td>\n",
       "      <td>3.737835</td>\n",
       "      <td>1.138058</td>\n",
       "      <td>43.895549</td>\n",
       "      <td>3.273379</td>\n",
       "      <td>0.613037</td>\n",
       "      <td>0.511639</td>\n",
       "      <td>1.275906e+02</td>\n",
       "      <td>31.959851</td>\n",
       "      <td>1.305979e+02</td>\n",
       "      <td>33.153425</td>\n",
       "      <td>1.347368e+02</td>\n",
       "      <td>31.818895</td>\n",
       "      <td>2.476931e+02</td>\n",
       "      <td>43.135248</td>\n",
       "      <td>5.454089</td>\n",
       "      <td>53.264269</td>\n",
       "      <td>5.707156</td>\n",
       "      <td>56.339441</td>\n",
       "      <td>6.091299e+00</td>\n",
       "      <td>54.423685</td>\n",
       "      <td>5.549605e+00</td>\n",
       "      <td>43.117183</td>\n",
       "      <td>5.390349e+00</td>\n",
       "      <td>47.782913</td>\n",
       "      <td>4.875383e+00</td>\n",
       "      <td>66.438794</td>\n",
       "      <td>5.486785</td>\n",
       "      <td>34.490252</td>\n",
       "      <td>5.311784</td>\n",
       "      <td>37.969435</td>\n",
       "      <td>5.512595</td>\n",
       "      <td>37.405325</td>\n",
       "    </tr>\n",
       "    <tr>\n",
       "      <th>min</th>\n",
       "      <td>0.885875</td>\n",
       "      <td>1.116930</td>\n",
       "      <td>0.088552</td>\n",
       "      <td>0.463867</td>\n",
       "      <td>0.002986</td>\n",
       "      <td>0.046369</td>\n",
       "      <td>0.001147</td>\n",
       "      <td>0.000568</td>\n",
       "      <td>-0.042069</td>\n",
       "      <td>-657.949759</td>\n",
       "      <td>-0.721806</td>\n",
       "      <td>-650.065369</td>\n",
       "      <td>-0.056636</td>\n",
       "      <td>-647.544439</td>\n",
       "      <td>-0.992219</td>\n",
       "      <td>-648.390665</td>\n",
       "      <td>-1.982295</td>\n",
       "      <td>-648.002444</td>\n",
       "      <td>-2.593390</td>\n",
       "      <td>-649.949283</td>\n",
       "      <td>0.000098</td>\n",
       "      <td>0.000290</td>\n",
       "      <td>0.051279</td>\n",
       "      <td>0.000000</td>\n",
       "      <td>1.080000</td>\n",
       "      <td>0.000005</td>\n",
       "      <td>5.445860e-32</td>\n",
       "      <td>-783.448551</td>\n",
       "      <td>6.647490e-32</td>\n",
       "      <td>-799.950103</td>\n",
       "      <td>4.033736e-32</td>\n",
       "      <td>-799.960571</td>\n",
       "      <td>4.039220e-32</td>\n",
       "      <td>-799.794250</td>\n",
       "      <td>0.077503</td>\n",
       "      <td>-799.606441</td>\n",
       "      <td>0.000000</td>\n",
       "      <td>-799.873878</td>\n",
       "      <td>1.833598e-21</td>\n",
       "      <td>-799.755798</td>\n",
       "      <td>6.137256e-22</td>\n",
       "      <td>-809.333008</td>\n",
       "      <td>1.079872e-16</td>\n",
       "      <td>-799.798523</td>\n",
       "      <td>2.489718e-17</td>\n",
       "      <td>-800.836914</td>\n",
       "      <td>-0.372054</td>\n",
       "      <td>-797.323986</td>\n",
       "      <td>0.528083</td>\n",
       "      <td>-800.220337</td>\n",
       "      <td>-0.079426</td>\n",
       "      <td>-809.741464</td>\n",
       "    </tr>\n",
       "    <tr>\n",
       "      <th>25%</th>\n",
       "      <td>6.847910</td>\n",
       "      <td>7.228986</td>\n",
       "      <td>2.872250</td>\n",
       "      <td>34.175482</td>\n",
       "      <td>419.986487</td>\n",
       "      <td>47.492739</td>\n",
       "      <td>10.000442</td>\n",
       "      <td>5.400106</td>\n",
       "      <td>999.655155</td>\n",
       "      <td>-499.848412</td>\n",
       "      <td>1199.716326</td>\n",
       "      <td>-500.196420</td>\n",
       "      <td>1151.889790</td>\n",
       "      <td>-500.214331</td>\n",
       "      <td>1082.690465</td>\n",
       "      <td>-500.373863</td>\n",
       "      <td>997.745908</td>\n",
       "      <td>-500.225565</td>\n",
       "      <td>901.298054</td>\n",
       "      <td>-500.508552</td>\n",
       "      <td>9.998804</td>\n",
       "      <td>5.399482</td>\n",
       "      <td>114.851142</td>\n",
       "      <td>6.081913</td>\n",
       "      <td>6.940000</td>\n",
       "      <td>0.697485</td>\n",
       "      <td>1.504632e+03</td>\n",
       "      <td>-500.304641</td>\n",
       "      <td>1.503569e+03</td>\n",
       "      <td>-500.431655</td>\n",
       "      <td>1.500923e+03</td>\n",
       "      <td>-500.695935</td>\n",
       "      <td>1.489423e+03</td>\n",
       "      <td>-500.454283</td>\n",
       "      <td>25.053622</td>\n",
       "      <td>-500.232967</td>\n",
       "      <td>20.987521</td>\n",
       "      <td>-500.249161</td>\n",
       "      <td>2.494715e+01</td>\n",
       "      <td>-500.214128</td>\n",
       "      <td>1.899583e+01</td>\n",
       "      <td>-500.122230</td>\n",
       "      <td>1.497710e+01</td>\n",
       "      <td>-500.701710</td>\n",
       "      <td>1.194921e+01</td>\n",
       "      <td>-500.188184</td>\n",
       "      <td>10.992146</td>\n",
       "      <td>-500.452575</td>\n",
       "      <td>8.972315</td>\n",
       "      <td>-500.129227</td>\n",
       "      <td>14.986074</td>\n",
       "      <td>-500.720512</td>\n",
       "    </tr>\n",
       "    <tr>\n",
       "      <th>50%</th>\n",
       "      <td>8.128971</td>\n",
       "      <td>8.599697</td>\n",
       "      <td>3.523996</td>\n",
       "      <td>37.182182</td>\n",
       "      <td>499.524382</td>\n",
       "      <td>54.600678</td>\n",
       "      <td>12.001030</td>\n",
       "      <td>6.073746</td>\n",
       "      <td>1001.034745</td>\n",
       "      <td>-300.275178</td>\n",
       "      <td>1302.215421</td>\n",
       "      <td>-499.778765</td>\n",
       "      <td>1300.615369</td>\n",
       "      <td>-499.700586</td>\n",
       "      <td>1202.296365</td>\n",
       "      <td>-499.519752</td>\n",
       "      <td>1049.965062</td>\n",
       "      <td>-499.648423</td>\n",
       "      <td>999.968494</td>\n",
       "      <td>-499.457326</td>\n",
       "      <td>12.000124</td>\n",
       "      <td>6.094527</td>\n",
       "      <td>143.649745</td>\n",
       "      <td>8.036040</td>\n",
       "      <td>7.290000</td>\n",
       "      <td>0.929544</td>\n",
       "      <td>1.600554e+03</td>\n",
       "      <td>-499.925963</td>\n",
       "      <td>1.600484e+03</td>\n",
       "      <td>-499.954310</td>\n",
       "      <td>1.600216e+03</td>\n",
       "      <td>-499.905667</td>\n",
       "      <td>1.599375e+03</td>\n",
       "      <td>-499.905885</td>\n",
       "      <td>29.344259</td>\n",
       "      <td>-499.971695</td>\n",
       "      <td>25.039734</td>\n",
       "      <td>-500.013832</td>\n",
       "      <td>2.798277e+01</td>\n",
       "      <td>-499.930796</td>\n",
       "      <td>2.201845e+01</td>\n",
       "      <td>-499.980753</td>\n",
       "      <td>1.801574e+01</td>\n",
       "      <td>-499.837793</td>\n",
       "      <td>1.497125e+01</td>\n",
       "      <td>-499.456819</td>\n",
       "      <td>15.009908</td>\n",
       "      <td>-499.801338</td>\n",
       "      <td>11.027747</td>\n",
       "      <td>-499.935062</td>\n",
       "      <td>19.968534</td>\n",
       "      <td>-500.047188</td>\n",
       "    </tr>\n",
       "    <tr>\n",
       "      <th>75%</th>\n",
       "      <td>9.770475</td>\n",
       "      <td>10.210487</td>\n",
       "      <td>4.239138</td>\n",
       "      <td>40.059204</td>\n",
       "      <td>550.106395</td>\n",
       "      <td>64.755408</td>\n",
       "      <td>14.691422</td>\n",
       "      <td>6.799079</td>\n",
       "      <td>1204.665282</td>\n",
       "      <td>-299.983474</td>\n",
       "      <td>1449.239751</td>\n",
       "      <td>-400.554140</td>\n",
       "      <td>1449.934993</td>\n",
       "      <td>-400.899380</td>\n",
       "      <td>1360.384243</td>\n",
       "      <td>-401.477994</td>\n",
       "      <td>1199.444853</td>\n",
       "      <td>-401.008153</td>\n",
       "      <td>1099.830425</td>\n",
       "      <td>-401.353158</td>\n",
       "      <td>14.596586</td>\n",
       "      <td>6.800679</td>\n",
       "      <td>175.277582</td>\n",
       "      <td>11.001880</td>\n",
       "      <td>7.670000</td>\n",
       "      <td>1.212159</td>\n",
       "      <td>1.697568e+03</td>\n",
       "      <td>-499.431591</td>\n",
       "      <td>1.699203e+03</td>\n",
       "      <td>-499.366782</td>\n",
       "      <td>1.699474e+03</td>\n",
       "      <td>-498.844088</td>\n",
       "      <td>1.698432e+03</td>\n",
       "      <td>-499.070805</td>\n",
       "      <td>33.041896</td>\n",
       "      <td>-499.668269</td>\n",
       "      <td>28.009818</td>\n",
       "      <td>-499.783926</td>\n",
       "      <td>3.300349e+01</td>\n",
       "      <td>-499.320876</td>\n",
       "      <td>2.600725e+01</td>\n",
       "      <td>-499.810592</td>\n",
       "      <td>2.301247e+01</td>\n",
       "      <td>-498.237702</td>\n",
       "      <td>1.903561e+01</td>\n",
       "      <td>-400.126435</td>\n",
       "      <td>18.026052</td>\n",
       "      <td>-498.358838</td>\n",
       "      <td>14.018777</td>\n",
       "      <td>-499.422200</td>\n",
       "      <td>24.768974</td>\n",
       "      <td>-499.491833</td>\n",
       "    </tr>\n",
       "    <tr>\n",
       "      <th>max</th>\n",
       "      <td>13.731330</td>\n",
       "      <td>14.596026</td>\n",
       "      <td>7.142594</td>\n",
       "      <td>53.477742</td>\n",
       "      <td>717.508837</td>\n",
       "      <td>484.967466</td>\n",
       "      <td>36.118275</td>\n",
       "      <td>9.703448</td>\n",
       "      <td>1521.980372</td>\n",
       "      <td>-273.776101</td>\n",
       "      <td>1809.194008</td>\n",
       "      <td>-296.383080</td>\n",
       "      <td>2499.129174</td>\n",
       "      <td>-292.155509</td>\n",
       "      <td>1817.199290</td>\n",
       "      <td>-76.397327</td>\n",
       "      <td>1922.636637</td>\n",
       "      <td>-139.753025</td>\n",
       "      <td>1706.307502</td>\n",
       "      <td>-191.718480</td>\n",
       "      <td>37.980648</td>\n",
       "      <td>9.698407</td>\n",
       "      <td>265.983123</td>\n",
       "      <td>40.000000</td>\n",
       "      <td>15.500000</td>\n",
       "      <td>4.102454</td>\n",
       "      <td>2.079531e+03</td>\n",
       "      <td>-57.195404</td>\n",
       "      <td>1.846447e+03</td>\n",
       "      <td>-142.527229</td>\n",
       "      <td>2.013156e+03</td>\n",
       "      <td>-150.937035</td>\n",
       "      <td>2.398888e+03</td>\n",
       "      <td>-30.601828</td>\n",
       "      <td>52.651399</td>\n",
       "      <td>-127.875565</td>\n",
       "      <td>35.152122</td>\n",
       "      <td>-211.999273</td>\n",
       "      <td>4.426046e+01</td>\n",
       "      <td>-191.678810</td>\n",
       "      <td>3.507284e+01</td>\n",
       "      <td>-159.742331</td>\n",
       "      <td>3.011574e+01</td>\n",
       "      <td>-245.239184</td>\n",
       "      <td>2.400791e+01</td>\n",
       "      <td>-7.834746</td>\n",
       "      <td>43.709931</td>\n",
       "      <td>-244.483566</td>\n",
       "      <td>27.926001</td>\n",
       "      <td>-137.740004</td>\n",
       "      <td>32.188906</td>\n",
       "      <td>-104.427459</td>\n",
       "    </tr>\n",
       "  </tbody>\n",
       "</table>\n",
       "</div>"
      ],
      "text/plain": [
       "       rougher.input.feed_au  rougher.input.feed_ag  rougher.input.feed_pb  \\\n",
       "count           18722.000000           18722.000000           18722.000000   \n",
       "mean                8.272939               8.793466               3.584998   \n",
       "std                 1.927726               1.925412               1.053101   \n",
       "min                 0.885875               1.116930               0.088552   \n",
       "25%                 6.847910               7.228986               2.872250   \n",
       "50%                 8.128971               8.599697               3.523996   \n",
       "75%                 9.770475              10.210487               4.239138   \n",
       "max                13.731330              14.596026               7.142594   \n",
       "\n",
       "       rougher.input.feed_sol  rougher.input.feed_rate  \\\n",
       "count            18722.000000             18722.000000   \n",
       "mean                36.699324               479.345239   \n",
       "std                  5.109932               103.889954   \n",
       "min                  0.463867                 0.002986   \n",
       "25%                 34.175482               419.986487   \n",
       "50%                 37.182182               499.524382   \n",
       "75%                 40.059204               550.106395   \n",
       "max                 53.477742               717.508837   \n",
       "\n",
       "       rougher.input.feed_size  rougher.input.floatbank10_sulfate  \\\n",
       "count             18722.000000                       18722.000000   \n",
       "mean                 58.974372                          12.316175   \n",
       "std                  21.875601                           3.370991   \n",
       "min                   0.046369                           0.001147   \n",
       "25%                  47.492739                          10.000442   \n",
       "50%                  54.600678                          12.001030   \n",
       "75%                  64.755408                          14.691422   \n",
       "max                 484.967466                          36.118275   \n",
       "\n",
       "       rougher.input.floatbank10_xanthate  rougher.state.floatbank10_a_air  \\\n",
       "count                        18722.000000                     18722.000000   \n",
       "mean                             6.042207                      1103.832747   \n",
       "std                              1.110616                       159.848888   \n",
       "min                              0.000568                        -0.042069   \n",
       "25%                              5.400106                       999.655155   \n",
       "50%                              6.073746                      1001.034745   \n",
       "75%                              6.799079                      1204.665282   \n",
       "max                              9.703448                      1521.980372   \n",
       "\n",
       "       rougher.state.floatbank10_a_level  rougher.state.floatbank10_b_air  \\\n",
       "count                       18722.000000                     18722.000000   \n",
       "mean                         -377.721884                      1323.456077   \n",
       "std                            94.224439                       175.468770   \n",
       "min                          -657.949759                        -0.721806   \n",
       "25%                          -499.848412                      1199.716326   \n",
       "50%                          -300.275178                      1302.215421   \n",
       "75%                          -299.983474                      1449.239751   \n",
       "max                          -273.776101                      1809.194008   \n",
       "\n",
       "       rougher.state.floatbank10_b_level  rougher.state.floatbank10_c_air  \\\n",
       "count                       18722.000000                     18722.000000   \n",
       "mean                         -466.723259                      1303.729902   \n",
       "std                            54.741798                       201.870799   \n",
       "min                          -650.065369                        -0.056636   \n",
       "25%                          -500.196420                      1151.889790   \n",
       "50%                          -499.778765                      1300.615369   \n",
       "75%                          -400.554140                      1449.934993   \n",
       "max                          -296.383080                      2499.129174   \n",
       "\n",
       "       rougher.state.floatbank10_c_level  rougher.state.floatbank10_d_air  \\\n",
       "count                       18722.000000                     18722.000000   \n",
       "mean                         -467.223312                      1215.484615   \n",
       "std                            53.594787                       203.056123   \n",
       "min                          -647.544439                        -0.992219   \n",
       "25%                          -500.214331                      1082.690465   \n",
       "50%                          -499.700586                      1202.296365   \n",
       "75%                          -400.899380                      1360.384243   \n",
       "max                          -292.155509                      1817.199290   \n",
       "\n",
       "       rougher.state.floatbank10_d_level  rougher.state.floatbank10_e_air  \\\n",
       "count                       18722.000000                     18722.000000   \n",
       "mean                         -467.761368                      1078.848330   \n",
       "std                            53.973397                       173.870158   \n",
       "min                          -648.390665                        -1.982295   \n",
       "25%                          -500.373863                       997.745908   \n",
       "50%                          -499.519752                      1049.965062   \n",
       "75%                          -401.477994                      1199.444853   \n",
       "max                           -76.397327                      1922.636637   \n",
       "\n",
       "       rougher.state.floatbank10_e_level  rougher.state.floatbank10_f_air  \\\n",
       "count                       18722.000000                     18722.000000   \n",
       "mean                         -465.439726                      1027.581232   \n",
       "std                            57.485599                       165.020748   \n",
       "min                          -648.002444                        -2.593390   \n",
       "25%                          -500.225565                       901.298054   \n",
       "50%                          -499.648423                       999.968494   \n",
       "75%                          -401.008153                      1099.830425   \n",
       "max                          -139.753025                      1706.307502   \n",
       "\n",
       "       rougher.state.floatbank10_f_level  rougher.input.floatbank11_sulfate  \\\n",
       "count                       18722.000000                       18722.000000   \n",
       "mean                         -465.719347                          12.064004   \n",
       "std                            57.977522                           3.737835   \n",
       "min                          -649.949283                           0.000098   \n",
       "25%                          -500.508552                           9.998804   \n",
       "50%                          -499.457326                          12.000124   \n",
       "75%                          -401.353158                          14.596586   \n",
       "max                          -191.718480                          37.980648   \n",
       "\n",
       "       rougher.input.floatbank11_xanthate  primary_cleaner.input.sulfate  \\\n",
       "count                        18722.000000                   18722.000000   \n",
       "mean                             6.043926                     145.317861   \n",
       "std                              1.138058                      43.895549   \n",
       "min                              0.000290                       0.051279   \n",
       "25%                              5.399482                     114.851142   \n",
       "50%                              6.094527                     143.649745   \n",
       "75%                              6.800679                     175.277582   \n",
       "max                              9.698407                     265.983123   \n",
       "\n",
       "       primary_cleaner.input.depressant  primary_cleaner.input.feed_size  \\\n",
       "count                      18722.000000                     18722.000000   \n",
       "mean                           8.814963                         7.309714   \n",
       "std                            3.273379                         0.613037   \n",
       "min                            0.000000                         1.080000   \n",
       "25%                            6.081913                         6.940000   \n",
       "50%                            8.036040                         7.290000   \n",
       "75%                           11.001880                         7.670000   \n",
       "max                           40.000000                        15.500000   \n",
       "\n",
       "       primary_cleaner.input.xanthate  primary_cleaner.state.floatbank8_a_air  \\\n",
       "count                    18722.000000                            1.872200e+04   \n",
       "mean                         1.021422                            1.589528e+03   \n",
       "std                          0.511639                            1.275906e+02   \n",
       "min                          0.000005                            5.445860e-32   \n",
       "25%                          0.697485                            1.504632e+03   \n",
       "50%                          0.929544                            1.600554e+03   \n",
       "75%                          1.212159                            1.697568e+03   \n",
       "max                          4.102454                            2.079531e+03   \n",
       "\n",
       "       primary_cleaner.state.floatbank8_a_level  \\\n",
       "count                              18722.000000   \n",
       "mean                                -490.921084   \n",
       "std                                   31.959851   \n",
       "min                                 -783.448551   \n",
       "25%                                 -500.304641   \n",
       "50%                                 -499.925963   \n",
       "75%                                 -499.431591   \n",
       "max                                  -57.195404   \n",
       "\n",
       "       primary_cleaner.state.floatbank8_b_air  \\\n",
       "count                            1.872200e+04   \n",
       "mean                             1.591627e+03   \n",
       "std                              1.305979e+02   \n",
       "min                              6.647490e-32   \n",
       "25%                              1.503569e+03   \n",
       "50%                              1.600484e+03   \n",
       "75%                              1.699203e+03   \n",
       "max                              1.846447e+03   \n",
       "\n",
       "       primary_cleaner.state.floatbank8_b_level  \\\n",
       "count                              18722.000000   \n",
       "mean                                -491.896569   \n",
       "std                                   33.153425   \n",
       "min                                 -799.950103   \n",
       "25%                                 -500.431655   \n",
       "50%                                 -499.954310   \n",
       "75%                                 -499.366782   \n",
       "max                                 -142.527229   \n",
       "\n",
       "       primary_cleaner.state.floatbank8_c_air  \\\n",
       "count                            1.872200e+04   \n",
       "mean                             1.587110e+03   \n",
       "std                              1.347368e+02   \n",
       "min                              4.033736e-32   \n",
       "25%                              1.500923e+03   \n",
       "50%                              1.600216e+03   \n",
       "75%                              1.699474e+03   \n",
       "max                              2.013156e+03   \n",
       "\n",
       "       primary_cleaner.state.floatbank8_c_level  \\\n",
       "count                              18722.000000   \n",
       "mean                                -491.628748   \n",
       "std                                   31.818895   \n",
       "min                                 -799.960571   \n",
       "25%                                 -500.695935   \n",
       "50%                                 -499.905667   \n",
       "75%                                 -498.844088   \n",
       "max                                 -150.937035   \n",
       "\n",
       "       primary_cleaner.state.floatbank8_d_air  \\\n",
       "count                            1.872200e+04   \n",
       "mean                             1.541702e+03   \n",
       "std                              2.476931e+02   \n",
       "min                              4.039220e-32   \n",
       "25%                              1.489423e+03   \n",
       "50%                              1.599375e+03   \n",
       "75%                              1.698432e+03   \n",
       "max                              2.398888e+03   \n",
       "\n",
       "       primary_cleaner.state.floatbank8_d_level  \\\n",
       "count                              18722.000000   \n",
       "mean                                -487.989604   \n",
       "std                                   43.135248   \n",
       "min                                 -799.794250   \n",
       "25%                                 -500.454283   \n",
       "50%                                 -499.905885   \n",
       "75%                                 -499.070805   \n",
       "max                                  -30.601828   \n",
       "\n",
       "       secondary_cleaner.state.floatbank2_a_air  \\\n",
       "count                              18722.000000   \n",
       "mean                                  28.791850   \n",
       "std                                    5.454089   \n",
       "min                                    0.077503   \n",
       "25%                                   25.053622   \n",
       "50%                                   29.344259   \n",
       "75%                                   33.041896   \n",
       "max                                   52.651399   \n",
       "\n",
       "       secondary_cleaner.state.floatbank2_a_level  \\\n",
       "count                                18722.000000   \n",
       "mean                                  -502.050310   \n",
       "std                                     53.264269   \n",
       "min                                   -799.606441   \n",
       "25%                                   -500.232967   \n",
       "50%                                   -499.971695   \n",
       "75%                                   -499.668269   \n",
       "max                                   -127.875565   \n",
       "\n",
       "       secondary_cleaner.state.floatbank2_b_air  \\\n",
       "count                              18722.000000   \n",
       "mean                                  24.138820   \n",
       "std                                    5.707156   \n",
       "min                                    0.000000   \n",
       "25%                                   20.987521   \n",
       "50%                                   25.039734   \n",
       "75%                                   28.009818   \n",
       "max                                   35.152122   \n",
       "\n",
       "       secondary_cleaner.state.floatbank2_b_level  \\\n",
       "count                                18722.000000   \n",
       "mean                                  -502.873258   \n",
       "std                                     56.339441   \n",
       "min                                   -799.873878   \n",
       "25%                                   -500.249161   \n",
       "50%                                   -500.013832   \n",
       "75%                                   -499.783926   \n",
       "max                                   -211.999273   \n",
       "\n",
       "       secondary_cleaner.state.floatbank3_a_air  \\\n",
       "count                              1.872200e+04   \n",
       "mean                               2.823711e+01   \n",
       "std                                6.091299e+00   \n",
       "min                                1.833598e-21   \n",
       "25%                                2.494715e+01   \n",
       "50%                                2.798277e+01   \n",
       "75%                                3.300349e+01   \n",
       "max                                4.426046e+01   \n",
       "\n",
       "       secondary_cleaner.state.floatbank3_a_level  \\\n",
       "count                                18722.000000   \n",
       "mean                                  -485.939020   \n",
       "std                                     54.423685   \n",
       "min                                   -799.755798   \n",
       "25%                                   -500.214128   \n",
       "50%                                   -499.930796   \n",
       "75%                                   -499.320876   \n",
       "max                                   -191.678810   \n",
       "\n",
       "       secondary_cleaner.state.floatbank3_b_air  \\\n",
       "count                              1.872200e+04   \n",
       "mean                               2.226318e+01   \n",
       "std                                5.549605e+00   \n",
       "min                                6.137256e-22   \n",
       "25%                                1.899583e+01   \n",
       "50%                                2.201845e+01   \n",
       "75%                                2.600725e+01   \n",
       "max                                3.507284e+01   \n",
       "\n",
       "       secondary_cleaner.state.floatbank3_b_level  \\\n",
       "count                                18722.000000   \n",
       "mean                                  -493.393403   \n",
       "std                                     43.117183   \n",
       "min                                   -809.333008   \n",
       "25%                                   -500.122230   \n",
       "50%                                   -499.980753   \n",
       "75%                                   -499.810592   \n",
       "max                                   -159.742331   \n",
       "\n",
       "       secondary_cleaner.state.floatbank4_a_air  \\\n",
       "count                              1.872200e+04   \n",
       "mean                               1.898313e+01   \n",
       "std                                5.390349e+00   \n",
       "min                                1.079872e-16   \n",
       "25%                                1.497710e+01   \n",
       "50%                                1.801574e+01   \n",
       "75%                                2.301247e+01   \n",
       "max                                3.011574e+01   \n",
       "\n",
       "       secondary_cleaner.state.floatbank4_a_level  \\\n",
       "count                                18722.000000   \n",
       "mean                                  -485.642330   \n",
       "std                                     47.782913   \n",
       "min                                   -799.798523   \n",
       "25%                                   -500.701710   \n",
       "50%                                   -499.837793   \n",
       "75%                                   -498.237702   \n",
       "max                                   -245.239184   \n",
       "\n",
       "       secondary_cleaner.state.floatbank4_b_air  \\\n",
       "count                              1.872200e+04   \n",
       "mean                               1.502373e+01   \n",
       "std                                4.875383e+00   \n",
       "min                                2.489718e-17   \n",
       "25%                                1.194921e+01   \n",
       "50%                                1.497125e+01   \n",
       "75%                                1.903561e+01   \n",
       "max                                2.400791e+01   \n",
       "\n",
       "       secondary_cleaner.state.floatbank4_b_level  \\\n",
       "count                                18722.000000   \n",
       "mean                                  -461.070582   \n",
       "std                                     66.438794   \n",
       "min                                   -800.836914   \n",
       "25%                                   -500.188184   \n",
       "50%                                   -499.456819   \n",
       "75%                                   -400.126435   \n",
       "max                                     -7.834746   \n",
       "\n",
       "       secondary_cleaner.state.floatbank5_a_air  \\\n",
       "count                              18722.000000   \n",
       "mean                                  15.719121   \n",
       "std                                    5.486785   \n",
       "min                                   -0.372054   \n",
       "25%                                   10.992146   \n",
       "50%                                   15.009908   \n",
       "75%                                   18.026052   \n",
       "max                                   43.709931   \n",
       "\n",
       "       secondary_cleaner.state.floatbank5_a_level  \\\n",
       "count                                18722.000000   \n",
       "mean                                  -488.343825   \n",
       "std                                     34.490252   \n",
       "min                                   -797.323986   \n",
       "25%                                   -500.452575   \n",
       "50%                                   -499.801338   \n",
       "75%                                   -498.358838   \n",
       "max                                   -244.483566   \n",
       "\n",
       "       secondary_cleaner.state.floatbank5_b_air  \\\n",
       "count                              18722.000000   \n",
       "mean                                  12.215966   \n",
       "std                                    5.311784   \n",
       "min                                    0.528083   \n",
       "25%                                    8.972315   \n",
       "50%                                   11.027747   \n",
       "75%                                   14.018777   \n",
       "max                                   27.926001   \n",
       "\n",
       "       secondary_cleaner.state.floatbank5_b_level  \\\n",
       "count                                18722.000000   \n",
       "mean                                  -486.876828   \n",
       "std                                     37.969435   \n",
       "min                                   -800.220337   \n",
       "25%                                   -500.129227   \n",
       "50%                                   -499.935062   \n",
       "75%                                   -499.422200   \n",
       "max                                   -137.740004   \n",
       "\n",
       "       secondary_cleaner.state.floatbank6_a_air  \\\n",
       "count                              18722.000000   \n",
       "mean                                  19.034566   \n",
       "std                                    5.512595   \n",
       "min                                   -0.079426   \n",
       "25%                                   14.986074   \n",
       "50%                                   19.968534   \n",
       "75%                                   24.768974   \n",
       "max                                   32.188906   \n",
       "\n",
       "       secondary_cleaner.state.floatbank6_a_level  \n",
       "count                                18722.000000  \n",
       "mean                                  -505.242153  \n",
       "std                                     37.405325  \n",
       "min                                   -809.741464  \n",
       "25%                                   -500.720512  \n",
       "50%                                   -500.047188  \n",
       "75%                                   -499.491833  \n",
       "max                                   -104.427459  "
      ]
     },
     "execution_count": 51,
     "metadata": {},
     "output_type": "execute_result"
    }
   ],
   "source": [
    "features_train_r.describe()"
   ]
  },
  {
   "cell_type": "markdown",
   "metadata": {},
   "source": [
    "Создадим функцию расчета smape"
   ]
  },
  {
   "cell_type": "code",
   "execution_count": 52,
   "metadata": {},
   "outputs": [],
   "source": [
    "def smape(predict, target):\n",
    "  a = 1/len(target)*np.sum((abs(target - predict))/((abs(target + predict)/2)))*100\n",
    "  return a"
   ]
  },
  {
   "cell_type": "markdown",
   "metadata": {},
   "source": [
    "Теперь функцию итогового smape"
   ]
  },
  {
   "cell_type": "code",
   "execution_count": 53,
   "metadata": {},
   "outputs": [],
   "source": [
    "def fin_smape(r, f):\n",
    "  return 0.25*r + 0.75*f"
   ]
  },
  {
   "cell_type": "code",
   "execution_count": 54,
   "metadata": {},
   "outputs": [],
   "source": [
    "smape_score = make_scorer(smape, greater_is_better=False)"
   ]
  },
  {
   "cell_type": "markdown",
   "metadata": {},
   "source": [
    "Создадим и посмотрим на константную модель"
   ]
  },
  {
   "cell_type": "code",
   "execution_count": 55,
   "metadata": {},
   "outputs": [],
   "source": [
    "r = smape(target_test_r.mean(), target_test_r)"
   ]
  },
  {
   "cell_type": "code",
   "execution_count": 56,
   "metadata": {},
   "outputs": [],
   "source": [
    "f = smape(target_test_f.mean(), target_test_f)"
   ]
  },
  {
   "cell_type": "code",
   "execution_count": 57,
   "metadata": {},
   "outputs": [
    {
     "data": {
      "text/plain": [
       "8.324184755761488"
      ]
     },
     "execution_count": 57,
     "metadata": {},
     "output_type": "execute_result"
    }
   ],
   "source": [
    "fin_smape(r, f)"
   ]
  },
  {
   "cell_type": "markdown",
   "metadata": {},
   "source": [
    "Итоговое значение smape, при расставлении средних значений - 8,32"
   ]
  },
  {
   "cell_type": "markdown",
   "metadata": {},
   "source": [
    "**Линейная регрессия**"
   ]
  },
  {
   "cell_type": "code",
   "execution_count": 58,
   "metadata": {},
   "outputs": [],
   "source": [
    "param_lr_grid = {'fit_intercept':[True, False], 'copy_X':[True, False]}\n",
    "model_LR_r = GridSearchCV(LinearRegression(), param_grid = param_lr_grid, n_jobs=-1, cv = 5, scoring = smape_score)\n",
    "model_LR_r.fit(features_train_r, target_train_r)\n",
    "lr_pred_r = model_LR_r.predict(features_test_r)"
   ]
  },
  {
   "cell_type": "code",
   "execution_count": 59,
   "metadata": {},
   "outputs": [],
   "source": [
    "model_LR_f = GridSearchCV(LinearRegression(), param_grid = param_lr_grid, n_jobs=-1, cv = 5, scoring = smape_score)\n",
    "model_LR_f.fit(features_train_f, target_train_f)\n",
    "lr_pred_f = model_LR_f.predict(features_test_f)"
   ]
  },
  {
   "cell_type": "code",
   "execution_count": 60,
   "metadata": {},
   "outputs": [
    {
     "name": "stdout",
     "output_type": "stream",
     "text": [
      "4.21252199056538\n",
      "7.639597659987469\n"
     ]
    }
   ],
   "source": [
    "lr_r = smape(lr_pred_r, target_test_r)\n",
    "print(lr_r)\n",
    "lr_f = smape(lr_pred_f, target_test_f)\n",
    "print(lr_f)"
   ]
  },
  {
   "cell_type": "code",
   "execution_count": 61,
   "metadata": {},
   "outputs": [
    {
     "data": {
      "text/plain": [
       "6.782828742631947"
      ]
     },
     "execution_count": 61,
     "metadata": {},
     "output_type": "execute_result"
    }
   ],
   "source": [
    "fin_smape(lr_r, lr_f)"
   ]
  },
  {
   "cell_type": "markdown",
   "metadata": {},
   "source": [
    "Неплохой результат для линейной регрессии. Лучше чем константная модель."
   ]
  },
  {
   "cell_type": "markdown",
   "metadata": {},
   "source": [
    "**Дерево решений**"
   ]
  },
  {
   "cell_type": "code",
   "execution_count": 62,
   "metadata": {},
   "outputs": [],
   "source": [
    "params_dtr_grid = {\n",
    "    'max_depth' : range(1,11)\n",
    "}\n",
    "model_tree_r = GridSearchCV(DecisionTreeRegressor(random_state=12345), param_grid = params_dtr_grid, cv=5, n_jobs=-1, scoring=smape_score) \n",
    "model_tree_r.fit(features_train_r, target_train_r)\n",
    "tree_pred_r = model_tree_r.predict(features_test_r)"
   ]
  },
  {
   "cell_type": "code",
   "execution_count": 63,
   "metadata": {},
   "outputs": [],
   "source": [
    "model_tree_f = GridSearchCV(DecisionTreeRegressor(random_state=12345), param_grid = params_dtr_grid, cv=5, n_jobs=-1, scoring=smape_score) \n",
    "model_tree_f.fit(features_train_f, target_train_f)\n",
    "tree_pred_f = model_tree_f.predict(features_test_f)"
   ]
  },
  {
   "cell_type": "code",
   "execution_count": 64,
   "metadata": {},
   "outputs": [
    {
     "name": "stdout",
     "output_type": "stream",
     "text": [
      "3.531228098840069\n",
      "7.283750800705156\n"
     ]
    }
   ],
   "source": [
    "tree_r = smape(tree_pred_r, target_test_r)\n",
    "print(tree_r)\n",
    "tree_f = smape(tree_pred_f, target_test_f)\n",
    "print(tree_f)"
   ]
  },
  {
   "cell_type": "code",
   "execution_count": 65,
   "metadata": {},
   "outputs": [
    {
     "data": {
      "text/plain": [
       "6.345620125238884"
      ]
     },
     "execution_count": 65,
     "metadata": {},
     "output_type": "execute_result"
    }
   ],
   "source": [
    "fin_smape(tree_r, tree_f)"
   ]
  },
  {
   "cell_type": "markdown",
   "metadata": {},
   "source": [
    "Результат у дерева решений чуть хуже чем у линейной регрессии."
   ]
  },
  {
   "cell_type": "markdown",
   "metadata": {},
   "source": [
    "**Catboost**"
   ]
  },
  {
   "cell_type": "code",
   "execution_count": 66,
   "metadata": {},
   "outputs": [],
   "source": [
    "params_catboost = {\n",
    "    'iterations': [100, 300],\n",
    "    'learning_rate': [0.01, 0.1, 0.5],\n",
    "    'depth': [4, 6, 8],\n",
    "    'verbose': [0]\n",
    "}\n",
    "model_catboost_r = GridSearchCV(\n",
    "    CatBoostRegressor(random_seed=12345),\n",
    "    param_grid=params_catboost,\n",
    "    cv=5,\n",
    "    scoring=smape_score,\n",
    "    n_jobs=-1,\n",
    ")\n",
    "model_catboost_r.fit(features_train_r, target_train_r)\n",
    "catboost_pred_r = model_catboost_r.predict(features_test_r)"
   ]
  },
  {
   "cell_type": "code",
   "execution_count": 67,
   "metadata": {},
   "outputs": [
    {
     "name": "stdout",
     "output_type": "stream",
     "text": [
      "Fitting 5 folds for each of 18 candidates, totalling 90 fits\n"
     ]
    }
   ],
   "source": [
    "model_catboost_f = GridSearchCV(\n",
    "    CatBoostRegressor(random_seed=12345),\n",
    "    param_grid=params_catboost,\n",
    "    cv=5,\n",
    "    scoring=smape_score,\n",
    "    n_jobs=-1,\n",
    ")\n",
    "model_catboost_f.fit(features_train_f, target_train_f)\n",
    "catboost_pred_f = model_catboost_f.predict(features_test_f)"
   ]
  },
  {
   "cell_type": "code",
   "execution_count": 68,
   "metadata": {},
   "outputs": [
    {
     "name": "stdout",
     "output_type": "stream",
     "text": [
      "1.9254887158944993\n",
      "4.3669597326130845\n"
     ]
    }
   ],
   "source": [
    "catboost_r = smape(catboost_pred_r, target_test_r)\n",
    "print(catboost_r)\n",
    "catboost_f = smape(catboost_pred_f, target_test_f)\n",
    "print(catboost_f)"
   ]
  },
  {
   "cell_type": "code",
   "execution_count": 69,
   "metadata": {},
   "outputs": [
    {
     "data": {
      "text/plain": [
       "3.756591978433438"
      ]
     },
     "execution_count": 69,
     "metadata": {},
     "output_type": "execute_result"
    }
   ],
   "source": [
    "fin_smape(catboost_r, catboost_f)"
   ]
  },
  {
   "cell_type": "markdown",
   "metadata": {},
   "source": [
    "Модель достаточно хорошо предсказывает качество финального продукта."
   ]
  },
  {
   "cell_type": "markdown",
   "metadata": {},
   "source": [
    "**Вывод:**\n",
    "\n",
    "Для решения задачи предсказания качества продукта (золото из золотосодержащего сырья) были выполнены этапы предобработки данных, анализ данных и построение моделей и выбора лучшей.\\\n",
    "На этапе предобработки были осмотрены данные датасетов, определены и заполнены пропуски. При анализе данных было установлено, что концентрация золота расчет с каждым этапом очистки, чего нельзя сказать о концентрации других металлов: концентрация серебра на финальном этапе меньше концентрации в сырье. Концентрация свинца растет так же как и золота.\\\n",
    "Размеры гранул в тренировочной и тестовой выборке одинаковые, а значит данные пригодны для построения моделей.\\\n",
    "Данные были разбиты на необходимые датасеты и были построены три модели: линейная регрессия, дерево решений и градиентный бустинг. Лучшей моделью оказался градиентный бустинг. Значение smape для него было 3,76, в сравнение с 6,34 у решающего дерева и 6,78 у линейной регрессии. Модель catboost эффективно предсказывает качество продукта."
   ]
  }
 ],
 "metadata": {
  "ExecuteTimeLog": [
   {
    "duration": 1555,
    "start_time": "2023-06-12T18:31:35.548Z"
   },
   {
    "duration": 2467,
    "start_time": "2023-06-12T18:31:37.105Z"
   },
   {
    "duration": 23,
    "start_time": "2023-06-12T18:31:39.574Z"
   },
   {
    "duration": 3,
    "start_time": "2023-06-12T18:32:47.644Z"
   },
   {
    "duration": 127,
    "start_time": "2023-06-12T18:32:48.111Z"
   },
   {
    "duration": 68,
    "start_time": "2023-06-12T18:33:37.169Z"
   },
   {
    "duration": 2390,
    "start_time": "2023-06-12T18:34:23.539Z"
   },
   {
    "duration": 3,
    "start_time": "2023-06-12T18:34:27.477Z"
   },
   {
    "duration": 272,
    "start_time": "2023-06-12T18:34:28.015Z"
   },
   {
    "duration": 6,
    "start_time": "2023-06-12T18:34:30.619Z"
   },
   {
    "duration": 17,
    "start_time": "2023-06-12T18:35:29.796Z"
   },
   {
    "duration": 13,
    "start_time": "2023-06-12T18:35:30.779Z"
   },
   {
    "duration": 13,
    "start_time": "2023-06-12T18:35:31.598Z"
   },
   {
    "duration": 7,
    "start_time": "2023-06-12T18:35:32.283Z"
   },
   {
    "duration": 11,
    "start_time": "2023-06-12T18:35:33.043Z"
   },
   {
    "duration": 4,
    "start_time": "2023-06-12T18:35:35.178Z"
   },
   {
    "duration": 12,
    "start_time": "2023-06-12T18:38:40.877Z"
   },
   {
    "duration": 7,
    "start_time": "2023-06-12T18:38:55.350Z"
   },
   {
    "duration": 7,
    "start_time": "2023-06-12T18:39:27.072Z"
   },
   {
    "duration": 5,
    "start_time": "2023-06-12T18:40:13.934Z"
   },
   {
    "duration": 10,
    "start_time": "2023-06-12T18:40:47.188Z"
   },
   {
    "duration": 5,
    "start_time": "2023-06-12T18:40:58.077Z"
   },
   {
    "duration": 9,
    "start_time": "2023-06-12T18:41:21.622Z"
   },
   {
    "duration": 99,
    "start_time": "2023-06-12T18:45:35.898Z"
   },
   {
    "duration": 16306,
    "start_time": "2023-06-12T18:46:25.394Z"
   },
   {
    "duration": 3,
    "start_time": "2023-06-12T18:46:41.702Z"
   },
   {
    "duration": 48,
    "start_time": "2023-06-12T18:46:41.707Z"
   },
   {
    "duration": 18,
    "start_time": "2023-06-12T18:46:43.805Z"
   },
   {
    "duration": 3,
    "start_time": "2023-06-12T18:46:44.428Z"
   },
   {
    "duration": 3,
    "start_time": "2023-06-12T18:46:45.822Z"
   },
   {
    "duration": 8,
    "start_time": "2023-06-12T18:46:46.227Z"
   },
   {
    "duration": 5,
    "start_time": "2023-06-12T18:46:48.407Z"
   },
   {
    "duration": 2,
    "start_time": "2023-06-12T18:46:49.601Z"
   },
   {
    "duration": 7,
    "start_time": "2023-06-12T18:46:50.264Z"
   },
   {
    "duration": 22,
    "start_time": "2023-06-12T18:46:51.392Z"
   },
   {
    "duration": 4,
    "start_time": "2023-06-12T18:50:41.371Z"
   },
   {
    "duration": 1226,
    "start_time": "2023-06-12T18:50:42.026Z"
   },
   {
    "duration": 961,
    "start_time": "2023-06-12T18:50:43.254Z"
   },
   {
    "duration": 800,
    "start_time": "2023-06-12T18:50:44.224Z"
   },
   {
    "duration": 5,
    "start_time": "2023-06-12T18:52:35.853Z"
   },
   {
    "duration": 1547,
    "start_time": "2023-06-12T18:52:36.441Z"
   },
   {
    "duration": 881,
    "start_time": "2023-06-12T18:52:41.722Z"
   },
   {
    "duration": 1050,
    "start_time": "2023-06-12T18:52:45.091Z"
   },
   {
    "duration": 648,
    "start_time": "2023-06-12T18:54:50.854Z"
   },
   {
    "duration": 6,
    "start_time": "2023-06-12T18:55:17.152Z"
   },
   {
    "duration": 5,
    "start_time": "2023-06-12T18:55:17.738Z"
   },
   {
    "duration": 1533,
    "start_time": "2023-06-12T18:56:59.533Z"
   },
   {
    "duration": 6,
    "start_time": "2023-06-12T19:02:07.437Z"
   },
   {
    "duration": 5,
    "start_time": "2023-06-12T19:02:07.969Z"
   },
   {
    "duration": 7,
    "start_time": "2023-06-12T19:02:08.504Z"
   },
   {
    "duration": 15,
    "start_time": "2023-06-12T19:02:29.947Z"
   },
   {
    "duration": 9,
    "start_time": "2023-06-12T19:02:43.281Z"
   },
   {
    "duration": 5,
    "start_time": "2023-06-12T19:02:52.904Z"
   },
   {
    "duration": 4,
    "start_time": "2023-06-12T19:03:39.205Z"
   },
   {
    "duration": 3,
    "start_time": "2023-06-12T19:04:19.229Z"
   },
   {
    "duration": 3,
    "start_time": "2023-06-12T19:04:27.061Z"
   },
   {
    "duration": 5,
    "start_time": "2023-06-12T19:05:04.232Z"
   },
   {
    "duration": 4,
    "start_time": "2023-06-12T19:05:04.589Z"
   },
   {
    "duration": 4,
    "start_time": "2023-06-12T19:05:04.973Z"
   },
   {
    "duration": 8018,
    "start_time": "2023-06-12T19:06:26.006Z"
   },
   {
    "duration": 8606,
    "start_time": "2023-06-12T19:06:34.027Z"
   },
   {
    "duration": 8,
    "start_time": "2023-06-12T19:06:42.725Z"
   },
   {
    "duration": 3,
    "start_time": "2023-06-12T19:06:46.772Z"
   },
   {
    "duration": 24310,
    "start_time": "2023-06-12T19:07:55.747Z"
   },
   {
    "duration": 23533,
    "start_time": "2023-06-12T19:08:20.059Z"
   },
   {
    "duration": 8,
    "start_time": "2023-06-12T19:08:43.594Z"
   },
   {
    "duration": 21,
    "start_time": "2023-06-12T19:08:43.604Z"
   },
   {
    "duration": 3,
    "start_time": "2023-06-12T19:10:21.097Z"
   },
   {
    "duration": 1315975,
    "start_time": "2023-06-12T19:10:24.535Z"
   },
   {
    "duration": 1251181,
    "start_time": "2023-06-12T19:33:54.097Z"
   },
   {
    "duration": 6,
    "start_time": "2023-06-12T19:55:15.189Z"
   },
   {
    "duration": 6,
    "start_time": "2023-06-12T19:55:25.989Z"
   },
   {
    "duration": 5,
    "start_time": "2023-06-12T19:55:28.621Z"
   },
   {
    "duration": 680,
    "start_time": "2023-06-13T10:56:38.671Z"
   },
   {
    "duration": 315,
    "start_time": "2023-06-13T10:56:55.045Z"
   },
   {
    "duration": 7,
    "start_time": "2023-06-13T10:57:01.054Z"
   },
   {
    "duration": 6,
    "start_time": "2023-06-13T10:57:17.749Z"
   },
   {
    "duration": 6,
    "start_time": "2023-06-13T10:57:23.363Z"
   },
   {
    "duration": 7,
    "start_time": "2023-06-13T10:57:26.983Z"
   },
   {
    "duration": 18,
    "start_time": "2023-06-13T10:57:37.450Z"
   },
   {
    "duration": 1843,
    "start_time": "2023-06-13T14:54:48.305Z"
   },
   {
    "duration": 2867,
    "start_time": "2023-06-13T14:54:50.150Z"
   },
   {
    "duration": 22,
    "start_time": "2023-06-13T14:54:53.020Z"
   },
   {
    "duration": 13,
    "start_time": "2023-06-13T14:54:53.044Z"
   },
   {
    "duration": 1402,
    "start_time": "2023-06-13T14:54:53.059Z"
   },
   {
    "duration": 3,
    "start_time": "2023-06-13T14:54:54.463Z"
   },
   {
    "duration": 333,
    "start_time": "2023-06-13T14:54:54.468Z"
   },
   {
    "duration": 6,
    "start_time": "2023-06-13T14:54:54.803Z"
   },
   {
    "duration": 35,
    "start_time": "2023-06-13T14:54:54.812Z"
   },
   {
    "duration": 10,
    "start_time": "2023-06-13T14:54:54.848Z"
   },
   {
    "duration": 45,
    "start_time": "2023-06-13T14:54:54.860Z"
   },
   {
    "duration": 10,
    "start_time": "2023-06-13T14:54:54.907Z"
   },
   {
    "duration": 7,
    "start_time": "2023-06-13T14:54:54.919Z"
   },
   {
    "duration": 16,
    "start_time": "2023-06-13T14:54:54.927Z"
   },
   {
    "duration": 21,
    "start_time": "2023-06-13T14:54:54.944Z"
   },
   {
    "duration": 9,
    "start_time": "2023-06-13T14:54:55.801Z"
   },
   {
    "duration": 5,
    "start_time": "2023-06-13T14:54:57.743Z"
   },
   {
    "duration": 26301,
    "start_time": "2023-06-13T14:54:59.055Z"
   },
   {
    "duration": 3,
    "start_time": "2023-06-13T14:55:25.358Z"
   },
   {
    "duration": 24,
    "start_time": "2023-06-13T14:55:25.363Z"
   },
   {
    "duration": 18,
    "start_time": "2023-06-13T14:55:25.388Z"
   },
   {
    "duration": 10,
    "start_time": "2023-06-13T14:55:25.407Z"
   },
   {
    "duration": 6,
    "start_time": "2023-06-13T14:55:25.418Z"
   },
   {
    "duration": 4,
    "start_time": "2023-06-13T14:55:38.398Z"
   },
   {
    "duration": 9,
    "start_time": "2023-06-13T14:55:40.339Z"
   },
   {
    "duration": 131,
    "start_time": "2023-06-13T14:55:41.164Z"
   },
   {
    "duration": 6,
    "start_time": "2023-06-13T14:57:08.298Z"
   },
   {
    "duration": 10,
    "start_time": "2023-06-13T14:57:38.889Z"
   },
   {
    "duration": 9,
    "start_time": "2023-06-13T14:57:45.571Z"
   },
   {
    "duration": 31,
    "start_time": "2023-06-13T14:58:20.491Z"
   },
   {
    "duration": 11,
    "start_time": "2023-06-13T15:01:52.962Z"
   },
   {
    "duration": 24,
    "start_time": "2023-06-13T15:01:53.167Z"
   },
   {
    "duration": 9,
    "start_time": "2023-06-13T15:01:53.403Z"
   },
   {
    "duration": 10,
    "start_time": "2023-06-13T15:04:19.194Z"
   },
   {
    "duration": 3,
    "start_time": "2023-06-13T15:06:31.529Z"
   },
   {
    "duration": 2,
    "start_time": "2023-06-13T15:06:32.029Z"
   },
   {
    "duration": 5,
    "start_time": "2023-06-13T15:06:32.868Z"
   },
   {
    "duration": 12,
    "start_time": "2023-06-13T15:06:33.301Z"
   },
   {
    "duration": 3,
    "start_time": "2023-06-13T15:06:42.046Z"
   },
   {
    "duration": 10,
    "start_time": "2023-06-13T15:06:43.054Z"
   },
   {
    "duration": 7,
    "start_time": "2023-06-13T15:06:48.401Z"
   },
   {
    "duration": 3,
    "start_time": "2023-06-13T15:06:48.830Z"
   },
   {
    "duration": 12,
    "start_time": "2023-06-13T15:06:50.426Z"
   },
   {
    "duration": 8,
    "start_time": "2023-06-13T15:06:50.745Z"
   },
   {
    "duration": 4,
    "start_time": "2023-06-13T15:07:21.303Z"
   },
   {
    "duration": 11,
    "start_time": "2023-06-13T15:07:21.643Z"
   },
   {
    "duration": 10,
    "start_time": "2023-06-13T15:07:23.235Z"
   },
   {
    "duration": 11,
    "start_time": "2023-06-13T15:07:46.648Z"
   },
   {
    "duration": 1733,
    "start_time": "2023-06-13T15:08:16.156Z"
   },
   {
    "duration": 2513,
    "start_time": "2023-06-13T15:08:17.892Z"
   },
   {
    "duration": 26,
    "start_time": "2023-06-13T15:08:20.407Z"
   },
   {
    "duration": 4,
    "start_time": "2023-06-13T15:08:20.436Z"
   },
   {
    "duration": 1028,
    "start_time": "2023-06-13T15:08:20.441Z"
   },
   {
    "duration": 10,
    "start_time": "2023-06-13T15:08:21.480Z"
   },
   {
    "duration": 396,
    "start_time": "2023-06-13T15:08:21.497Z"
   },
   {
    "duration": 12,
    "start_time": "2023-06-13T15:08:21.895Z"
   },
   {
    "duration": 45,
    "start_time": "2023-06-13T15:08:21.909Z"
   },
   {
    "duration": 53,
    "start_time": "2023-06-13T15:08:21.957Z"
   },
   {
    "duration": 49,
    "start_time": "2023-06-13T15:08:22.013Z"
   },
   {
    "duration": 22,
    "start_time": "2023-06-13T15:08:22.065Z"
   },
   {
    "duration": 19,
    "start_time": "2023-06-13T15:08:22.094Z"
   },
   {
    "duration": 12,
    "start_time": "2023-06-13T15:08:22.115Z"
   },
   {
    "duration": 20,
    "start_time": "2023-06-13T15:08:22.129Z"
   },
   {
    "duration": 11,
    "start_time": "2023-06-13T15:08:22.150Z"
   },
   {
    "duration": 8,
    "start_time": "2023-06-13T15:08:23.395Z"
   },
   {
    "duration": 32331,
    "start_time": "2023-06-13T15:08:25.353Z"
   },
   {
    "duration": 4,
    "start_time": "2023-06-13T15:08:57.685Z"
   },
   {
    "duration": 19,
    "start_time": "2023-06-13T15:08:57.696Z"
   },
   {
    "duration": 17,
    "start_time": "2023-06-13T15:08:57.717Z"
   },
   {
    "duration": 15,
    "start_time": "2023-06-13T15:09:04.665Z"
   },
   {
    "duration": 7,
    "start_time": "2023-06-13T15:09:05.589Z"
   },
   {
    "duration": 3,
    "start_time": "2023-06-13T15:09:07.527Z"
   },
   {
    "duration": 118,
    "start_time": "2023-06-13T15:09:08.001Z"
   },
   {
    "duration": 3,
    "start_time": "2023-06-13T15:09:26.214Z"
   },
   {
    "duration": 11,
    "start_time": "2023-06-13T15:09:30.328Z"
   },
   {
    "duration": 17,
    "start_time": "2023-06-13T15:09:46.196Z"
   },
   {
    "duration": 11,
    "start_time": "2023-06-13T15:09:49.323Z"
   },
   {
    "duration": 9,
    "start_time": "2023-06-13T15:09:57.408Z"
   },
   {
    "duration": 3,
    "start_time": "2023-06-13T15:10:13.744Z"
   },
   {
    "duration": 9,
    "start_time": "2023-06-13T15:10:14.712Z"
   },
   {
    "duration": 13,
    "start_time": "2023-06-13T15:10:31.661Z"
   },
   {
    "duration": 4,
    "start_time": "2023-06-13T15:10:46.029Z"
   },
   {
    "duration": 2,
    "start_time": "2023-06-13T15:10:47.051Z"
   },
   {
    "duration": 12,
    "start_time": "2023-06-13T15:10:47.397Z"
   },
   {
    "duration": 3,
    "start_time": "2023-06-13T15:11:03.407Z"
   },
   {
    "duration": 4,
    "start_time": "2023-06-13T15:11:03.640Z"
   },
   {
    "duration": 13,
    "start_time": "2023-06-13T15:11:03.991Z"
   },
   {
    "duration": 8,
    "start_time": "2023-06-13T15:11:04.530Z"
   },
   {
    "duration": 9,
    "start_time": "2023-06-13T15:11:05.134Z"
   },
   {
    "duration": 9,
    "start_time": "2023-06-13T15:11:06.652Z"
   },
   {
    "duration": 30,
    "start_time": "2023-06-13T15:11:07.060Z"
   },
   {
    "duration": 8,
    "start_time": "2023-06-13T15:11:29.604Z"
   },
   {
    "duration": 3,
    "start_time": "2023-06-13T15:14:03.815Z"
   },
   {
    "duration": 4,
    "start_time": "2023-06-13T15:14:04.343Z"
   },
   {
    "duration": 11,
    "start_time": "2023-06-13T15:14:12.615Z"
   },
   {
    "duration": 3,
    "start_time": "2023-06-13T15:15:13.801Z"
   },
   {
    "duration": 16,
    "start_time": "2023-06-13T15:15:13.806Z"
   },
   {
    "duration": 4,
    "start_time": "2023-06-13T15:15:39.458Z"
   },
   {
    "duration": 12,
    "start_time": "2023-06-13T15:15:39.634Z"
   },
   {
    "duration": 11,
    "start_time": "2023-06-13T15:17:17.906Z"
   },
   {
    "duration": 3,
    "start_time": "2023-06-13T15:18:05.018Z"
   },
   {
    "duration": 4,
    "start_time": "2023-06-13T15:18:05.161Z"
   },
   {
    "duration": 7,
    "start_time": "2023-06-13T15:21:23.467Z"
   },
   {
    "duration": 5,
    "start_time": "2023-06-13T15:21:29.737Z"
   },
   {
    "duration": 4,
    "start_time": "2023-06-13T15:21:34.691Z"
   },
   {
    "duration": 5,
    "start_time": "2023-06-13T15:21:34.940Z"
   },
   {
    "duration": 10,
    "start_time": "2023-06-13T15:21:35.335Z"
   },
   {
    "duration": 10,
    "start_time": "2023-06-13T15:21:37.393Z"
   },
   {
    "duration": 67,
    "start_time": "2023-06-13T16:23:31.996Z"
   },
   {
    "duration": 6,
    "start_time": "2023-06-13T16:27:44.287Z"
   },
   {
    "duration": 4,
    "start_time": "2023-06-13T16:28:57.229Z"
   },
   {
    "duration": 11,
    "start_time": "2023-06-13T16:29:06.107Z"
   },
   {
    "duration": 11,
    "start_time": "2023-06-13T16:29:15.783Z"
   },
   {
    "duration": 3,
    "start_time": "2023-06-13T16:33:21.611Z"
   },
   {
    "duration": 2,
    "start_time": "2023-06-13T16:33:35.120Z"
   },
   {
    "duration": 6,
    "start_time": "2023-06-13T16:33:40.423Z"
   },
   {
    "duration": 8,
    "start_time": "2023-06-13T16:33:53.185Z"
   },
   {
    "duration": 4,
    "start_time": "2023-06-13T16:34:01.860Z"
   },
   {
    "duration": 3,
    "start_time": "2023-06-13T16:34:05.804Z"
   },
   {
    "duration": 3,
    "start_time": "2023-06-13T16:34:06.424Z"
   },
   {
    "duration": 13,
    "start_time": "2023-06-13T16:34:09.982Z"
   },
   {
    "duration": 7,
    "start_time": "2023-06-13T16:34:11.895Z"
   },
   {
    "duration": 10,
    "start_time": "2023-06-13T16:34:26.182Z"
   },
   {
    "duration": 4,
    "start_time": "2023-06-13T16:35:56.523Z"
   },
   {
    "duration": 12,
    "start_time": "2023-06-13T16:36:08.397Z"
   },
   {
    "duration": 2,
    "start_time": "2023-06-13T16:36:15.651Z"
   },
   {
    "duration": 10,
    "start_time": "2023-06-13T16:36:35.428Z"
   },
   {
    "duration": 7,
    "start_time": "2023-06-13T16:36:40.493Z"
   },
   {
    "duration": 4,
    "start_time": "2023-06-13T16:36:42.523Z"
   },
   {
    "duration": 4,
    "start_time": "2023-06-13T16:36:47.400Z"
   },
   {
    "duration": 5,
    "start_time": "2023-06-13T16:36:54.734Z"
   },
   {
    "duration": 3,
    "start_time": "2023-06-13T16:37:37.099Z"
   },
   {
    "duration": 2,
    "start_time": "2023-06-13T16:37:38.128Z"
   },
   {
    "duration": 5,
    "start_time": "2023-06-13T16:37:41.306Z"
   },
   {
    "duration": 5,
    "start_time": "2023-06-13T16:38:02.298Z"
   },
   {
    "duration": 2,
    "start_time": "2023-06-13T16:38:11.699Z"
   },
   {
    "duration": 3,
    "start_time": "2023-06-13T16:38:12.557Z"
   },
   {
    "duration": 71,
    "start_time": "2023-06-13T16:39:06.941Z"
   },
   {
    "duration": 6,
    "start_time": "2023-06-13T16:39:25.311Z"
   },
   {
    "duration": 44,
    "start_time": "2023-06-13T16:39:29.451Z"
   },
   {
    "duration": 9,
    "start_time": "2023-06-13T16:39:51.557Z"
   },
   {
    "duration": 6,
    "start_time": "2023-06-13T16:39:55.388Z"
   },
   {
    "duration": 4,
    "start_time": "2023-06-13T16:42:33.793Z"
   },
   {
    "duration": 1302,
    "start_time": "2023-06-13T16:42:36.840Z"
   },
   {
    "duration": 4,
    "start_time": "2023-06-13T16:42:38.698Z"
   },
   {
    "duration": 21,
    "start_time": "2023-06-13T16:43:07.397Z"
   },
   {
    "duration": 4,
    "start_time": "2023-06-13T16:43:09.454Z"
   },
   {
    "duration": 1428,
    "start_time": "2023-06-13T16:43:53.222Z"
   },
   {
    "duration": 382,
    "start_time": "2023-06-13T16:43:59.923Z"
   },
   {
    "duration": 8,
    "start_time": "2023-06-13T16:44:11.244Z"
   },
   {
    "duration": 13,
    "start_time": "2023-06-13T16:47:58.111Z"
   },
   {
    "duration": 14,
    "start_time": "2023-06-13T16:48:42.004Z"
   },
   {
    "duration": 5,
    "start_time": "2023-06-13T16:48:44.817Z"
   },
   {
    "duration": 44,
    "start_time": "2023-06-13T16:48:53.195Z"
   },
   {
    "duration": 7,
    "start_time": "2023-06-13T16:49:16.302Z"
   },
   {
    "duration": 3628,
    "start_time": "2023-06-13T16:51:17.189Z"
   },
   {
    "duration": 517,
    "start_time": "2023-06-13T16:51:48.107Z"
   },
   {
    "duration": 12,
    "start_time": "2023-06-13T16:52:19.280Z"
   },
   {
    "duration": 17,
    "start_time": "2023-06-13T17:01:09.109Z"
   },
   {
    "duration": 14,
    "start_time": "2023-06-13T17:01:36.698Z"
   },
   {
    "duration": 2046,
    "start_time": "2023-06-13T17:02:01.389Z"
   },
   {
    "duration": 2438,
    "start_time": "2023-06-13T17:02:03.438Z"
   },
   {
    "duration": 58,
    "start_time": "2023-06-13T17:02:05.878Z"
   },
   {
    "duration": 11,
    "start_time": "2023-06-13T17:02:05.938Z"
   },
   {
    "duration": 1237,
    "start_time": "2023-06-13T17:02:05.952Z"
   },
   {
    "duration": 7,
    "start_time": "2023-06-13T17:02:07.191Z"
   },
   {
    "duration": 334,
    "start_time": "2023-06-13T17:02:07.204Z"
   },
   {
    "duration": 9,
    "start_time": "2023-06-13T17:02:07.540Z"
   },
   {
    "duration": 52,
    "start_time": "2023-06-13T17:02:07.550Z"
   },
   {
    "duration": 19,
    "start_time": "2023-06-13T17:02:07.605Z"
   },
   {
    "duration": 9,
    "start_time": "2023-06-13T17:02:07.626Z"
   },
   {
    "duration": 8,
    "start_time": "2023-06-13T17:02:07.637Z"
   },
   {
    "duration": 14,
    "start_time": "2023-06-13T17:02:07.646Z"
   },
   {
    "duration": 45,
    "start_time": "2023-06-13T17:02:07.661Z"
   },
   {
    "duration": 41,
    "start_time": "2023-06-13T17:02:07.709Z"
   },
   {
    "duration": 26,
    "start_time": "2023-06-13T17:02:07.751Z"
   },
   {
    "duration": 31,
    "start_time": "2023-06-13T17:02:07.788Z"
   },
   {
    "duration": 41928,
    "start_time": "2023-06-13T17:02:07.820Z"
   },
   {
    "duration": 4,
    "start_time": "2023-06-13T17:02:49.751Z"
   },
   {
    "duration": 18,
    "start_time": "2023-06-13T17:02:49.758Z"
   },
   {
    "duration": 36,
    "start_time": "2023-06-13T17:02:49.786Z"
   },
   {
    "duration": 8,
    "start_time": "2023-06-13T17:02:49.825Z"
   },
   {
    "duration": 20,
    "start_time": "2023-06-13T17:02:49.835Z"
   },
   {
    "duration": 6,
    "start_time": "2023-06-13T17:02:49.858Z"
   },
   {
    "duration": 50,
    "start_time": "2023-06-13T17:02:49.866Z"
   },
   {
    "duration": 3473,
    "start_time": "2023-06-13T17:02:49.918Z"
   },
   {
    "duration": 461,
    "start_time": "2023-06-13T17:02:53.392Z"
   },
   {
    "duration": 3,
    "start_time": "2023-06-13T17:02:53.854Z"
   },
   {
    "duration": 36,
    "start_time": "2023-06-13T17:03:01.904Z"
   },
   {
    "duration": 70,
    "start_time": "2023-06-13T17:04:18.957Z"
   },
   {
    "duration": 163,
    "start_time": "2023-06-13T17:07:19.300Z"
   },
   {
    "duration": 21,
    "start_time": "2023-06-13T17:07:54.603Z"
   },
   {
    "duration": 28,
    "start_time": "2023-06-13T17:08:13.254Z"
   },
   {
    "duration": 73,
    "start_time": "2023-06-13T17:08:17.757Z"
   },
   {
    "duration": 44,
    "start_time": "2023-06-13T17:08:40.500Z"
   },
   {
    "duration": 54,
    "start_time": "2023-06-13T17:08:43.197Z"
   },
   {
    "duration": 41,
    "start_time": "2023-06-13T17:09:23.992Z"
   },
   {
    "duration": 52,
    "start_time": "2023-06-13T17:09:26.290Z"
   },
   {
    "duration": 10343,
    "start_time": "2023-06-13T17:09:42.914Z"
   },
   {
    "duration": 6182,
    "start_time": "2023-06-13T17:09:53.261Z"
   },
   {
    "duration": 295,
    "start_time": "2023-06-13T17:09:59.446Z"
   },
   {
    "duration": 4,
    "start_time": "2023-06-13T17:09:59.744Z"
   },
   {
    "duration": 1869,
    "start_time": "2023-06-13T17:09:59.749Z"
   },
   {
    "duration": 5,
    "start_time": "2023-06-13T17:10:01.620Z"
   },
   {
    "duration": 486,
    "start_time": "2023-06-13T17:10:01.629Z"
   },
   {
    "duration": 21,
    "start_time": "2023-06-13T17:10:02.125Z"
   },
   {
    "duration": 86,
    "start_time": "2023-06-13T17:10:02.148Z"
   },
   {
    "duration": 25,
    "start_time": "2023-06-13T17:10:02.238Z"
   },
   {
    "duration": 47,
    "start_time": "2023-06-13T17:10:02.265Z"
   },
   {
    "duration": 43,
    "start_time": "2023-06-13T17:10:02.313Z"
   },
   {
    "duration": 92,
    "start_time": "2023-06-13T17:10:02.358Z"
   },
   {
    "duration": 27,
    "start_time": "2023-06-13T17:10:02.452Z"
   },
   {
    "duration": 49,
    "start_time": "2023-06-13T17:10:02.482Z"
   },
   {
    "duration": 33,
    "start_time": "2023-06-13T17:10:02.534Z"
   },
   {
    "duration": 70,
    "start_time": "2023-06-13T17:10:02.569Z"
   },
   {
    "duration": 36061,
    "start_time": "2023-06-13T17:10:02.641Z"
   },
   {
    "duration": 4,
    "start_time": "2023-06-13T17:10:38.704Z"
   },
   {
    "duration": 43,
    "start_time": "2023-06-13T17:10:38.709Z"
   },
   {
    "duration": 31,
    "start_time": "2023-06-13T17:10:38.755Z"
   },
   {
    "duration": 28,
    "start_time": "2023-06-13T17:10:38.794Z"
   },
   {
    "duration": 22,
    "start_time": "2023-06-13T17:10:38.824Z"
   },
   {
    "duration": 6,
    "start_time": "2023-06-13T17:10:38.848Z"
   },
   {
    "duration": 10,
    "start_time": "2023-06-13T17:10:38.855Z"
   },
   {
    "duration": 81,
    "start_time": "2023-06-13T17:10:48.120Z"
   },
   {
    "duration": 43,
    "start_time": "2023-06-13T17:10:54.603Z"
   },
   {
    "duration": 3320,
    "start_time": "2023-06-13T17:11:23.491Z"
   },
   {
    "duration": 37,
    "start_time": "2023-06-13T17:11:28.893Z"
   },
   {
    "duration": 607,
    "start_time": "2023-06-13T17:13:46.659Z"
   },
   {
    "duration": 4,
    "start_time": "2023-06-13T17:13:48.517Z"
   },
   {
    "duration": 51,
    "start_time": "2023-06-13T17:13:51.494Z"
   },
   {
    "duration": 49,
    "start_time": "2023-06-13T17:13:52.395Z"
   },
   {
    "duration": 135,
    "start_time": "2023-06-13T17:15:38.991Z"
   },
   {
    "duration": 1439,
    "start_time": "2023-06-13T17:21:18.192Z"
   },
   {
    "duration": 2659,
    "start_time": "2023-06-13T17:21:19.633Z"
   },
   {
    "duration": 22,
    "start_time": "2023-06-13T17:21:22.295Z"
   },
   {
    "duration": 3,
    "start_time": "2023-06-13T17:21:22.319Z"
   },
   {
    "duration": 822,
    "start_time": "2023-06-13T17:21:22.324Z"
   },
   {
    "duration": 3,
    "start_time": "2023-06-13T17:21:23.148Z"
   },
   {
    "duration": 323,
    "start_time": "2023-06-13T17:21:23.152Z"
   },
   {
    "duration": 18,
    "start_time": "2023-06-13T17:21:23.476Z"
   },
   {
    "duration": 46,
    "start_time": "2023-06-13T17:21:23.497Z"
   },
   {
    "duration": 17,
    "start_time": "2023-06-13T17:21:23.546Z"
   },
   {
    "duration": 26,
    "start_time": "2023-06-13T17:21:23.565Z"
   },
   {
    "duration": 26,
    "start_time": "2023-06-13T17:21:23.593Z"
   },
   {
    "duration": 10,
    "start_time": "2023-06-13T17:21:23.621Z"
   },
   {
    "duration": 5,
    "start_time": "2023-06-13T17:21:23.633Z"
   },
   {
    "duration": 14,
    "start_time": "2023-06-13T17:21:23.640Z"
   },
   {
    "duration": 8,
    "start_time": "2023-06-13T17:21:23.656Z"
   },
   {
    "duration": 6,
    "start_time": "2023-06-13T17:21:30.939Z"
   },
   {
    "duration": 30615,
    "start_time": "2023-06-13T17:21:35.437Z"
   },
   {
    "duration": 3,
    "start_time": "2023-06-13T17:22:06.054Z"
   },
   {
    "duration": 7,
    "start_time": "2023-06-13T17:22:12.196Z"
   },
   {
    "duration": 3,
    "start_time": "2023-06-13T17:22:13.111Z"
   },
   {
    "duration": 11,
    "start_time": "2023-06-13T17:22:13.519Z"
   },
   {
    "duration": 7,
    "start_time": "2023-06-13T17:22:14.553Z"
   },
   {
    "duration": 7,
    "start_time": "2023-06-13T17:22:23.200Z"
   },
   {
    "duration": 1328,
    "start_time": "2023-06-13T17:22:23.590Z"
   },
   {
    "duration": 1020,
    "start_time": "2023-06-13T17:22:24.921Z"
   },
   {
    "duration": 991,
    "start_time": "2023-06-13T17:22:25.943Z"
   },
   {
    "duration": 612,
    "start_time": "2023-06-13T17:22:31.917Z"
   },
   {
    "duration": 5,
    "start_time": "2023-06-13T17:22:35.196Z"
   },
   {
    "duration": 6,
    "start_time": "2023-06-13T17:22:35.590Z"
   },
   {
    "duration": 1711,
    "start_time": "2023-06-13T17:22:39.908Z"
   },
   {
    "duration": 3,
    "start_time": "2023-06-13T17:22:45.705Z"
   },
   {
    "duration": 7,
    "start_time": "2023-06-13T17:22:46.004Z"
   },
   {
    "duration": 4,
    "start_time": "2023-06-13T17:22:46.268Z"
   },
   {
    "duration": 20,
    "start_time": "2023-06-13T17:22:46.702Z"
   },
   {
    "duration": 6,
    "start_time": "2023-06-13T17:22:47.321Z"
   },
   {
    "duration": 6,
    "start_time": "2023-06-13T17:22:47.662Z"
   },
   {
    "duration": 3625,
    "start_time": "2023-06-13T17:22:49.192Z"
   },
   {
    "duration": 507,
    "start_time": "2023-06-13T17:22:52.819Z"
   },
   {
    "duration": 4,
    "start_time": "2023-06-13T17:22:53.328Z"
   },
   {
    "duration": 67,
    "start_time": "2023-06-13T17:22:53.334Z"
   },
   {
    "duration": 43,
    "start_time": "2023-06-13T17:22:53.403Z"
   },
   {
    "duration": 6,
    "start_time": "2023-06-13T17:23:07.816Z"
   },
   {
    "duration": 1878,
    "start_time": "2023-06-13T17:26:41.998Z"
   },
   {
    "duration": 2287,
    "start_time": "2023-06-13T17:26:43.880Z"
   },
   {
    "duration": 37,
    "start_time": "2023-06-13T17:26:46.170Z"
   },
   {
    "duration": 7,
    "start_time": "2023-06-13T17:26:46.210Z"
   },
   {
    "duration": 917,
    "start_time": "2023-06-13T17:26:46.218Z"
   },
   {
    "duration": 5,
    "start_time": "2023-06-13T17:26:47.137Z"
   },
   {
    "duration": 369,
    "start_time": "2023-06-13T17:26:47.144Z"
   },
   {
    "duration": 9,
    "start_time": "2023-06-13T17:26:47.515Z"
   },
   {
    "duration": 27,
    "start_time": "2023-06-13T17:26:47.526Z"
   },
   {
    "duration": 16,
    "start_time": "2023-06-13T17:26:47.571Z"
   },
   {
    "duration": 34,
    "start_time": "2023-06-13T17:26:47.589Z"
   },
   {
    "duration": 9,
    "start_time": "2023-06-13T17:26:47.624Z"
   },
   {
    "duration": 11,
    "start_time": "2023-06-13T17:26:47.635Z"
   },
   {
    "duration": 5,
    "start_time": "2023-06-13T17:26:47.647Z"
   },
   {
    "duration": 63,
    "start_time": "2023-06-13T17:26:47.654Z"
   },
   {
    "duration": 12,
    "start_time": "2023-06-13T17:26:47.719Z"
   },
   {
    "duration": 6,
    "start_time": "2023-06-13T17:26:47.734Z"
   },
   {
    "duration": 34219,
    "start_time": "2023-06-13T17:26:49.747Z"
   },
   {
    "duration": 10,
    "start_time": "2023-06-13T17:27:23.968Z"
   },
   {
    "duration": 8,
    "start_time": "2023-06-13T17:36:31.924Z"
   },
   {
    "duration": 5,
    "start_time": "2023-06-13T17:36:32.255Z"
   },
   {
    "duration": 11,
    "start_time": "2023-06-13T17:36:32.552Z"
   },
   {
    "duration": 8,
    "start_time": "2023-06-13T17:36:33.436Z"
   },
   {
    "duration": 5,
    "start_time": "2023-06-13T17:36:38.348Z"
   },
   {
    "duration": 1460,
    "start_time": "2023-06-13T17:36:38.670Z"
   },
   {
    "duration": 1116,
    "start_time": "2023-06-13T17:36:40.132Z"
   },
   {
    "duration": 988,
    "start_time": "2023-06-13T17:36:41.250Z"
   },
   {
    "duration": 653,
    "start_time": "2023-06-13T17:36:42.240Z"
   },
   {
    "duration": 6,
    "start_time": "2023-06-13T17:36:42.894Z"
   },
   {
    "duration": 6,
    "start_time": "2023-06-13T17:36:42.903Z"
   },
   {
    "duration": 1707,
    "start_time": "2023-06-13T17:36:45.553Z"
   },
   {
    "duration": 3,
    "start_time": "2023-06-13T17:37:01.678Z"
   },
   {
    "duration": 3,
    "start_time": "2023-06-13T17:37:01.891Z"
   },
   {
    "duration": 5,
    "start_time": "2023-06-13T17:37:02.118Z"
   },
   {
    "duration": 7,
    "start_time": "2023-06-13T17:37:02.305Z"
   },
   {
    "duration": 4,
    "start_time": "2023-06-13T17:37:02.526Z"
   },
   {
    "duration": 28,
    "start_time": "2023-06-13T17:37:02.734Z"
   },
   {
    "duration": 8,
    "start_time": "2023-06-13T17:37:02.985Z"
   },
   {
    "duration": 6,
    "start_time": "2023-06-13T17:37:03.297Z"
   },
   {
    "duration": 3826,
    "start_time": "2023-06-13T17:37:03.613Z"
   },
   {
    "duration": 579,
    "start_time": "2023-06-13T17:37:07.442Z"
   },
   {
    "duration": 4,
    "start_time": "2023-06-13T17:37:21.544Z"
   },
   {
    "duration": 47,
    "start_time": "2023-06-13T17:37:21.930Z"
   },
   {
    "duration": 41,
    "start_time": "2023-06-13T17:37:24.492Z"
   },
   {
    "duration": 6,
    "start_time": "2023-06-13T17:37:31.950Z"
   },
   {
    "duration": 8,
    "start_time": "2023-06-13T17:37:38.704Z"
   },
   {
    "duration": 13,
    "start_time": "2023-06-13T17:38:27.334Z"
   },
   {
    "duration": 6,
    "start_time": "2023-06-13T17:38:28.952Z"
   },
   {
    "duration": 4,
    "start_time": "2023-06-13T17:38:34.431Z"
   },
   {
    "duration": 3,
    "start_time": "2023-06-13T17:38:35.089Z"
   },
   {
    "duration": 3,
    "start_time": "2023-06-13T17:38:35.464Z"
   },
   {
    "duration": 6,
    "start_time": "2023-06-13T17:38:39.236Z"
   },
   {
    "duration": 6,
    "start_time": "2023-06-13T17:38:39.522Z"
   },
   {
    "duration": 5,
    "start_time": "2023-06-13T17:38:39.830Z"
   },
   {
    "duration": 8601,
    "start_time": "2023-06-13T17:38:41.771Z"
   },
   {
    "duration": 6902,
    "start_time": "2023-06-13T17:38:50.374Z"
   },
   {
    "duration": 98,
    "start_time": "2023-06-13T17:38:57.278Z"
   },
   {
    "duration": 8,
    "start_time": "2023-06-13T17:38:57.380Z"
   },
   {
    "duration": 15390,
    "start_time": "2023-06-13T17:39:01.865Z"
   },
   {
    "duration": 15617,
    "start_time": "2023-06-13T17:39:17.257Z"
   },
   {
    "duration": 7,
    "start_time": "2023-06-13T17:39:32.876Z"
   },
   {
    "duration": 18,
    "start_time": "2023-06-13T17:39:32.886Z"
   },
   {
    "duration": 574334,
    "start_time": "2023-06-13T17:42:13.127Z"
   },
   {
    "duration": 634759,
    "start_time": "2023-06-13T17:52:50.317Z"
   },
   {
    "duration": 8,
    "start_time": "2023-06-13T18:03:30.304Z"
   },
   {
    "duration": 6,
    "start_time": "2023-06-13T18:03:31.110Z"
   },
   {
    "duration": 1793,
    "start_time": "2023-06-13T18:06:49.307Z"
   },
   {
    "duration": 2466,
    "start_time": "2023-06-13T18:06:51.102Z"
   },
   {
    "duration": 34,
    "start_time": "2023-06-13T18:06:53.570Z"
   },
   {
    "duration": 3,
    "start_time": "2023-06-13T18:06:53.606Z"
   },
   {
    "duration": 926,
    "start_time": "2023-06-13T18:06:53.612Z"
   },
   {
    "duration": 5,
    "start_time": "2023-06-13T18:06:54.540Z"
   },
   {
    "duration": 392,
    "start_time": "2023-06-13T18:06:54.547Z"
   },
   {
    "duration": 9,
    "start_time": "2023-06-13T18:06:54.940Z"
   },
   {
    "duration": 37,
    "start_time": "2023-06-13T18:06:54.951Z"
   },
   {
    "duration": 50,
    "start_time": "2023-06-13T18:06:54.991Z"
   },
   {
    "duration": 54,
    "start_time": "2023-06-13T18:06:55.043Z"
   },
   {
    "duration": 33,
    "start_time": "2023-06-13T18:06:55.100Z"
   },
   {
    "duration": 19,
    "start_time": "2023-06-13T18:06:55.136Z"
   },
   {
    "duration": 13,
    "start_time": "2023-06-13T18:06:55.158Z"
   },
   {
    "duration": 34,
    "start_time": "2023-06-13T18:06:55.173Z"
   },
   {
    "duration": 30,
    "start_time": "2023-06-13T18:06:55.209Z"
   },
   {
    "duration": 7,
    "start_time": "2023-06-13T18:06:55.240Z"
   },
   {
    "duration": 41154,
    "start_time": "2023-06-13T18:06:55.249Z"
   },
   {
    "duration": 4,
    "start_time": "2023-06-13T18:07:36.405Z"
   },
   {
    "duration": 11,
    "start_time": "2023-06-13T18:07:36.411Z"
   },
   {
    "duration": 12,
    "start_time": "2023-06-13T18:07:36.424Z"
   },
   {
    "duration": 14,
    "start_time": "2023-06-13T18:07:36.438Z"
   },
   {
    "duration": 25,
    "start_time": "2023-06-13T18:07:36.454Z"
   },
   {
    "duration": 29,
    "start_time": "2023-06-13T18:07:36.481Z"
   },
   {
    "duration": 15,
    "start_time": "2023-06-13T18:07:36.514Z"
   },
   {
    "duration": 11,
    "start_time": "2023-06-13T18:07:36.531Z"
   },
   {
    "duration": 15,
    "start_time": "2023-06-13T18:07:36.544Z"
   },
   {
    "duration": 40,
    "start_time": "2023-06-13T18:07:36.562Z"
   },
   {
    "duration": 1483,
    "start_time": "2023-06-13T18:07:36.604Z"
   },
   {
    "duration": 1090,
    "start_time": "2023-06-13T18:07:38.089Z"
   },
   {
    "duration": 1167,
    "start_time": "2023-06-13T18:07:39.184Z"
   },
   {
    "duration": 699,
    "start_time": "2023-06-13T18:07:40.354Z"
   },
   {
    "duration": 6,
    "start_time": "2023-06-13T18:07:41.056Z"
   },
   {
    "duration": 55,
    "start_time": "2023-06-13T18:07:41.073Z"
   },
   {
    "duration": 1984,
    "start_time": "2023-06-13T18:07:41.133Z"
   },
   {
    "duration": 4,
    "start_time": "2023-06-13T18:07:43.119Z"
   },
   {
    "duration": 77,
    "start_time": "2023-06-13T18:07:43.125Z"
   },
   {
    "duration": 16,
    "start_time": "2023-06-13T18:07:43.208Z"
   },
   {
    "duration": 16,
    "start_time": "2023-06-13T18:07:43.226Z"
   },
   {
    "duration": 22,
    "start_time": "2023-06-13T18:07:43.245Z"
   },
   {
    "duration": 81,
    "start_time": "2023-06-13T18:07:43.276Z"
   },
   {
    "duration": 9,
    "start_time": "2023-06-13T18:07:43.365Z"
   },
   {
    "duration": 48,
    "start_time": "2023-06-13T18:07:43.379Z"
   },
   {
    "duration": 4072,
    "start_time": "2023-06-13T18:07:43.435Z"
   },
   {
    "duration": 602,
    "start_time": "2023-06-13T18:07:47.509Z"
   },
   {
    "duration": 4,
    "start_time": "2023-06-13T18:07:48.116Z"
   },
   {
    "duration": 63,
    "start_time": "2023-06-13T18:07:48.125Z"
   },
   {
    "duration": 69,
    "start_time": "2023-06-13T18:07:48.190Z"
   },
   {
    "duration": 7,
    "start_time": "2023-06-13T18:07:48.273Z"
   },
   {
    "duration": 37,
    "start_time": "2023-06-13T18:07:48.282Z"
   },
   {
    "duration": 16,
    "start_time": "2023-06-13T18:07:48.321Z"
   },
   {
    "duration": 30,
    "start_time": "2023-06-13T18:07:48.339Z"
   },
   {
    "duration": 40,
    "start_time": "2023-06-13T18:07:48.372Z"
   },
   {
    "duration": 17,
    "start_time": "2023-06-13T18:07:48.414Z"
   },
   {
    "duration": 32,
    "start_time": "2023-06-13T18:07:48.434Z"
   },
   {
    "duration": 35,
    "start_time": "2023-06-13T18:07:48.468Z"
   },
   {
    "duration": 27,
    "start_time": "2023-06-13T18:07:48.506Z"
   },
   {
    "duration": 25,
    "start_time": "2023-06-13T18:07:48.536Z"
   },
   {
    "duration": 7432,
    "start_time": "2023-06-13T18:07:48.563Z"
   },
   {
    "duration": 7480,
    "start_time": "2023-06-13T18:07:55.997Z"
   },
   {
    "duration": 86,
    "start_time": "2023-06-13T18:08:03.486Z"
   },
   {
    "duration": 45,
    "start_time": "2023-06-13T18:08:03.574Z"
   },
   {
    "duration": 16285,
    "start_time": "2023-06-13T18:08:03.621Z"
   },
   {
    "duration": 15577,
    "start_time": "2023-06-13T18:08:19.908Z"
   },
   {
    "duration": 9,
    "start_time": "2023-06-13T18:08:35.488Z"
   },
   {
    "duration": 37,
    "start_time": "2023-06-13T18:08:35.498Z"
   },
   {
    "duration": 573050,
    "start_time": "2023-06-13T18:08:35.537Z"
   },
   {
    "duration": 588766,
    "start_time": "2023-06-13T18:18:08.589Z"
   },
   {
    "duration": 8,
    "start_time": "2023-06-13T18:27:57.357Z"
   },
   {
    "duration": 38,
    "start_time": "2023-06-13T18:27:57.367Z"
   },
   {
    "duration": 1293,
    "start_time": "2023-06-13T19:15:08.116Z"
   },
   {
    "duration": 1907,
    "start_time": "2023-06-13T19:15:09.411Z"
   },
   {
    "duration": 22,
    "start_time": "2023-06-13T19:15:11.320Z"
   },
   {
    "duration": 3,
    "start_time": "2023-06-13T19:15:11.343Z"
   },
   {
    "duration": 742,
    "start_time": "2023-06-13T19:15:11.348Z"
   },
   {
    "duration": 3,
    "start_time": "2023-06-13T19:15:12.091Z"
   },
   {
    "duration": 288,
    "start_time": "2023-06-13T19:15:12.096Z"
   },
   {
    "duration": 6,
    "start_time": "2023-06-13T19:15:12.385Z"
   },
   {
    "duration": 22,
    "start_time": "2023-06-13T19:15:12.393Z"
   },
   {
    "duration": 17,
    "start_time": "2023-06-13T19:15:12.417Z"
   },
   {
    "duration": 26,
    "start_time": "2023-06-13T19:15:12.436Z"
   },
   {
    "duration": 24,
    "start_time": "2023-06-13T19:15:12.464Z"
   },
   {
    "duration": 20,
    "start_time": "2023-06-13T19:15:12.489Z"
   },
   {
    "duration": 27,
    "start_time": "2023-06-13T19:15:12.511Z"
   },
   {
    "duration": 40,
    "start_time": "2023-06-13T19:15:12.540Z"
   },
   {
    "duration": 22,
    "start_time": "2023-06-13T19:15:12.582Z"
   },
   {
    "duration": 13,
    "start_time": "2023-06-13T19:15:12.605Z"
   },
   {
    "duration": 19842,
    "start_time": "2023-06-13T19:15:12.620Z"
   },
   {
    "duration": 8,
    "start_time": "2023-06-13T19:15:32.464Z"
   },
   {
    "duration": 10,
    "start_time": "2023-06-13T19:15:32.474Z"
   },
   {
    "duration": 8,
    "start_time": "2023-06-13T19:15:32.486Z"
   },
   {
    "duration": 20,
    "start_time": "2023-06-13T19:15:32.495Z"
   },
   {
    "duration": 19,
    "start_time": "2023-06-13T19:15:32.517Z"
   },
   {
    "duration": 4,
    "start_time": "2023-06-13T19:15:32.538Z"
   },
   {
    "duration": 21,
    "start_time": "2023-06-13T19:15:32.544Z"
   },
   {
    "duration": 20,
    "start_time": "2023-06-13T19:15:32.566Z"
   },
   {
    "duration": 7,
    "start_time": "2023-06-13T19:15:32.588Z"
   },
   {
    "duration": 77,
    "start_time": "2023-06-13T19:15:32.597Z"
   },
   {
    "duration": 1157,
    "start_time": "2023-06-13T19:15:32.676Z"
   },
   {
    "duration": 865,
    "start_time": "2023-06-13T19:15:33.834Z"
   },
   {
    "duration": 813,
    "start_time": "2023-06-13T19:15:34.700Z"
   },
   {
    "duration": 560,
    "start_time": "2023-06-13T19:15:35.514Z"
   },
   {
    "duration": 4,
    "start_time": "2023-06-13T19:15:36.076Z"
   },
   {
    "duration": 7,
    "start_time": "2023-06-13T19:15:36.082Z"
   },
   {
    "duration": 1596,
    "start_time": "2023-06-13T19:15:36.091Z"
   },
   {
    "duration": 3,
    "start_time": "2023-06-13T19:15:37.689Z"
   },
   {
    "duration": 8,
    "start_time": "2023-06-13T19:15:37.694Z"
   },
   {
    "duration": 9,
    "start_time": "2023-06-13T19:15:37.704Z"
   },
   {
    "duration": 9,
    "start_time": "2023-06-13T19:15:37.714Z"
   },
   {
    "duration": 8,
    "start_time": "2023-06-13T19:15:37.724Z"
   },
   {
    "duration": 36,
    "start_time": "2023-06-13T19:15:37.736Z"
   },
   {
    "duration": 5,
    "start_time": "2023-06-13T19:15:37.773Z"
   },
   {
    "duration": 9,
    "start_time": "2023-06-13T19:15:37.780Z"
   },
   {
    "duration": 3282,
    "start_time": "2023-06-13T19:15:37.790Z"
   },
   {
    "duration": 537,
    "start_time": "2023-06-13T19:15:41.073Z"
   },
   {
    "duration": 3,
    "start_time": "2023-06-13T19:15:41.612Z"
   },
   {
    "duration": 57,
    "start_time": "2023-06-13T19:15:41.617Z"
   },
   {
    "duration": 35,
    "start_time": "2023-06-13T19:15:41.676Z"
   },
   {
    "duration": 6,
    "start_time": "2023-06-13T19:15:41.713Z"
   },
   {
    "duration": 10,
    "start_time": "2023-06-13T19:15:41.720Z"
   },
   {
    "duration": 12,
    "start_time": "2023-06-13T19:15:41.732Z"
   },
   {
    "duration": 7,
    "start_time": "2023-06-13T19:15:41.746Z"
   },
   {
    "duration": 3,
    "start_time": "2023-06-13T19:15:41.772Z"
   },
   {
    "duration": 10,
    "start_time": "2023-06-13T19:15:41.777Z"
   },
   {
    "duration": 11,
    "start_time": "2023-06-13T19:15:41.788Z"
   },
   {
    "duration": 7,
    "start_time": "2023-06-13T19:15:41.801Z"
   },
   {
    "duration": 7,
    "start_time": "2023-06-13T19:15:41.809Z"
   },
   {
    "duration": 10,
    "start_time": "2023-06-13T19:15:41.818Z"
   },
   {
    "duration": 5846,
    "start_time": "2023-06-13T19:15:41.830Z"
   },
   {
    "duration": 5601,
    "start_time": "2023-06-13T19:15:47.678Z"
   },
   {
    "duration": 97,
    "start_time": "2023-06-13T19:15:53.281Z"
   },
   {
    "duration": 104,
    "start_time": "2023-06-13T19:15:53.381Z"
   },
   {
    "duration": 13328,
    "start_time": "2023-06-13T19:15:53.487Z"
   },
   {
    "duration": 13062,
    "start_time": "2023-06-13T19:16:06.816Z"
   },
   {
    "duration": 6,
    "start_time": "2023-06-13T19:16:19.880Z"
   },
   {
    "duration": 8,
    "start_time": "2023-06-13T19:16:19.888Z"
   },
   {
    "duration": 496468,
    "start_time": "2023-06-13T19:16:19.898Z"
   },
   {
    "duration": 505396,
    "start_time": "2023-06-13T19:24:36.367Z"
   },
   {
    "duration": 7,
    "start_time": "2023-06-13T19:33:01.765Z"
   },
   {
    "duration": 38,
    "start_time": "2023-06-13T19:33:01.773Z"
   },
   {
    "duration": 49,
    "start_time": "2023-06-14T14:57:44.877Z"
   },
   {
    "duration": 46,
    "start_time": "2023-06-14T16:33:43.404Z"
   },
   {
    "duration": 1567,
    "start_time": "2023-06-14T16:33:49.299Z"
   },
   {
    "duration": 2352,
    "start_time": "2023-06-14T16:33:50.869Z"
   },
   {
    "duration": 23,
    "start_time": "2023-06-14T16:33:53.223Z"
   },
   {
    "duration": 3,
    "start_time": "2023-06-14T16:33:53.248Z"
   },
   {
    "duration": 3862,
    "start_time": "2023-06-14T16:33:53.253Z"
   },
   {
    "duration": 3,
    "start_time": "2023-06-14T16:33:57.116Z"
   },
   {
    "duration": 288,
    "start_time": "2023-06-14T16:33:57.121Z"
   },
   {
    "duration": 7,
    "start_time": "2023-06-14T16:33:57.411Z"
   },
   {
    "duration": 18,
    "start_time": "2023-06-14T16:33:57.419Z"
   },
   {
    "duration": 12,
    "start_time": "2023-06-14T16:33:57.440Z"
   },
   {
    "duration": 11,
    "start_time": "2023-06-14T16:33:57.475Z"
   },
   {
    "duration": 10,
    "start_time": "2023-06-14T16:33:57.488Z"
   },
   {
    "duration": 7,
    "start_time": "2023-06-14T16:33:57.500Z"
   },
   {
    "duration": 6,
    "start_time": "2023-06-14T16:33:57.509Z"
   },
   {
    "duration": 17,
    "start_time": "2023-06-14T16:33:57.516Z"
   },
   {
    "duration": 47,
    "start_time": "2023-06-14T16:33:57.534Z"
   },
   {
    "duration": 5,
    "start_time": "2023-06-14T16:33:57.582Z"
   },
   {
    "duration": 22087,
    "start_time": "2023-06-14T16:33:57.588Z"
   },
   {
    "duration": 4,
    "start_time": "2023-06-14T16:34:19.677Z"
   },
   {
    "duration": 7,
    "start_time": "2023-06-14T16:34:19.682Z"
   },
   {
    "duration": 5,
    "start_time": "2023-06-14T16:34:19.691Z"
   },
   {
    "duration": 9,
    "start_time": "2023-06-14T16:34:19.698Z"
   },
   {
    "duration": 6,
    "start_time": "2023-06-14T16:34:19.708Z"
   },
   {
    "duration": 2,
    "start_time": "2023-06-14T16:34:19.717Z"
   },
   {
    "duration": 4,
    "start_time": "2023-06-14T16:34:19.721Z"
   },
   {
    "duration": 4,
    "start_time": "2023-06-14T16:34:19.726Z"
   },
   {
    "duration": 4,
    "start_time": "2023-06-14T16:34:19.731Z"
   },
   {
    "duration": 42,
    "start_time": "2023-06-14T16:34:19.737Z"
   },
   {
    "duration": 1295,
    "start_time": "2023-06-14T16:34:19.781Z"
   },
   {
    "duration": 951,
    "start_time": "2023-06-14T16:34:21.078Z"
   },
   {
    "duration": 884,
    "start_time": "2023-06-14T16:34:22.031Z"
   },
   {
    "duration": 597,
    "start_time": "2023-06-14T16:34:22.916Z"
   },
   {
    "duration": 5,
    "start_time": "2023-06-14T16:34:23.514Z"
   },
   {
    "duration": 7,
    "start_time": "2023-06-14T16:34:23.520Z"
   },
   {
    "duration": 8,
    "start_time": "2023-06-14T16:35:43.709Z"
   },
   {
    "duration": 54,
    "start_time": "2023-06-15T16:48:28.124Z"
   },
   {
    "duration": 1731,
    "start_time": "2023-06-15T16:48:34.921Z"
   },
   {
    "duration": 2457,
    "start_time": "2023-06-15T16:48:36.655Z"
   },
   {
    "duration": 37,
    "start_time": "2023-06-15T16:48:39.116Z"
   },
   {
    "duration": 3,
    "start_time": "2023-06-15T16:48:39.155Z"
   },
   {
    "duration": 3423,
    "start_time": "2023-06-15T16:48:39.160Z"
   },
   {
    "duration": 5,
    "start_time": "2023-06-15T16:48:42.586Z"
   },
   {
    "duration": 351,
    "start_time": "2023-06-15T16:48:42.593Z"
   },
   {
    "duration": 7,
    "start_time": "2023-06-15T16:48:42.947Z"
   },
   {
    "duration": 35,
    "start_time": "2023-06-15T16:48:42.956Z"
   },
   {
    "duration": 19,
    "start_time": "2023-06-15T16:48:42.994Z"
   },
   {
    "duration": 14,
    "start_time": "2023-06-15T16:48:43.015Z"
   },
   {
    "duration": 25,
    "start_time": "2023-06-15T16:48:43.031Z"
   },
   {
    "duration": 8,
    "start_time": "2023-06-15T16:48:43.059Z"
   },
   {
    "duration": 17,
    "start_time": "2023-06-15T16:48:43.069Z"
   },
   {
    "duration": 38,
    "start_time": "2023-06-15T16:48:43.088Z"
   },
   {
    "duration": 17,
    "start_time": "2023-06-15T16:48:43.129Z"
   },
   {
    "duration": 23,
    "start_time": "2023-06-15T16:48:43.148Z"
   },
   {
    "duration": 31918,
    "start_time": "2023-06-15T16:48:43.173Z"
   },
   {
    "duration": 4,
    "start_time": "2023-06-15T16:49:15.093Z"
   },
   {
    "duration": 98,
    "start_time": "2023-06-15T16:49:15.099Z"
   },
   {
    "duration": 11,
    "start_time": "2023-06-15T16:49:15.199Z"
   },
   {
    "duration": 18,
    "start_time": "2023-06-15T16:49:15.212Z"
   },
   {
    "duration": 6,
    "start_time": "2023-06-15T16:49:15.232Z"
   },
   {
    "duration": 4,
    "start_time": "2023-06-15T16:49:15.239Z"
   },
   {
    "duration": 19,
    "start_time": "2023-06-15T16:49:15.245Z"
   },
   {
    "duration": 17,
    "start_time": "2023-06-15T16:49:15.266Z"
   },
   {
    "duration": 4,
    "start_time": "2023-06-15T16:49:15.287Z"
   },
   {
    "duration": 6,
    "start_time": "2023-06-15T16:49:15.294Z"
   },
   {
    "duration": 1419,
    "start_time": "2023-06-15T16:49:15.302Z"
   },
   {
    "duration": 1071,
    "start_time": "2023-06-15T16:49:16.723Z"
   },
   {
    "duration": 975,
    "start_time": "2023-06-15T16:49:17.796Z"
   },
   {
    "duration": 712,
    "start_time": "2023-06-15T16:49:18.773Z"
   },
   {
    "duration": 5,
    "start_time": "2023-06-15T16:49:19.487Z"
   },
   {
    "duration": 22,
    "start_time": "2023-06-15T16:49:19.494Z"
   },
   {
    "duration": 1829,
    "start_time": "2023-06-15T16:49:19.518Z"
   },
   {
    "duration": 75,
    "start_time": "2023-06-15T16:49:21.349Z"
   },
   {
    "duration": 13,
    "start_time": "2023-06-15T17:02:20.408Z"
   },
   {
    "duration": 5,
    "start_time": "2023-06-15T17:02:26.231Z"
   },
   {
    "duration": 27,
    "start_time": "2023-06-15T17:02:41.484Z"
   },
   {
    "duration": 244,
    "start_time": "2023-06-15T17:03:27.403Z"
   },
   {
    "duration": 4,
    "start_time": "2023-06-15T17:03:55.125Z"
   },
   {
    "duration": 81,
    "start_time": "2023-06-15T17:04:11.472Z"
   },
   {
    "duration": 11,
    "start_time": "2023-06-15T17:04:16.156Z"
   },
   {
    "duration": 183,
    "start_time": "2023-06-15T17:56:11.007Z"
   },
   {
    "duration": 192,
    "start_time": "2023-06-15T17:56:26.962Z"
   },
   {
    "duration": 6,
    "start_time": "2023-06-15T17:57:40.375Z"
   },
   {
    "duration": 26,
    "start_time": "2023-06-15T17:57:44.008Z"
   },
   {
    "duration": 7,
    "start_time": "2023-06-15T17:58:29.403Z"
   },
   {
    "duration": 6,
    "start_time": "2023-06-15T17:58:38.997Z"
   },
   {
    "duration": 65,
    "start_time": "2023-06-15T17:58:40.213Z"
   },
   {
    "duration": 4,
    "start_time": "2023-06-15T17:59:05.603Z"
   },
   {
    "duration": 4,
    "start_time": "2023-06-15T18:01:15.465Z"
   },
   {
    "duration": 8,
    "start_time": "2023-06-15T18:01:53.173Z"
   },
   {
    "duration": 4,
    "start_time": "2023-06-15T18:01:55.362Z"
   },
   {
    "duration": 1398,
    "start_time": "2023-06-15T18:04:41.311Z"
   },
   {
    "duration": 2050,
    "start_time": "2023-06-15T18:04:42.711Z"
   },
   {
    "duration": 23,
    "start_time": "2023-06-15T18:04:44.763Z"
   },
   {
    "duration": 3,
    "start_time": "2023-06-15T18:04:44.788Z"
   },
   {
    "duration": 785,
    "start_time": "2023-06-15T18:04:44.793Z"
   },
   {
    "duration": 4,
    "start_time": "2023-06-15T18:04:45.580Z"
   },
   {
    "duration": 346,
    "start_time": "2023-06-15T18:04:45.585Z"
   },
   {
    "duration": 7,
    "start_time": "2023-06-15T18:04:45.933Z"
   },
   {
    "duration": 18,
    "start_time": "2023-06-15T18:04:45.942Z"
   },
   {
    "duration": 11,
    "start_time": "2023-06-15T18:04:45.962Z"
   },
   {
    "duration": 40,
    "start_time": "2023-06-15T18:04:45.975Z"
   },
   {
    "duration": 8,
    "start_time": "2023-06-15T18:04:46.017Z"
   },
   {
    "duration": 18,
    "start_time": "2023-06-15T18:04:46.027Z"
   },
   {
    "duration": 21,
    "start_time": "2023-06-15T18:04:46.048Z"
   },
   {
    "duration": 21,
    "start_time": "2023-06-15T18:04:46.070Z"
   },
   {
    "duration": 11,
    "start_time": "2023-06-15T18:04:46.093Z"
   },
   {
    "duration": 9,
    "start_time": "2023-06-15T18:04:46.105Z"
   },
   {
    "duration": 21519,
    "start_time": "2023-06-15T18:04:46.115Z"
   },
   {
    "duration": 5,
    "start_time": "2023-06-15T18:05:07.636Z"
   },
   {
    "duration": 21,
    "start_time": "2023-06-15T18:05:07.643Z"
   },
   {
    "duration": 19,
    "start_time": "2023-06-15T18:05:07.666Z"
   },
   {
    "duration": 24,
    "start_time": "2023-06-15T18:05:07.687Z"
   },
   {
    "duration": 34,
    "start_time": "2023-06-15T18:05:07.712Z"
   },
   {
    "duration": 12,
    "start_time": "2023-06-15T18:05:07.748Z"
   },
   {
    "duration": 37,
    "start_time": "2023-06-15T18:05:07.762Z"
   },
   {
    "duration": 29,
    "start_time": "2023-06-15T18:05:07.800Z"
   },
   {
    "duration": 29,
    "start_time": "2023-06-15T18:05:07.830Z"
   },
   {
    "duration": 40,
    "start_time": "2023-06-15T18:05:07.861Z"
   },
   {
    "duration": 1360,
    "start_time": "2023-06-15T18:05:07.903Z"
   },
   {
    "duration": 1080,
    "start_time": "2023-06-15T18:05:09.265Z"
   },
   {
    "duration": 906,
    "start_time": "2023-06-15T18:05:10.347Z"
   },
   {
    "duration": 603,
    "start_time": "2023-06-15T18:05:11.255Z"
   },
   {
    "duration": 6,
    "start_time": "2023-06-15T18:05:11.860Z"
   },
   {
    "duration": 6,
    "start_time": "2023-06-15T18:05:11.868Z"
   },
   {
    "duration": 1672,
    "start_time": "2023-06-15T18:05:11.876Z"
   },
   {
    "duration": 15,
    "start_time": "2023-06-15T18:05:13.550Z"
   },
   {
    "duration": 8,
    "start_time": "2023-06-15T18:05:13.567Z"
   },
   {
    "duration": 3,
    "start_time": "2023-06-15T18:05:13.577Z"
   },
   {
    "duration": 25,
    "start_time": "2023-06-15T18:05:13.582Z"
   },
   {
    "duration": 18,
    "start_time": "2023-06-15T18:05:13.609Z"
   },
   {
    "duration": 18,
    "start_time": "2023-06-15T18:05:13.632Z"
   },
   {
    "duration": 16,
    "start_time": "2023-06-15T18:05:13.651Z"
   },
   {
    "duration": 38,
    "start_time": "2023-06-15T18:05:13.669Z"
   },
   {
    "duration": 6,
    "start_time": "2023-06-15T18:05:13.709Z"
   },
   {
    "duration": 23,
    "start_time": "2023-06-15T18:05:13.717Z"
   },
   {
    "duration": 2767,
    "start_time": "2023-06-15T18:05:13.742Z"
   },
   {
    "duration": 473,
    "start_time": "2023-06-15T18:05:16.511Z"
   },
   {
    "duration": 3,
    "start_time": "2023-06-15T18:05:16.986Z"
   },
   {
    "duration": 59,
    "start_time": "2023-06-15T18:05:16.991Z"
   },
   {
    "duration": 66,
    "start_time": "2023-06-15T18:05:17.052Z"
   },
   {
    "duration": 16,
    "start_time": "2023-06-15T18:05:17.120Z"
   },
   {
    "duration": 23,
    "start_time": "2023-06-15T18:05:17.138Z"
   },
   {
    "duration": 19,
    "start_time": "2023-06-15T18:05:17.163Z"
   },
   {
    "duration": 9,
    "start_time": "2023-06-15T18:05:17.184Z"
   },
   {
    "duration": 12,
    "start_time": "2023-06-15T18:05:17.195Z"
   },
   {
    "duration": 30,
    "start_time": "2023-06-15T18:05:17.208Z"
   },
   {
    "duration": 28,
    "start_time": "2023-06-15T18:05:17.240Z"
   },
   {
    "duration": 17,
    "start_time": "2023-06-15T18:05:17.270Z"
   },
   {
    "duration": 14,
    "start_time": "2023-06-15T18:05:17.289Z"
   },
   {
    "duration": 7,
    "start_time": "2023-06-15T18:05:17.305Z"
   },
   {
    "duration": 1346,
    "start_time": "2023-06-15T18:05:17.314Z"
   },
   {
    "duration": 0,
    "start_time": "2023-06-15T18:05:18.661Z"
   },
   {
    "duration": 0,
    "start_time": "2023-06-15T18:05:18.662Z"
   },
   {
    "duration": 0,
    "start_time": "2023-06-15T18:05:18.664Z"
   },
   {
    "duration": 0,
    "start_time": "2023-06-15T18:05:18.665Z"
   },
   {
    "duration": 0,
    "start_time": "2023-06-15T18:05:18.666Z"
   },
   {
    "duration": 0,
    "start_time": "2023-06-15T18:05:18.667Z"
   },
   {
    "duration": 0,
    "start_time": "2023-06-15T18:05:18.668Z"
   },
   {
    "duration": 0,
    "start_time": "2023-06-15T18:05:18.669Z"
   },
   {
    "duration": 0,
    "start_time": "2023-06-15T18:05:18.670Z"
   },
   {
    "duration": 0,
    "start_time": "2023-06-15T18:05:18.671Z"
   },
   {
    "duration": 0,
    "start_time": "2023-06-15T18:05:18.673Z"
   },
   {
    "duration": 860,
    "start_time": "2023-06-15T18:08:54.565Z"
   },
   {
    "duration": 1613,
    "start_time": "2023-06-15T18:10:05.548Z"
   },
   {
    "duration": 2506,
    "start_time": "2023-06-15T18:10:07.163Z"
   },
   {
    "duration": 39,
    "start_time": "2023-06-15T18:10:09.672Z"
   },
   {
    "duration": 3,
    "start_time": "2023-06-15T18:10:09.714Z"
   },
   {
    "duration": 856,
    "start_time": "2023-06-15T18:10:09.720Z"
   },
   {
    "duration": 5,
    "start_time": "2023-06-15T18:10:10.577Z"
   },
   {
    "duration": 368,
    "start_time": "2023-06-15T18:10:10.583Z"
   },
   {
    "duration": 10,
    "start_time": "2023-06-15T18:10:10.953Z"
   },
   {
    "duration": 22,
    "start_time": "2023-06-15T18:10:10.966Z"
   },
   {
    "duration": 36,
    "start_time": "2023-06-15T18:10:10.990Z"
   },
   {
    "duration": 16,
    "start_time": "2023-06-15T18:10:11.029Z"
   },
   {
    "duration": 9,
    "start_time": "2023-06-15T18:10:11.047Z"
   },
   {
    "duration": 34,
    "start_time": "2023-06-15T18:10:11.058Z"
   },
   {
    "duration": 8,
    "start_time": "2023-06-15T18:10:11.112Z"
   },
   {
    "duration": 21,
    "start_time": "2023-06-15T18:10:11.122Z"
   },
   {
    "duration": 12,
    "start_time": "2023-06-15T18:10:11.145Z"
   },
   {
    "duration": 19,
    "start_time": "2023-06-15T18:10:11.159Z"
   },
   {
    "duration": 36010,
    "start_time": "2023-06-15T18:10:11.180Z"
   },
   {
    "duration": 5,
    "start_time": "2023-06-15T18:10:47.192Z"
   },
   {
    "duration": 18,
    "start_time": "2023-06-15T18:10:47.199Z"
   },
   {
    "duration": 4,
    "start_time": "2023-06-15T18:10:47.219Z"
   },
   {
    "duration": 10,
    "start_time": "2023-06-15T18:10:47.224Z"
   },
   {
    "duration": 6,
    "start_time": "2023-06-15T18:10:47.236Z"
   },
   {
    "duration": 8,
    "start_time": "2023-06-15T18:10:47.244Z"
   },
   {
    "duration": 9,
    "start_time": "2023-06-15T18:10:47.254Z"
   },
   {
    "duration": 17,
    "start_time": "2023-06-15T18:10:47.265Z"
   },
   {
    "duration": 12,
    "start_time": "2023-06-15T18:10:47.283Z"
   },
   {
    "duration": 18,
    "start_time": "2023-06-15T18:10:47.297Z"
   },
   {
    "duration": 1515,
    "start_time": "2023-06-15T18:10:47.317Z"
   },
   {
    "duration": 1289,
    "start_time": "2023-06-15T18:10:48.834Z"
   },
   {
    "duration": 1174,
    "start_time": "2023-06-15T18:10:50.125Z"
   },
   {
    "duration": 792,
    "start_time": "2023-06-15T18:10:51.301Z"
   },
   {
    "duration": 6,
    "start_time": "2023-06-15T18:10:52.095Z"
   },
   {
    "duration": 7,
    "start_time": "2023-06-15T18:10:52.115Z"
   },
   {
    "duration": 1963,
    "start_time": "2023-06-15T18:10:52.124Z"
   },
   {
    "duration": 110,
    "start_time": "2023-06-15T18:10:54.089Z"
   },
   {
    "duration": 0,
    "start_time": "2023-06-15T18:10:54.201Z"
   },
   {
    "duration": 0,
    "start_time": "2023-06-15T18:10:54.203Z"
   },
   {
    "duration": 0,
    "start_time": "2023-06-15T18:10:54.204Z"
   },
   {
    "duration": 0,
    "start_time": "2023-06-15T18:10:54.206Z"
   },
   {
    "duration": 0,
    "start_time": "2023-06-15T18:10:54.207Z"
   },
   {
    "duration": 0,
    "start_time": "2023-06-15T18:10:54.208Z"
   },
   {
    "duration": 0,
    "start_time": "2023-06-15T18:10:54.210Z"
   },
   {
    "duration": 0,
    "start_time": "2023-06-15T18:10:54.211Z"
   },
   {
    "duration": 0,
    "start_time": "2023-06-15T18:10:54.212Z"
   },
   {
    "duration": 0,
    "start_time": "2023-06-15T18:10:54.214Z"
   },
   {
    "duration": 0,
    "start_time": "2023-06-15T18:10:54.215Z"
   },
   {
    "duration": 0,
    "start_time": "2023-06-15T18:10:54.217Z"
   },
   {
    "duration": 0,
    "start_time": "2023-06-15T18:10:54.218Z"
   },
   {
    "duration": 0,
    "start_time": "2023-06-15T18:10:54.219Z"
   },
   {
    "duration": 0,
    "start_time": "2023-06-15T18:10:54.220Z"
   },
   {
    "duration": 0,
    "start_time": "2023-06-15T18:10:54.222Z"
   },
   {
    "duration": 0,
    "start_time": "2023-06-15T18:10:54.223Z"
   },
   {
    "duration": 0,
    "start_time": "2023-06-15T18:10:54.225Z"
   },
   {
    "duration": 0,
    "start_time": "2023-06-15T18:10:54.227Z"
   },
   {
    "duration": 0,
    "start_time": "2023-06-15T18:10:54.229Z"
   },
   {
    "duration": 0,
    "start_time": "2023-06-15T18:10:54.230Z"
   },
   {
    "duration": 0,
    "start_time": "2023-06-15T18:10:54.232Z"
   },
   {
    "duration": 0,
    "start_time": "2023-06-15T18:10:54.233Z"
   },
   {
    "duration": 0,
    "start_time": "2023-06-15T18:10:54.235Z"
   },
   {
    "duration": 0,
    "start_time": "2023-06-15T18:10:54.236Z"
   },
   {
    "duration": 0,
    "start_time": "2023-06-15T18:10:54.238Z"
   },
   {
    "duration": 0,
    "start_time": "2023-06-15T18:10:54.239Z"
   },
   {
    "duration": 0,
    "start_time": "2023-06-15T18:10:54.240Z"
   },
   {
    "duration": 0,
    "start_time": "2023-06-15T18:10:54.241Z"
   },
   {
    "duration": 0,
    "start_time": "2023-06-15T18:10:54.243Z"
   },
   {
    "duration": 0,
    "start_time": "2023-06-15T18:10:54.244Z"
   },
   {
    "duration": 0,
    "start_time": "2023-06-15T18:10:54.245Z"
   },
   {
    "duration": 0,
    "start_time": "2023-06-15T18:10:54.246Z"
   },
   {
    "duration": 0,
    "start_time": "2023-06-15T18:10:54.247Z"
   },
   {
    "duration": 0,
    "start_time": "2023-06-15T18:10:54.249Z"
   },
   {
    "duration": 0,
    "start_time": "2023-06-15T18:10:54.250Z"
   },
   {
    "duration": 1820,
    "start_time": "2023-06-15T18:11:12.714Z"
   },
   {
    "duration": 2264,
    "start_time": "2023-06-15T18:11:14.537Z"
   },
   {
    "duration": 30,
    "start_time": "2023-06-15T18:11:16.804Z"
   },
   {
    "duration": 4,
    "start_time": "2023-06-15T18:11:16.836Z"
   },
   {
    "duration": 779,
    "start_time": "2023-06-15T18:11:16.843Z"
   },
   {
    "duration": 4,
    "start_time": "2023-06-15T18:11:17.624Z"
   },
   {
    "duration": 339,
    "start_time": "2023-06-15T18:11:17.630Z"
   },
   {
    "duration": 7,
    "start_time": "2023-06-15T18:11:17.971Z"
   },
   {
    "duration": 40,
    "start_time": "2023-06-15T18:11:17.980Z"
   },
   {
    "duration": 15,
    "start_time": "2023-06-15T18:11:18.022Z"
   },
   {
    "duration": 14,
    "start_time": "2023-06-15T18:11:18.039Z"
   },
   {
    "duration": 15,
    "start_time": "2023-06-15T18:11:18.056Z"
   },
   {
    "duration": 25,
    "start_time": "2023-06-15T18:11:18.073Z"
   },
   {
    "duration": 7,
    "start_time": "2023-06-15T18:11:18.112Z"
   },
   {
    "duration": 31,
    "start_time": "2023-06-15T18:11:18.121Z"
   },
   {
    "duration": 25,
    "start_time": "2023-06-15T18:11:18.154Z"
   },
   {
    "duration": 5,
    "start_time": "2023-06-15T18:11:18.182Z"
   },
   {
    "duration": 30504,
    "start_time": "2023-06-15T18:11:18.189Z"
   },
   {
    "duration": 4,
    "start_time": "2023-06-15T18:11:48.695Z"
   },
   {
    "duration": 15,
    "start_time": "2023-06-15T18:11:48.701Z"
   },
   {
    "duration": 8,
    "start_time": "2023-06-15T18:11:48.718Z"
   },
   {
    "duration": 12,
    "start_time": "2023-06-15T18:11:48.728Z"
   },
   {
    "duration": 6,
    "start_time": "2023-06-15T18:11:48.742Z"
   },
   {
    "duration": 4,
    "start_time": "2023-06-15T18:11:48.750Z"
   },
   {
    "duration": 9,
    "start_time": "2023-06-15T18:11:48.756Z"
   },
   {
    "duration": 15,
    "start_time": "2023-06-15T18:11:48.767Z"
   },
   {
    "duration": 8,
    "start_time": "2023-06-15T18:11:48.784Z"
   },
   {
    "duration": 5,
    "start_time": "2023-06-15T18:11:48.794Z"
   },
   {
    "duration": 1509,
    "start_time": "2023-06-15T18:11:48.800Z"
   },
   {
    "duration": 976,
    "start_time": "2023-06-15T18:11:50.311Z"
   },
   {
    "duration": 938,
    "start_time": "2023-06-15T18:11:51.289Z"
   },
   {
    "duration": 729,
    "start_time": "2023-06-15T18:11:52.229Z"
   },
   {
    "duration": 5,
    "start_time": "2023-06-15T18:11:52.960Z"
   },
   {
    "duration": 6,
    "start_time": "2023-06-15T18:11:52.966Z"
   },
   {
    "duration": 1822,
    "start_time": "2023-06-15T18:11:52.974Z"
   },
   {
    "duration": 3,
    "start_time": "2023-06-15T18:11:54.797Z"
   },
   {
    "duration": 13,
    "start_time": "2023-06-15T18:11:54.801Z"
   },
   {
    "duration": 19,
    "start_time": "2023-06-15T18:11:54.816Z"
   },
   {
    "duration": 5,
    "start_time": "2023-06-15T18:11:54.837Z"
   },
   {
    "duration": 10,
    "start_time": "2023-06-15T18:11:54.844Z"
   },
   {
    "duration": 6,
    "start_time": "2023-06-15T18:11:54.859Z"
   },
   {
    "duration": 6,
    "start_time": "2023-06-15T18:11:54.866Z"
   },
   {
    "duration": 22,
    "start_time": "2023-06-15T18:11:54.874Z"
   },
   {
    "duration": 17,
    "start_time": "2023-06-15T18:11:54.898Z"
   },
   {
    "duration": 7,
    "start_time": "2023-06-15T18:11:54.916Z"
   },
   {
    "duration": 3600,
    "start_time": "2023-06-15T18:11:54.925Z"
   },
   {
    "duration": 443,
    "start_time": "2023-06-15T18:11:58.529Z"
   },
   {
    "duration": 4,
    "start_time": "2023-06-15T18:11:58.974Z"
   },
   {
    "duration": 53,
    "start_time": "2023-06-15T18:11:58.980Z"
   },
   {
    "duration": 47,
    "start_time": "2023-06-15T18:11:59.035Z"
   },
   {
    "duration": 5,
    "start_time": "2023-06-15T18:11:59.083Z"
   },
   {
    "duration": 6,
    "start_time": "2023-06-15T18:11:59.113Z"
   },
   {
    "duration": 11,
    "start_time": "2023-06-15T18:11:59.121Z"
   },
   {
    "duration": 12,
    "start_time": "2023-06-15T18:11:59.133Z"
   },
   {
    "duration": 8,
    "start_time": "2023-06-15T18:11:59.147Z"
   },
   {
    "duration": 8,
    "start_time": "2023-06-15T18:11:59.157Z"
   },
   {
    "duration": 6,
    "start_time": "2023-06-15T18:11:59.166Z"
   },
   {
    "duration": 7,
    "start_time": "2023-06-15T18:11:59.173Z"
   },
   {
    "duration": 15,
    "start_time": "2023-06-15T18:11:59.181Z"
   },
   {
    "duration": 18,
    "start_time": "2023-06-15T18:11:59.198Z"
   },
   {
    "duration": 10195,
    "start_time": "2023-06-15T18:11:59.218Z"
   },
   {
    "duration": 9903,
    "start_time": "2023-06-15T18:12:09.416Z"
   },
   {
    "duration": 96,
    "start_time": "2023-06-15T18:12:19.323Z"
   },
   {
    "duration": 87,
    "start_time": "2023-06-15T18:12:19.428Z"
   },
   {
    "duration": 15506,
    "start_time": "2023-06-15T18:12:19.516Z"
   },
   {
    "duration": 15728,
    "start_time": "2023-06-15T18:12:35.025Z"
   },
   {
    "duration": 10,
    "start_time": "2023-06-15T18:12:50.755Z"
   },
   {
    "duration": 35,
    "start_time": "2023-06-15T18:12:50.767Z"
   },
   {
    "duration": 5885,
    "start_time": "2023-06-15T18:12:50.804Z"
   },
   {
    "duration": 0,
    "start_time": "2023-06-15T18:12:56.692Z"
   },
   {
    "duration": 0,
    "start_time": "2023-06-15T18:12:56.693Z"
   },
   {
    "duration": 0,
    "start_time": "2023-06-15T18:12:56.695Z"
   },
   {
    "duration": 7,
    "start_time": "2023-06-15T18:16:45.127Z"
   },
   {
    "duration": 1002,
    "start_time": "2023-06-15T18:16:45.591Z"
   },
   {
    "duration": 1452,
    "start_time": "2023-06-15T18:17:11.571Z"
   },
   {
    "duration": 2154,
    "start_time": "2023-06-15T18:17:13.026Z"
   },
   {
    "duration": 24,
    "start_time": "2023-06-15T18:17:15.182Z"
   },
   {
    "duration": 7,
    "start_time": "2023-06-15T18:17:15.208Z"
   },
   {
    "duration": 799,
    "start_time": "2023-06-15T18:17:15.217Z"
   },
   {
    "duration": 4,
    "start_time": "2023-06-15T18:17:16.018Z"
   },
   {
    "duration": 328,
    "start_time": "2023-06-15T18:17:16.024Z"
   },
   {
    "duration": 7,
    "start_time": "2023-06-15T18:17:16.353Z"
   },
   {
    "duration": 33,
    "start_time": "2023-06-15T18:17:16.362Z"
   },
   {
    "duration": 22,
    "start_time": "2023-06-15T18:17:16.398Z"
   },
   {
    "duration": 26,
    "start_time": "2023-06-15T18:17:16.422Z"
   },
   {
    "duration": 24,
    "start_time": "2023-06-15T18:17:16.449Z"
   },
   {
    "duration": 30,
    "start_time": "2023-06-15T18:17:16.475Z"
   },
   {
    "duration": 14,
    "start_time": "2023-06-15T18:17:16.507Z"
   },
   {
    "duration": 39,
    "start_time": "2023-06-15T18:17:16.523Z"
   },
   {
    "duration": 17,
    "start_time": "2023-06-15T18:17:16.564Z"
   },
   {
    "duration": 5,
    "start_time": "2023-06-15T18:17:19.011Z"
   },
   {
    "duration": 23192,
    "start_time": "2023-06-15T18:17:19.515Z"
   },
   {
    "duration": 4,
    "start_time": "2023-06-15T18:17:42.710Z"
   },
   {
    "duration": 21,
    "start_time": "2023-06-15T18:17:42.715Z"
   },
   {
    "duration": 21,
    "start_time": "2023-06-15T18:17:42.738Z"
   },
   {
    "duration": 15,
    "start_time": "2023-06-15T18:17:42.761Z"
   },
   {
    "duration": 29,
    "start_time": "2023-06-15T18:17:42.778Z"
   },
   {
    "duration": 8,
    "start_time": "2023-06-15T18:17:42.809Z"
   },
   {
    "duration": 20,
    "start_time": "2023-06-15T18:17:42.819Z"
   },
   {
    "duration": 21,
    "start_time": "2023-06-15T18:17:42.841Z"
   },
   {
    "duration": 18,
    "start_time": "2023-06-15T18:17:42.866Z"
   },
   {
    "duration": 36,
    "start_time": "2023-06-15T18:17:42.886Z"
   },
   {
    "duration": 1431,
    "start_time": "2023-06-15T18:17:42.924Z"
   },
   {
    "duration": 987,
    "start_time": "2023-06-15T18:17:44.357Z"
   },
   {
    "duration": 944,
    "start_time": "2023-06-15T18:17:45.346Z"
   },
   {
    "duration": 600,
    "start_time": "2023-06-15T18:17:46.293Z"
   },
   {
    "duration": 6,
    "start_time": "2023-06-15T18:17:46.895Z"
   },
   {
    "duration": 24,
    "start_time": "2023-06-15T18:17:46.902Z"
   },
   {
    "duration": 1770,
    "start_time": "2023-06-15T18:17:46.928Z"
   },
   {
    "duration": 21,
    "start_time": "2023-06-15T18:17:48.700Z"
   },
   {
    "duration": 9,
    "start_time": "2023-06-15T18:17:48.722Z"
   },
   {
    "duration": 71,
    "start_time": "2023-06-15T18:19:02.076Z"
   },
   {
    "duration": 2,
    "start_time": "2023-06-15T18:19:19.368Z"
   },
   {
    "duration": 3,
    "start_time": "2023-06-15T18:19:19.565Z"
   },
   {
    "duration": 5,
    "start_time": "2023-06-15T18:19:19.755Z"
   },
   {
    "duration": 7,
    "start_time": "2023-06-15T18:19:19.918Z"
   },
   {
    "duration": 4,
    "start_time": "2023-06-15T18:19:20.127Z"
   },
   {
    "duration": 14,
    "start_time": "2023-06-15T18:19:20.369Z"
   },
   {
    "duration": 6,
    "start_time": "2023-06-15T18:19:20.632Z"
   },
   {
    "duration": 5,
    "start_time": "2023-06-15T18:19:20.911Z"
   },
   {
    "duration": 2951,
    "start_time": "2023-06-15T18:19:21.910Z"
   },
   {
    "duration": 398,
    "start_time": "2023-06-15T18:19:24.864Z"
   },
   {
    "duration": 4,
    "start_time": "2023-06-15T18:19:25.264Z"
   },
   {
    "duration": 43,
    "start_time": "2023-06-15T18:19:26.072Z"
   },
   {
    "duration": 54,
    "start_time": "2023-06-15T18:19:32.305Z"
   },
   {
    "duration": 5,
    "start_time": "2023-06-15T18:19:32.975Z"
   },
   {
    "duration": 6,
    "start_time": "2023-06-15T18:19:33.822Z"
   },
   {
    "duration": 12,
    "start_time": "2023-06-15T18:19:35.758Z"
   },
   {
    "duration": 5,
    "start_time": "2023-06-15T18:19:36.711Z"
   },
   {
    "duration": 4,
    "start_time": "2023-06-15T18:19:38.255Z"
   },
   {
    "duration": 4,
    "start_time": "2023-06-15T18:19:39.037Z"
   },
   {
    "duration": 3,
    "start_time": "2023-06-15T18:19:42.012Z"
   },
   {
    "duration": 5,
    "start_time": "2023-06-15T18:19:42.811Z"
   },
   {
    "duration": 5,
    "start_time": "2023-06-15T18:19:43.270Z"
   },
   {
    "duration": 4,
    "start_time": "2023-06-15T18:19:44.011Z"
   },
   {
    "duration": 1281,
    "start_time": "2023-06-15T18:19:50.451Z"
   },
   {
    "duration": 3231,
    "start_time": "2023-06-15T18:20:27.803Z"
   },
   {
    "duration": 68,
    "start_time": "2023-06-15T18:22:05.962Z"
   },
   {
    "duration": 6,
    "start_time": "2023-06-15T18:22:09.833Z"
   },
   {
    "duration": 14,
    "start_time": "2023-06-15T18:22:34.329Z"
   },
   {
    "duration": 6,
    "start_time": "2023-06-15T18:24:48.308Z"
   },
   {
    "duration": 10,
    "start_time": "2023-06-15T18:25:01.507Z"
   },
   {
    "duration": 9,
    "start_time": "2023-06-15T18:25:31.855Z"
   },
   {
    "duration": 172,
    "start_time": "2023-06-15T18:27:25.869Z"
   },
   {
    "duration": 12,
    "start_time": "2023-06-15T18:27:46.208Z"
   },
   {
    "duration": 12,
    "start_time": "2023-06-15T18:28:03.207Z"
   },
   {
    "duration": 1547,
    "start_time": "2023-06-15T18:29:08.403Z"
   },
   {
    "duration": 2118,
    "start_time": "2023-06-15T18:29:09.952Z"
   },
   {
    "duration": 32,
    "start_time": "2023-06-15T18:29:12.073Z"
   },
   {
    "duration": 4,
    "start_time": "2023-06-15T18:29:12.108Z"
   },
   {
    "duration": 810,
    "start_time": "2023-06-15T18:29:12.115Z"
   },
   {
    "duration": 4,
    "start_time": "2023-06-15T18:29:12.927Z"
   },
   {
    "duration": 331,
    "start_time": "2023-06-15T18:29:12.933Z"
   },
   {
    "duration": 38,
    "start_time": "2023-06-15T18:29:13.266Z"
   },
   {
    "duration": 20,
    "start_time": "2023-06-15T18:29:13.306Z"
   },
   {
    "duration": 14,
    "start_time": "2023-06-15T18:29:15.087Z"
   },
   {
    "duration": 10,
    "start_time": "2023-06-15T18:29:15.902Z"
   },
   {
    "duration": 8,
    "start_time": "2023-06-15T18:29:17.442Z"
   },
   {
    "duration": 10,
    "start_time": "2023-06-15T18:29:18.713Z"
   },
   {
    "duration": 6,
    "start_time": "2023-06-15T18:29:19.146Z"
   },
   {
    "duration": 12,
    "start_time": "2023-06-15T18:29:20.409Z"
   },
   {
    "duration": 10,
    "start_time": "2023-06-15T18:29:21.006Z"
   },
   {
    "duration": 5,
    "start_time": "2023-06-15T18:29:22.146Z"
   },
   {
    "duration": 27802,
    "start_time": "2023-06-15T18:29:22.569Z"
   },
   {
    "duration": 5,
    "start_time": "2023-06-15T18:29:50.373Z"
   },
   {
    "duration": 15,
    "start_time": "2023-06-15T18:29:50.379Z"
   },
   {
    "duration": 4,
    "start_time": "2023-06-15T18:29:50.396Z"
   },
   {
    "duration": 9,
    "start_time": "2023-06-15T18:30:04.603Z"
   },
   {
    "duration": 8,
    "start_time": "2023-06-15T18:30:05.306Z"
   },
   {
    "duration": 2,
    "start_time": "2023-06-15T18:30:07.406Z"
   },
   {
    "duration": 3,
    "start_time": "2023-06-15T18:30:07.553Z"
   },
   {
    "duration": 3,
    "start_time": "2023-06-15T18:30:07.741Z"
   },
   {
    "duration": 3,
    "start_time": "2023-06-15T18:30:07.971Z"
   },
   {
    "duration": 7,
    "start_time": "2023-06-15T18:30:11.911Z"
   },
   {
    "duration": 1418,
    "start_time": "2023-06-15T18:30:12.713Z"
   },
   {
    "duration": 1044,
    "start_time": "2023-06-15T18:30:14.133Z"
   },
   {
    "duration": 963,
    "start_time": "2023-06-15T18:30:15.179Z"
   },
   {
    "duration": 873,
    "start_time": "2023-06-15T18:30:19.120Z"
   },
   {
    "duration": 5,
    "start_time": "2023-06-15T18:30:25.603Z"
   },
   {
    "duration": 6,
    "start_time": "2023-06-15T18:30:25.810Z"
   },
   {
    "duration": 1778,
    "start_time": "2023-06-15T18:30:43.700Z"
   },
   {
    "duration": 3,
    "start_time": "2023-06-15T18:30:56.937Z"
   },
   {
    "duration": 3,
    "start_time": "2023-06-15T18:30:57.257Z"
   },
   {
    "duration": 4,
    "start_time": "2023-06-15T18:30:57.577Z"
   },
   {
    "duration": 8,
    "start_time": "2023-06-15T18:30:57.977Z"
   },
   {
    "duration": 5,
    "start_time": "2023-06-15T18:30:58.342Z"
   },
   {
    "duration": 22,
    "start_time": "2023-06-15T18:30:58.675Z"
   },
   {
    "duration": 6,
    "start_time": "2023-06-15T18:30:58.978Z"
   },
   {
    "duration": 5,
    "start_time": "2023-06-15T18:30:59.307Z"
   },
   {
    "duration": 3306,
    "start_time": "2023-06-15T18:30:59.846Z"
   },
   {
    "duration": 533,
    "start_time": "2023-06-15T18:31:05.142Z"
   },
   {
    "duration": 8,
    "start_time": "2023-06-15T18:31:09.975Z"
   },
   {
    "duration": 1290,
    "start_time": "2023-06-15T18:31:10.329Z"
   },
   {
    "duration": 0,
    "start_time": "2023-06-15T18:31:11.621Z"
   },
   {
    "duration": 1507,
    "start_time": "2023-06-15T18:31:33.407Z"
   },
   {
    "duration": 2036,
    "start_time": "2023-06-15T18:31:34.917Z"
   },
   {
    "duration": 27,
    "start_time": "2023-06-15T18:31:36.956Z"
   },
   {
    "duration": 14,
    "start_time": "2023-06-15T18:31:36.985Z"
   },
   {
    "duration": 751,
    "start_time": "2023-06-15T18:31:37.002Z"
   },
   {
    "duration": 5,
    "start_time": "2023-06-15T18:31:37.755Z"
   },
   {
    "duration": 331,
    "start_time": "2023-06-15T18:31:37.762Z"
   },
   {
    "duration": 18,
    "start_time": "2023-06-15T18:31:38.095Z"
   },
   {
    "duration": 26,
    "start_time": "2023-06-15T18:31:38.115Z"
   },
   {
    "duration": 19,
    "start_time": "2023-06-15T18:31:38.143Z"
   },
   {
    "duration": 24,
    "start_time": "2023-06-15T18:31:38.165Z"
   },
   {
    "duration": 28,
    "start_time": "2023-06-15T18:31:38.192Z"
   },
   {
    "duration": 29,
    "start_time": "2023-06-15T18:31:38.223Z"
   },
   {
    "duration": 23,
    "start_time": "2023-06-15T18:31:38.256Z"
   },
   {
    "duration": 33,
    "start_time": "2023-06-15T18:31:38.281Z"
   },
   {
    "duration": 12,
    "start_time": "2023-06-15T18:31:38.315Z"
   },
   {
    "duration": 34,
    "start_time": "2023-06-15T18:31:38.328Z"
   },
   {
    "duration": 24166,
    "start_time": "2023-06-15T18:31:38.364Z"
   },
   {
    "duration": 5,
    "start_time": "2023-06-15T18:32:02.532Z"
   },
   {
    "duration": 49,
    "start_time": "2023-06-15T18:32:02.539Z"
   },
   {
    "duration": 29,
    "start_time": "2023-06-15T18:32:02.590Z"
   },
   {
    "duration": 38,
    "start_time": "2023-06-15T18:32:02.621Z"
   },
   {
    "duration": 23,
    "start_time": "2023-06-15T18:32:02.661Z"
   },
   {
    "duration": 33,
    "start_time": "2023-06-15T18:32:02.686Z"
   },
   {
    "duration": 24,
    "start_time": "2023-06-15T18:32:02.721Z"
   },
   {
    "duration": 20,
    "start_time": "2023-06-15T18:32:02.747Z"
   },
   {
    "duration": 24,
    "start_time": "2023-06-15T18:32:02.769Z"
   },
   {
    "duration": 36,
    "start_time": "2023-06-15T18:32:02.795Z"
   },
   {
    "duration": 1480,
    "start_time": "2023-06-15T18:32:02.833Z"
   },
   {
    "duration": 1019,
    "start_time": "2023-06-15T18:32:04.315Z"
   },
   {
    "duration": 979,
    "start_time": "2023-06-15T18:32:05.335Z"
   },
   {
    "duration": 560,
    "start_time": "2023-06-15T18:32:06.316Z"
   },
   {
    "duration": 5,
    "start_time": "2023-06-15T18:32:06.878Z"
   },
   {
    "duration": 12,
    "start_time": "2023-06-15T18:32:06.884Z"
   },
   {
    "duration": 1679,
    "start_time": "2023-06-15T18:32:06.898Z"
   },
   {
    "duration": 16,
    "start_time": "2023-06-15T18:32:08.580Z"
   },
   {
    "duration": 21,
    "start_time": "2023-06-15T18:32:08.598Z"
   },
   {
    "duration": 65,
    "start_time": "2023-06-15T18:32:08.621Z"
   },
   {
    "duration": 7,
    "start_time": "2023-06-15T18:32:08.688Z"
   },
   {
    "duration": 18,
    "start_time": "2023-06-15T18:32:08.696Z"
   },
   {
    "duration": 19,
    "start_time": "2023-06-15T18:32:08.720Z"
   },
   {
    "duration": 7,
    "start_time": "2023-06-15T18:32:08.741Z"
   },
   {
    "duration": 9,
    "start_time": "2023-06-15T18:32:08.750Z"
   },
   {
    "duration": 22,
    "start_time": "2023-06-15T18:32:08.761Z"
   },
   {
    "duration": 6,
    "start_time": "2023-06-15T18:32:08.785Z"
   },
   {
    "duration": 16,
    "start_time": "2023-06-15T18:32:08.793Z"
   },
   {
    "duration": 2915,
    "start_time": "2023-06-15T18:32:08.811Z"
   },
   {
    "duration": 433,
    "start_time": "2023-06-15T18:32:11.729Z"
   },
   {
    "duration": 4,
    "start_time": "2023-06-15T18:32:12.164Z"
   },
   {
    "duration": 55,
    "start_time": "2023-06-15T18:32:12.170Z"
   },
   {
    "duration": 66,
    "start_time": "2023-06-15T18:32:12.227Z"
   },
   {
    "duration": 22,
    "start_time": "2023-06-15T18:32:12.296Z"
   },
   {
    "duration": 13,
    "start_time": "2023-06-15T18:32:12.319Z"
   },
   {
    "duration": 12,
    "start_time": "2023-06-15T18:32:12.334Z"
   },
   {
    "duration": 9,
    "start_time": "2023-06-15T18:32:12.348Z"
   },
   {
    "duration": 215,
    "start_time": "2023-06-15T18:32:12.359Z"
   },
   {
    "duration": 3,
    "start_time": "2023-06-15T18:32:12.576Z"
   },
   {
    "duration": 10,
    "start_time": "2023-06-15T18:32:12.581Z"
   },
   {
    "duration": 7,
    "start_time": "2023-06-15T18:32:12.592Z"
   },
   {
    "duration": 7,
    "start_time": "2023-06-15T18:32:12.612Z"
   },
   {
    "duration": 7,
    "start_time": "2023-06-15T18:32:12.621Z"
   },
   {
    "duration": 7,
    "start_time": "2023-06-15T18:32:12.629Z"
   },
   {
    "duration": 1840,
    "start_time": "2023-06-15T18:32:12.638Z"
   },
   {
    "duration": 0,
    "start_time": "2023-06-15T18:32:14.481Z"
   },
   {
    "duration": 1,
    "start_time": "2023-06-15T18:32:14.483Z"
   },
   {
    "duration": 0,
    "start_time": "2023-06-15T18:32:14.485Z"
   },
   {
    "duration": 0,
    "start_time": "2023-06-15T18:32:14.486Z"
   },
   {
    "duration": 0,
    "start_time": "2023-06-15T18:32:14.487Z"
   },
   {
    "duration": 0,
    "start_time": "2023-06-15T18:32:14.490Z"
   },
   {
    "duration": 0,
    "start_time": "2023-06-15T18:32:14.491Z"
   },
   {
    "duration": 0,
    "start_time": "2023-06-15T18:32:14.492Z"
   },
   {
    "duration": 0,
    "start_time": "2023-06-15T18:32:14.514Z"
   },
   {
    "duration": 0,
    "start_time": "2023-06-15T18:32:14.515Z"
   },
   {
    "duration": 0,
    "start_time": "2023-06-15T18:32:14.517Z"
   },
   {
    "duration": 6248,
    "start_time": "2023-06-15T18:41:08.815Z"
   },
   {
    "duration": 4,
    "start_time": "2023-06-15T18:41:46.720Z"
   },
   {
    "duration": 48,
    "start_time": "2023-06-15T18:41:57.534Z"
   },
   {
    "duration": 4,
    "start_time": "2023-06-15T18:42:06.099Z"
   },
   {
    "duration": 7244,
    "start_time": "2023-06-15T18:44:30.708Z"
   },
   {
    "duration": 51,
    "start_time": "2023-06-15T18:45:55.911Z"
   },
   {
    "duration": 1505,
    "start_time": "2023-06-15T18:46:09.036Z"
   },
   {
    "duration": 2093,
    "start_time": "2023-06-15T18:46:10.543Z"
   },
   {
    "duration": 30,
    "start_time": "2023-06-15T18:46:12.639Z"
   },
   {
    "duration": 3,
    "start_time": "2023-06-15T18:46:12.672Z"
   },
   {
    "duration": 769,
    "start_time": "2023-06-15T18:46:12.677Z"
   },
   {
    "duration": 5,
    "start_time": "2023-06-15T18:46:13.448Z"
   },
   {
    "duration": 339,
    "start_time": "2023-06-15T18:46:13.454Z"
   },
   {
    "duration": 7,
    "start_time": "2023-06-15T18:46:13.795Z"
   },
   {
    "duration": 23,
    "start_time": "2023-06-15T18:46:13.814Z"
   },
   {
    "duration": 18,
    "start_time": "2023-06-15T18:46:13.840Z"
   },
   {
    "duration": 14,
    "start_time": "2023-06-15T18:46:13.861Z"
   },
   {
    "duration": 43,
    "start_time": "2023-06-15T18:46:13.877Z"
   },
   {
    "duration": 9,
    "start_time": "2023-06-15T18:46:13.922Z"
   },
   {
    "duration": 13,
    "start_time": "2023-06-15T18:46:13.933Z"
   },
   {
    "duration": 21,
    "start_time": "2023-06-15T18:46:13.947Z"
   },
   {
    "duration": 12,
    "start_time": "2023-06-15T18:46:13.971Z"
   },
   {
    "duration": 15,
    "start_time": "2023-06-15T18:46:13.985Z"
   },
   {
    "duration": 33610,
    "start_time": "2023-06-15T18:46:14.013Z"
   },
   {
    "duration": 5,
    "start_time": "2023-06-15T18:46:47.625Z"
   },
   {
    "duration": 29,
    "start_time": "2023-06-15T18:46:47.633Z"
   },
   {
    "duration": 31,
    "start_time": "2023-06-15T18:46:47.664Z"
   },
   {
    "duration": 59,
    "start_time": "2023-06-15T18:46:47.697Z"
   },
   {
    "duration": 41,
    "start_time": "2023-06-15T18:46:47.758Z"
   },
   {
    "duration": 40,
    "start_time": "2023-06-15T18:46:47.801Z"
   },
   {
    "duration": 51,
    "start_time": "2023-06-15T18:46:47.843Z"
   },
   {
    "duration": 43,
    "start_time": "2023-06-15T18:46:47.896Z"
   },
   {
    "duration": 34,
    "start_time": "2023-06-15T18:46:47.941Z"
   },
   {
    "duration": 19,
    "start_time": "2023-06-15T18:46:47.976Z"
   },
   {
    "duration": 1418,
    "start_time": "2023-06-15T18:46:47.997Z"
   },
   {
    "duration": 1185,
    "start_time": "2023-06-15T18:46:49.417Z"
   },
   {
    "duration": 971,
    "start_time": "2023-06-15T18:46:50.604Z"
   },
   {
    "duration": 693,
    "start_time": "2023-06-15T18:46:51.577Z"
   },
   {
    "duration": 5,
    "start_time": "2023-06-15T18:46:52.272Z"
   },
   {
    "duration": 21,
    "start_time": "2023-06-15T18:46:52.279Z"
   },
   {
    "duration": 1797,
    "start_time": "2023-06-15T18:46:52.302Z"
   },
   {
    "duration": 8,
    "start_time": "2023-06-15T18:47:11.093Z"
   },
   {
    "duration": 16,
    "start_time": "2023-06-15T18:47:18.528Z"
   },
   {
    "duration": 11,
    "start_time": "2023-06-15T18:47:18.944Z"
   },
   {
    "duration": 5,
    "start_time": "2023-06-15T18:47:19.508Z"
   },
   {
    "duration": 71,
    "start_time": "2023-06-15T18:47:20.019Z"
   },
   {
    "duration": 8,
    "start_time": "2023-06-15T18:47:20.857Z"
   },
   {
    "duration": 167,
    "start_time": "2023-06-15T18:48:04.849Z"
   },
   {
    "duration": 7,
    "start_time": "2023-06-15T18:48:17.548Z"
   },
   {
    "duration": 7203,
    "start_time": "2023-06-15T18:48:19.753Z"
   },
   {
    "duration": 3,
    "start_time": "2023-06-15T18:48:48.015Z"
   },
   {
    "duration": 3,
    "start_time": "2023-06-15T18:48:48.440Z"
   },
   {
    "duration": 5,
    "start_time": "2023-06-15T18:48:49.110Z"
   },
   {
    "duration": 5,
    "start_time": "2023-06-15T18:48:52.408Z"
   },
   {
    "duration": 4,
    "start_time": "2023-06-15T18:48:53.252Z"
   },
   {
    "duration": 6143,
    "start_time": "2023-06-15T18:48:55.791Z"
   },
   {
    "duration": 1826,
    "start_time": "2023-06-16T15:27:20.017Z"
   },
   {
    "duration": 2679,
    "start_time": "2023-06-16T15:27:21.846Z"
   },
   {
    "duration": 34,
    "start_time": "2023-06-16T15:27:24.527Z"
   },
   {
    "duration": 4,
    "start_time": "2023-06-16T15:27:24.565Z"
   },
   {
    "duration": 2299,
    "start_time": "2023-06-16T15:27:24.570Z"
   },
   {
    "duration": 4,
    "start_time": "2023-06-16T15:27:26.871Z"
   },
   {
    "duration": 343,
    "start_time": "2023-06-16T15:27:26.876Z"
   },
   {
    "duration": 7,
    "start_time": "2023-06-16T15:27:27.221Z"
   },
   {
    "duration": 41,
    "start_time": "2023-06-16T15:27:27.229Z"
   },
   {
    "duration": 31,
    "start_time": "2023-06-16T15:27:27.273Z"
   },
   {
    "duration": 15,
    "start_time": "2023-06-16T15:27:27.306Z"
   },
   {
    "duration": 10,
    "start_time": "2023-06-16T15:27:27.324Z"
   },
   {
    "duration": 39,
    "start_time": "2023-06-16T15:27:27.355Z"
   },
   {
    "duration": 30,
    "start_time": "2023-06-16T15:27:27.396Z"
   },
   {
    "duration": 19,
    "start_time": "2023-06-16T15:27:27.428Z"
   },
   {
    "duration": 38,
    "start_time": "2023-06-16T15:27:27.449Z"
   },
   {
    "duration": 18,
    "start_time": "2023-06-16T15:27:27.489Z"
   },
   {
    "duration": 37020,
    "start_time": "2023-06-16T15:27:27.509Z"
   },
   {
    "duration": 4,
    "start_time": "2023-06-16T15:28:04.532Z"
   },
   {
    "duration": 28,
    "start_time": "2023-06-16T15:28:04.538Z"
   },
   {
    "duration": 36,
    "start_time": "2023-06-16T15:28:04.568Z"
   },
   {
    "duration": 29,
    "start_time": "2023-06-16T15:28:04.606Z"
   },
   {
    "duration": 37,
    "start_time": "2023-06-16T15:28:04.636Z"
   },
   {
    "duration": 28,
    "start_time": "2023-06-16T15:28:04.675Z"
   },
   {
    "duration": 9,
    "start_time": "2023-06-16T15:28:04.706Z"
   },
   {
    "duration": 14,
    "start_time": "2023-06-16T15:28:04.717Z"
   },
   {
    "duration": 7,
    "start_time": "2023-06-16T15:28:04.733Z"
   },
   {
    "duration": 30,
    "start_time": "2023-06-16T15:28:04.741Z"
   },
   {
    "duration": 1492,
    "start_time": "2023-06-16T15:28:04.773Z"
   },
   {
    "duration": 1068,
    "start_time": "2023-06-16T15:28:06.267Z"
   },
   {
    "duration": 1005,
    "start_time": "2023-06-16T15:28:07.337Z"
   },
   {
    "duration": 1137,
    "start_time": "2023-06-16T15:28:14.207Z"
   },
   {
    "duration": 550,
    "start_time": "2023-06-16T15:28:17.173Z"
   },
   {
    "duration": 6,
    "start_time": "2023-06-16T15:28:20.464Z"
   },
   {
    "duration": 6,
    "start_time": "2023-06-16T15:28:20.636Z"
   },
   {
    "duration": 1534,
    "start_time": "2023-06-16T15:28:25.949Z"
   },
   {
    "duration": 4,
    "start_time": "2023-06-16T15:29:11.306Z"
   },
   {
    "duration": 14,
    "start_time": "2023-06-16T15:29:14.996Z"
   },
   {
    "duration": 13,
    "start_time": "2023-06-16T15:29:15.251Z"
   },
   {
    "duration": 4,
    "start_time": "2023-06-16T15:29:16.375Z"
   },
   {
    "duration": 68,
    "start_time": "2023-06-16T15:29:18.952Z"
   },
   {
    "duration": 10,
    "start_time": "2023-06-16T15:29:22.115Z"
   },
   {
    "duration": 3,
    "start_time": "2023-06-16T15:29:28.506Z"
   },
   {
    "duration": 3,
    "start_time": "2023-06-16T15:29:28.670Z"
   },
   {
    "duration": 5,
    "start_time": "2023-06-16T15:29:28.822Z"
   },
   {
    "duration": 6,
    "start_time": "2023-06-16T15:29:29.011Z"
   },
   {
    "duration": 4,
    "start_time": "2023-06-16T15:29:29.193Z"
   },
   {
    "duration": 15,
    "start_time": "2023-06-16T15:29:29.393Z"
   },
   {
    "duration": 5,
    "start_time": "2023-06-16T15:29:29.717Z"
   },
   {
    "duration": 6,
    "start_time": "2023-06-16T15:29:30.000Z"
   },
   {
    "duration": 2702,
    "start_time": "2023-06-16T15:29:30.493Z"
   },
   {
    "duration": 393,
    "start_time": "2023-06-16T15:29:51.627Z"
   },
   {
    "duration": 13,
    "start_time": "2023-06-16T15:30:55.671Z"
   },
   {
    "duration": 6117,
    "start_time": "2023-06-16T15:31:14.313Z"
   },
   {
    "duration": 41,
    "start_time": "2023-06-16T15:31:26.033Z"
   },
   {
    "duration": 3,
    "start_time": "2023-06-16T15:31:56.200Z"
   },
   {
    "duration": 21,
    "start_time": "2023-06-16T15:33:05.208Z"
   },
   {
    "duration": 45,
    "start_time": "2023-06-16T15:33:07.535Z"
   },
   {
    "duration": 13,
    "start_time": "2023-06-16T15:34:14.897Z"
   },
   {
    "duration": 39,
    "start_time": "2023-06-16T15:34:17.395Z"
   },
   {
    "duration": 1585,
    "start_time": "2023-06-16T15:34:41.331Z"
   },
   {
    "duration": 2212,
    "start_time": "2023-06-16T15:34:42.920Z"
   },
   {
    "duration": 27,
    "start_time": "2023-06-16T15:34:45.134Z"
   },
   {
    "duration": 6,
    "start_time": "2023-06-16T15:34:45.168Z"
   },
   {
    "duration": 871,
    "start_time": "2023-06-16T15:34:45.175Z"
   },
   {
    "duration": 5,
    "start_time": "2023-06-16T15:34:46.048Z"
   },
   {
    "duration": 362,
    "start_time": "2023-06-16T15:34:46.056Z"
   },
   {
    "duration": 7,
    "start_time": "2023-06-16T15:34:46.420Z"
   },
   {
    "duration": 40,
    "start_time": "2023-06-16T15:34:46.428Z"
   },
   {
    "duration": 16,
    "start_time": "2023-06-16T15:34:46.472Z"
   },
   {
    "duration": 33,
    "start_time": "2023-06-16T15:34:46.490Z"
   },
   {
    "duration": 11,
    "start_time": "2023-06-16T15:34:46.525Z"
   },
   {
    "duration": 13,
    "start_time": "2023-06-16T15:34:46.538Z"
   },
   {
    "duration": 27,
    "start_time": "2023-06-16T15:34:46.560Z"
   },
   {
    "duration": 16,
    "start_time": "2023-06-16T15:34:46.588Z"
   },
   {
    "duration": 11,
    "start_time": "2023-06-16T15:34:46.607Z"
   },
   {
    "duration": 6,
    "start_time": "2023-06-16T15:34:46.620Z"
   },
   {
    "duration": 37643,
    "start_time": "2023-06-16T15:34:46.628Z"
   },
   {
    "duration": 9,
    "start_time": "2023-06-16T15:35:24.276Z"
   },
   {
    "duration": 26,
    "start_time": "2023-06-16T15:35:24.288Z"
   },
   {
    "duration": 13,
    "start_time": "2023-06-16T15:35:24.316Z"
   },
   {
    "duration": 17,
    "start_time": "2023-06-16T15:35:24.331Z"
   },
   {
    "duration": 22,
    "start_time": "2023-06-16T15:35:24.351Z"
   },
   {
    "duration": 15,
    "start_time": "2023-06-16T15:35:24.375Z"
   },
   {
    "duration": 6,
    "start_time": "2023-06-16T15:35:24.392Z"
   },
   {
    "duration": 7,
    "start_time": "2023-06-16T15:35:24.400Z"
   },
   {
    "duration": 17,
    "start_time": "2023-06-16T15:35:24.409Z"
   },
   {
    "duration": 8,
    "start_time": "2023-06-16T15:35:24.428Z"
   },
   {
    "duration": 1555,
    "start_time": "2023-06-16T15:35:24.438Z"
   },
   {
    "duration": 1145,
    "start_time": "2023-06-16T15:35:25.995Z"
   },
   {
    "duration": 1054,
    "start_time": "2023-06-16T15:35:27.142Z"
   },
   {
    "duration": 695,
    "start_time": "2023-06-16T15:35:28.198Z"
   },
   {
    "duration": 4,
    "start_time": "2023-06-16T15:35:28.895Z"
   },
   {
    "duration": 19,
    "start_time": "2023-06-16T15:35:28.901Z"
   },
   {
    "duration": 1766,
    "start_time": "2023-06-16T15:35:28.921Z"
   },
   {
    "duration": 16,
    "start_time": "2023-06-16T15:35:46.894Z"
   },
   {
    "duration": 11,
    "start_time": "2023-06-16T15:35:47.976Z"
   },
   {
    "duration": 5,
    "start_time": "2023-06-16T15:35:48.695Z"
   },
   {
    "duration": 100,
    "start_time": "2023-06-16T15:35:52.744Z"
   },
   {
    "duration": 12,
    "start_time": "2023-06-16T15:35:55.081Z"
   },
   {
    "duration": 4,
    "start_time": "2023-06-16T15:36:01.001Z"
   },
   {
    "duration": 124,
    "start_time": "2023-06-16T15:36:01.199Z"
   },
   {
    "duration": 167,
    "start_time": "2023-06-16T15:36:01.444Z"
   },
   {
    "duration": 7,
    "start_time": "2023-06-16T15:36:02.295Z"
   },
   {
    "duration": 5,
    "start_time": "2023-06-16T15:36:02.892Z"
   },
   {
    "duration": 38,
    "start_time": "2023-06-16T15:36:03.847Z"
   },
   {
    "duration": 9,
    "start_time": "2023-06-16T15:36:04.680Z"
   },
   {
    "duration": 6,
    "start_time": "2023-06-16T15:36:05.394Z"
   },
   {
    "duration": 7672,
    "start_time": "2023-06-16T15:36:06.405Z"
   },
   {
    "duration": 610,
    "start_time": "2023-06-16T15:36:14.274Z"
   },
   {
    "duration": 5,
    "start_time": "2023-06-16T15:36:17.343Z"
   },
   {
    "duration": 97,
    "start_time": "2023-06-16T15:36:18.372Z"
   },
   {
    "duration": 67,
    "start_time": "2023-06-16T15:36:24.724Z"
   },
   {
    "duration": 7,
    "start_time": "2023-06-16T15:36:27.303Z"
   },
   {
    "duration": 9,
    "start_time": "2023-06-16T15:36:27.781Z"
   },
   {
    "duration": 15,
    "start_time": "2023-06-16T15:36:28.096Z"
   },
   {
    "duration": 17,
    "start_time": "2023-06-16T15:36:29.581Z"
   },
   {
    "duration": 212,
    "start_time": "2023-06-16T15:36:32.417Z"
   },
   {
    "duration": 5,
    "start_time": "2023-06-16T15:36:33.496Z"
   },
   {
    "duration": 3,
    "start_time": "2023-06-16T15:36:33.935Z"
   },
   {
    "duration": 4,
    "start_time": "2023-06-16T15:36:34.690Z"
   },
   {
    "duration": 7,
    "start_time": "2023-06-16T15:36:35.199Z"
   },
   {
    "duration": 10,
    "start_time": "2023-06-16T15:36:35.470Z"
   },
   {
    "duration": 7,
    "start_time": "2023-06-16T15:36:35.851Z"
   },
   {
    "duration": 22011,
    "start_time": "2023-06-16T15:36:39.586Z"
   },
   {
    "duration": 19075,
    "start_time": "2023-06-16T15:37:05.084Z"
   },
   {
    "duration": 8,
    "start_time": "2023-06-16T15:41:53.874Z"
   },
   {
    "duration": 5,
    "start_time": "2023-06-16T15:41:56.034Z"
   },
   {
    "duration": 15452,
    "start_time": "2023-06-16T15:42:07.032Z"
   },
   {
    "duration": 15694,
    "start_time": "2023-06-16T15:42:22.487Z"
   },
   {
    "duration": 9,
    "start_time": "2023-06-16T15:42:38.182Z"
   },
   {
    "duration": 20,
    "start_time": "2023-06-16T15:42:38.193Z"
   },
   {
    "duration": 698251,
    "start_time": "2023-06-16T15:47:29.912Z"
   },
   {
    "duration": 582319,
    "start_time": "2023-06-16T16:08:26.964Z"
   },
   {
    "duration": 7,
    "start_time": "2023-06-16T16:18:09.285Z"
   },
   {
    "duration": 12,
    "start_time": "2023-06-16T16:18:09.294Z"
   }
  ],
  "kernelspec": {
   "display_name": "Python 3 (ipykernel)",
   "language": "python",
   "name": "python3"
  },
  "language_info": {
   "codemirror_mode": {
    "name": "ipython",
    "version": 3
   },
   "file_extension": ".py",
   "mimetype": "text/x-python",
   "name": "python",
   "nbconvert_exporter": "python",
   "pygments_lexer": "ipython3",
   "version": "3.11.1"
  },
  "toc": {
   "base_numbering": 1,
   "nav_menu": {},
   "number_sections": true,
   "sideBar": true,
   "skip_h1_title": true,
   "title_cell": "Содержание",
   "title_sidebar": "Contents",
   "toc_cell": true,
   "toc_position": {
    "height": "calc(100% - 180px)",
    "left": "10px",
    "top": "150px",
    "width": "165px"
   },
   "toc_section_display": true,
   "toc_window_display": true
  }
 },
 "nbformat": 4,
 "nbformat_minor": 2
}
